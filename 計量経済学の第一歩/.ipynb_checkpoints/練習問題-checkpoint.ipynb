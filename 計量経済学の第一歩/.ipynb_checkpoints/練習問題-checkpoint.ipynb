{
 "cells": [
  {
   "cell_type": "code",
   "execution_count": 8,
   "id": "eb81c7a1-446d-45f5-a2f9-2616019a508d",
   "metadata": {},
   "outputs": [],
   "source": [
    "from statistics import mean, stdev, pvariance, variance\n",
    "import math\n",
    "import numpy as np\n",
    "import pandas as pd"
   ]
  },
  {
   "cell_type": "markdown",
   "id": "415e4621-f3fd-48b8-8034-eb378e1c35ab",
   "metadata": {},
   "source": [
    "# 第二章演習"
   ]
  },
  {
   "cell_type": "code",
   "execution_count": 3,
   "id": "31a8ea0f-6877-4388-8aa5-ed060f7e3428",
   "metadata": {},
   "outputs": [],
   "source": [
    "data = [12, 16, 18, 16, 12, 10, 14, 16, 12, 12]\n",
    "money = [480, 520, 760, 620, 590, 370, 690, 950, 610, 480]"
   ]
  },
  {
   "cell_type": "code",
   "execution_count": 4,
   "id": "df2d1143-e0f0-471f-9883-74475b85b5da",
   "metadata": {},
   "outputs": [
    {
     "name": "stdout",
     "output_type": "stream",
     "text": [
      "5.96\n",
      "24441\n"
     ]
    }
   ],
   "source": [
    "# 母分散\n",
    "print(pvariance(data))\n",
    "print(pvariance(money))"
   ]
  },
  {
   "cell_type": "code",
   "execution_count": 5,
   "id": "b33897a5-1746-448f-82b3-59f61e42231b",
   "metadata": {},
   "outputs": [
    {
     "name": "stdout",
     "output_type": "stream",
     "text": [
      "6.622222222222222\n",
      "27156.666666666668\n"
     ]
    }
   ],
   "source": [
    "# 不偏分散\n",
    "print(variance(data))\n",
    "print(variance(money))"
   ]
  },
  {
   "cell_type": "code",
   "execution_count": 6,
   "id": "fe314bfc-40de-4583-8fb5-13fd0440f2dd",
   "metadata": {},
   "outputs": [
    {
     "data": {
      "text/plain": [
       "array([[ 12,  16,  18,  16,  12,  10,  14,  16,  12,  12],\n",
       "       [480, 520, 760, 620, 590, 370, 690, 950, 610, 480]])"
      ]
     },
     "execution_count": 6,
     "metadata": {},
     "output_type": "execute_result"
    }
   ],
   "source": [
    "np.array([data, money])"
   ]
  },
  {
   "cell_type": "code",
   "execution_count": 7,
   "id": "686ec28b-e591-4fd1-b957-ad1b17fac9c5",
   "metadata": {},
   "outputs": [
    {
     "data": {
      "text/plain": [
       "0.6901335732408652"
      ]
     },
     "execution_count": 7,
     "metadata": {},
     "output_type": "execute_result"
    }
   ],
   "source": [
    "# 相関係数を算出\n",
    "np.cov(data, money)[0,1] / (math.sqrt(variance(data)) * math.sqrt(variance(money)))"
   ]
  },
  {
   "cell_type": "code",
   "execution_count": 21,
   "id": "8439e0a9-4bdc-41c5-9a07-7ae82cfd43af",
   "metadata": {},
   "outputs": [
    {
     "name": "stderr",
     "output_type": "stream",
     "text": [
      "/opt/anaconda3/lib/python3.9/site-packages/openpyxl/worksheet/_reader.py:312: UserWarning: Unknown extension is not supported and will be removed\n",
      "  warn(msg)\n"
     ]
    }
   ],
   "source": [
    "file_path = \"csv/2_income.xlsx\"\n",
    "df = pd.read_excel(file_path)"
   ]
  },
  {
   "cell_type": "code",
   "execution_count": 22,
   "id": "5831d8da-f305-4b6e-971b-87911e56a185",
   "metadata": {},
   "outputs": [
    {
     "data": {
      "text/plain": [
       "(4392, 2)"
      ]
     },
     "execution_count": 22,
     "metadata": {},
     "output_type": "execute_result"
    }
   ],
   "source": [
    "df.shape"
   ]
  },
  {
   "cell_type": "code",
   "execution_count": 23,
   "id": "275104e2-df55-4a25-9668-5f1fe0e9649f",
   "metadata": {},
   "outputs": [
    {
     "data": {
      "text/html": [
       "<div>\n",
       "<style scoped>\n",
       "    .dataframe tbody tr th:only-of-type {\n",
       "        vertical-align: middle;\n",
       "    }\n",
       "\n",
       "    .dataframe tbody tr th {\n",
       "        vertical-align: top;\n",
       "    }\n",
       "\n",
       "    .dataframe thead th {\n",
       "        text-align: right;\n",
       "    }\n",
       "</style>\n",
       "<table border=\"1\" class=\"dataframe\">\n",
       "  <thead>\n",
       "    <tr style=\"text-align: right;\">\n",
       "      <th></th>\n",
       "      <th>yeduc</th>\n",
       "      <th>income</th>\n",
       "    </tr>\n",
       "  </thead>\n",
       "  <tbody>\n",
       "    <tr>\n",
       "      <th>0</th>\n",
       "      <td>9</td>\n",
       "      <td>50.00</td>\n",
       "    </tr>\n",
       "    <tr>\n",
       "      <th>1</th>\n",
       "      <td>9</td>\n",
       "      <td>350.00</td>\n",
       "    </tr>\n",
       "    <tr>\n",
       "      <th>2</th>\n",
       "      <td>9</td>\n",
       "      <td>100.00</td>\n",
       "    </tr>\n",
       "    <tr>\n",
       "      <th>3</th>\n",
       "      <td>9</td>\n",
       "      <td>0.00</td>\n",
       "    </tr>\n",
       "    <tr>\n",
       "      <th>4</th>\n",
       "      <td>9</td>\n",
       "      <td>6.25</td>\n",
       "    </tr>\n",
       "  </tbody>\n",
       "</table>\n",
       "</div>"
      ],
      "text/plain": [
       "   yeduc  income\n",
       "0      9   50.00\n",
       "1      9  350.00\n",
       "2      9  100.00\n",
       "3      9    0.00\n",
       "4      9    6.25"
      ]
     },
     "execution_count": 23,
     "metadata": {},
     "output_type": "execute_result"
    }
   ],
   "source": [
    "df.head()"
   ]
  },
  {
   "cell_type": "code",
   "execution_count": 27,
   "id": "40a13fb3-4021-45c5-9f47-df578527c581",
   "metadata": {},
   "outputs": [
    {
     "name": "stdout",
     "output_type": "stream",
     "text": [
      "258.1326844262295\n",
      "30140.316140858573\n",
      "30147.180252938022\n"
     ]
    }
   ],
   "source": [
    "# 収入に関して\n",
    "# 平均\n",
    "print(df[\"income\"].mean())\n",
    "# 分散\n",
    "print(df[\"income\"].var(ddof=0))\n",
    "# 不偏分散\n",
    "print(df[\"income\"].var(ddof=1))"
   ]
  },
  {
   "cell_type": "code",
   "execution_count": 32,
   "id": "11ddba66-a04a-4537-bcea-ac918502974c",
   "metadata": {},
   "outputs": [
    {
     "name": "stdout",
     "output_type": "stream",
     "text": [
      "13.851775956284152\n",
      "3.5215177931560047\n",
      "3.522319778533631\n"
     ]
    }
   ],
   "source": [
    "# 修学に関して\n",
    "# 平均\n",
    "print(df[\"yeduc\"].mean())\n",
    "# 分散\n",
    "print(df[\"yeduc\"].var(ddof=0))\n",
    "# 不偏分散\n",
    "print(df[\"yeduc\"].var(ddof=1))"
   ]
  },
  {
   "cell_type": "code",
   "execution_count": 33,
   "id": "49e5d1f6-6e58-42b4-8815-2ef6e241bc09",
   "metadata": {},
   "outputs": [
    {
     "data": {
      "text/html": [
       "<div>\n",
       "<style scoped>\n",
       "    .dataframe tbody tr th:only-of-type {\n",
       "        vertical-align: middle;\n",
       "    }\n",
       "\n",
       "    .dataframe tbody tr th {\n",
       "        vertical-align: top;\n",
       "    }\n",
       "\n",
       "    .dataframe thead th {\n",
       "        text-align: right;\n",
       "    }\n",
       "</style>\n",
       "<table border=\"1\" class=\"dataframe\">\n",
       "  <thead>\n",
       "    <tr style=\"text-align: right;\">\n",
       "      <th></th>\n",
       "      <th>yeduc</th>\n",
       "      <th>income</th>\n",
       "    </tr>\n",
       "  </thead>\n",
       "  <tbody>\n",
       "    <tr>\n",
       "      <th>yeduc</th>\n",
       "      <td>3.522320</td>\n",
       "      <td>80.865834</td>\n",
       "    </tr>\n",
       "    <tr>\n",
       "      <th>income</th>\n",
       "      <td>80.865834</td>\n",
       "      <td>30147.180253</td>\n",
       "    </tr>\n",
       "  </tbody>\n",
       "</table>\n",
       "</div>"
      ],
      "text/plain": [
       "            yeduc        income\n",
       "yeduc    3.522320     80.865834\n",
       "income  80.865834  30147.180253"
      ]
     },
     "execution_count": 33,
     "metadata": {},
     "output_type": "execute_result"
    }
   ],
   "source": [
    "# 共分散(不偏分散を使用した場合)\n",
    "df.cov(ddof=1)"
   ]
  },
  {
   "cell_type": "code",
   "execution_count": 34,
   "id": "58daeb20-d141-4c8f-a326-a11126aeb289",
   "metadata": {},
   "outputs": [
    {
     "data": {
      "text/html": [
       "<div>\n",
       "<style scoped>\n",
       "    .dataframe tbody tr th:only-of-type {\n",
       "        vertical-align: middle;\n",
       "    }\n",
       "\n",
       "    .dataframe tbody tr th {\n",
       "        vertical-align: top;\n",
       "    }\n",
       "\n",
       "    .dataframe thead th {\n",
       "        text-align: right;\n",
       "    }\n",
       "</style>\n",
       "<table border=\"1\" class=\"dataframe\">\n",
       "  <thead>\n",
       "    <tr style=\"text-align: right;\">\n",
       "      <th></th>\n",
       "      <th>yeduc</th>\n",
       "      <th>income</th>\n",
       "    </tr>\n",
       "  </thead>\n",
       "  <tbody>\n",
       "    <tr>\n",
       "      <th>yeduc</th>\n",
       "      <td>3.521518</td>\n",
       "      <td>80.847422</td>\n",
       "    </tr>\n",
       "    <tr>\n",
       "      <th>income</th>\n",
       "      <td>80.847422</td>\n",
       "      <td>30140.316141</td>\n",
       "    </tr>\n",
       "  </tbody>\n",
       "</table>\n",
       "</div>"
      ],
      "text/plain": [
       "            yeduc        income\n",
       "yeduc    3.521518     80.847422\n",
       "income  80.847422  30140.316141"
      ]
     },
     "execution_count": 34,
     "metadata": {},
     "output_type": "execute_result"
    }
   ],
   "source": [
    "# 共分散(不偏分散を使用しない場合)\n",
    "df.cov(ddof=0)"
   ]
  },
  {
   "cell_type": "code",
   "execution_count": 31,
   "id": "dd0e9a56-c2a1-4dfb-b1cc-417081be8ba1",
   "metadata": {},
   "outputs": [
    {
     "data": {
      "text/html": [
       "<div>\n",
       "<style scoped>\n",
       "    .dataframe tbody tr th:only-of-type {\n",
       "        vertical-align: middle;\n",
       "    }\n",
       "\n",
       "    .dataframe tbody tr th {\n",
       "        vertical-align: top;\n",
       "    }\n",
       "\n",
       "    .dataframe thead th {\n",
       "        text-align: right;\n",
       "    }\n",
       "</style>\n",
       "<table border=\"1\" class=\"dataframe\">\n",
       "  <thead>\n",
       "    <tr style=\"text-align: right;\">\n",
       "      <th></th>\n",
       "      <th>yeduc</th>\n",
       "      <th>income</th>\n",
       "    </tr>\n",
       "  </thead>\n",
       "  <tbody>\n",
       "    <tr>\n",
       "      <th>yeduc</th>\n",
       "      <td>1.000000</td>\n",
       "      <td>0.248157</td>\n",
       "    </tr>\n",
       "    <tr>\n",
       "      <th>income</th>\n",
       "      <td>0.248157</td>\n",
       "      <td>1.000000</td>\n",
       "    </tr>\n",
       "  </tbody>\n",
       "</table>\n",
       "</div>"
      ],
      "text/plain": [
       "           yeduc    income\n",
       "yeduc   1.000000  0.248157\n",
       "income  0.248157  1.000000"
      ]
     },
     "execution_count": 31,
     "metadata": {},
     "output_type": "execute_result"
    }
   ],
   "source": [
    "# 相関関係\n",
    "df.corr()"
   ]
  },
  {
   "cell_type": "code",
   "execution_count": null,
   "id": "d5b62bb8-6f88-4199-a24b-f13edb7b65a0",
   "metadata": {},
   "outputs": [],
   "source": []
  },
  {
   "cell_type": "markdown",
   "id": "05fa2f42-ba14-46a5-83d6-37a0cf67cbef",
   "metadata": {},
   "source": [
    "# 3章に関して"
   ]
  },
  {
   "cell_type": "markdown",
   "id": "37581184-107c-46d0-a5e4-f39f489edfab",
   "metadata": {},
   "source": [
    "### 平均と期待値の違い\n",
    "平均は標本のデータのみを使用して計算  \n",
    "期待値はそのデータを生み出す母集団の確率分布を使って計算される。つまり、期待値は標本が手に入る前の標本を生むメカニズムを使って計算される。"
   ]
  },
  {
   "cell_type": "markdown",
   "id": "75ecc952-4530-4593-82a9-ead46ee6f6d6",
   "metadata": {},
   "source": [
    "### 独立かどうかを調べるには？？\n",
    "例えば、「朝食を食べている」という事象と「算数 A の平均正答率が 75%以上」という事象が独立かどうかを調べる場合。  \n",
    "P(正答率が 75%以上) の確率とP(「正答率が 75%以上」|「朝食を食べている」) の確率が一致するかどうかを確認する。  \n",
    "一致しない場合は独立でないと判断する。"
   ]
  },
  {
   "cell_type": "code",
   "execution_count": 40,
   "id": "2991494f-f84c-453f-b6e6-7e5055797d20",
   "metadata": {},
   "outputs": [],
   "source": [
    "data ={\n",
    "    \"x_150\":[0.38,0.08],\n",
    "    \"x_450\":[0.28,0.18],\n",
    "    \"x_700\":[0.03,0.05],\n",
    "}"
   ]
  },
  {
   "cell_type": "code",
   "execution_count": 41,
   "id": "cd6d34d6-1387-4e6f-97d3-17e079193bf3",
   "metadata": {},
   "outputs": [
    {
     "data": {
      "text/html": [
       "<div>\n",
       "<style scoped>\n",
       "    .dataframe tbody tr th:only-of-type {\n",
       "        vertical-align: middle;\n",
       "    }\n",
       "\n",
       "    .dataframe tbody tr th {\n",
       "        vertical-align: top;\n",
       "    }\n",
       "\n",
       "    .dataframe thead th {\n",
       "        text-align: right;\n",
       "    }\n",
       "</style>\n",
       "<table border=\"1\" class=\"dataframe\">\n",
       "  <thead>\n",
       "    <tr style=\"text-align: right;\">\n",
       "      <th></th>\n",
       "      <th>x_150</th>\n",
       "      <th>x_450</th>\n",
       "      <th>x_700</th>\n",
       "    </tr>\n",
       "  </thead>\n",
       "  <tbody>\n",
       "    <tr>\n",
       "      <th>0</th>\n",
       "      <td>0.38</td>\n",
       "      <td>0.28</td>\n",
       "      <td>0.03</td>\n",
       "    </tr>\n",
       "    <tr>\n",
       "      <th>1</th>\n",
       "      <td>0.08</td>\n",
       "      <td>0.18</td>\n",
       "      <td>0.05</td>\n",
       "    </tr>\n",
       "  </tbody>\n",
       "</table>\n",
       "</div>"
      ],
      "text/plain": [
       "   x_150  x_450  x_700\n",
       "0   0.38   0.28   0.03\n",
       "1   0.08   0.18   0.05"
      ]
     },
     "execution_count": 41,
     "metadata": {},
     "output_type": "execute_result"
    }
   ],
   "source": [
    "pd.DataFrame(data)"
   ]
  },
  {
   "cell_type": "code",
   "execution_count": null,
   "id": "653fdbb1-2fd7-4bee-8ad4-f5eee49c0744",
   "metadata": {},
   "outputs": [],
   "source": []
  },
  {
   "cell_type": "code",
   "execution_count": null,
   "id": "8dcc0ca5-013e-46ee-af8c-9ff48559f107",
   "metadata": {},
   "outputs": [],
   "source": []
  },
  {
   "cell_type": "code",
   "execution_count": null,
   "id": "82f312a6-8a7b-4765-bbdc-65273f8e1792",
   "metadata": {},
   "outputs": [],
   "source": []
  },
  {
   "cell_type": "code",
   "execution_count": null,
   "id": "c1ef65e6-aba9-481e-8505-2a3af50a481c",
   "metadata": {},
   "outputs": [],
   "source": []
  },
  {
   "cell_type": "code",
   "execution_count": null,
   "id": "f5770ea5-cd0d-4fda-aac2-21f3ebe916e0",
   "metadata": {},
   "outputs": [],
   "source": []
  },
  {
   "cell_type": "code",
   "execution_count": null,
   "id": "2d2fe1eb-4f45-4051-a009-0b60d1ddea6e",
   "metadata": {},
   "outputs": [],
   "source": []
  },
  {
   "cell_type": "code",
   "execution_count": null,
   "id": "5d23e897-905a-42ce-8767-9bfe881acca5",
   "metadata": {},
   "outputs": [],
   "source": []
  },
  {
   "cell_type": "code",
   "execution_count": null,
   "id": "e3dc40c2-4054-4ed4-8197-776c1da8bd3f",
   "metadata": {},
   "outputs": [],
   "source": []
  },
  {
   "cell_type": "code",
   "execution_count": null,
   "id": "88ac22d7-cf33-419f-95f2-a66e1f17f182",
   "metadata": {},
   "outputs": [],
   "source": []
  },
  {
   "cell_type": "code",
   "execution_count": null,
   "id": "8b8b1d7c-3e3c-448e-9e0e-8b7a95af0f78",
   "metadata": {},
   "outputs": [],
   "source": []
  },
  {
   "cell_type": "code",
   "execution_count": null,
   "id": "b29e4daa-02af-43fd-afa2-4e9a9176f1e9",
   "metadata": {},
   "outputs": [],
   "source": []
  },
  {
   "cell_type": "code",
   "execution_count": null,
   "id": "9ada336e-f180-4d70-9171-0de3e1d8b025",
   "metadata": {},
   "outputs": [],
   "source": []
  },
  {
   "cell_type": "code",
   "execution_count": null,
   "id": "6fa92f26-5b23-45af-9037-13082b713065",
   "metadata": {},
   "outputs": [],
   "source": []
  },
  {
   "cell_type": "code",
   "execution_count": null,
   "id": "6eb25d08-d811-4ae9-84c3-d3f82fc7fdef",
   "metadata": {},
   "outputs": [],
   "source": []
  },
  {
   "cell_type": "code",
   "execution_count": null,
   "id": "9d8731b9-86e7-4d35-914e-b87c9662eea0",
   "metadata": {},
   "outputs": [],
   "source": []
  },
  {
   "cell_type": "code",
   "execution_count": null,
   "id": "f8a152bf-a008-42ba-aaa1-08bd47e3fdb9",
   "metadata": {},
   "outputs": [],
   "source": []
  },
  {
   "cell_type": "code",
   "execution_count": null,
   "id": "fcf8e4f7-3048-43c5-97f0-02eac17a73b2",
   "metadata": {},
   "outputs": [],
   "source": []
  },
  {
   "cell_type": "code",
   "execution_count": null,
   "id": "1d497e33-4ab8-4a1c-8b85-066363c8d87f",
   "metadata": {},
   "outputs": [],
   "source": []
  },
  {
   "cell_type": "code",
   "execution_count": null,
   "id": "dd35e5a4-6500-48ff-b66e-9e83a804ccc4",
   "metadata": {},
   "outputs": [],
   "source": []
  },
  {
   "cell_type": "code",
   "execution_count": null,
   "id": "c5d61e44-f1d3-4793-85d3-088b335a2f22",
   "metadata": {},
   "outputs": [],
   "source": []
  }
 ],
 "metadata": {
  "kernelspec": {
   "display_name": "Python 3 (ipykernel)",
   "language": "python",
   "name": "python3"
  },
  "language_info": {
   "codemirror_mode": {
    "name": "ipython",
    "version": 3
   },
   "file_extension": ".py",
   "mimetype": "text/x-python",
   "name": "python",
   "nbconvert_exporter": "python",
   "pygments_lexer": "ipython3",
   "version": "3.9.12"
  }
 },
 "nbformat": 4,
 "nbformat_minor": 5
}
