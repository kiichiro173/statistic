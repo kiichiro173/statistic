{
 "cells": [
  {
   "cell_type": "code",
   "execution_count": 6,
   "id": "eb81c7a1-446d-45f5-a2f9-2616019a508d",
   "metadata": {},
   "outputs": [],
   "source": [
    "from statistics import mean, stdev, pvariance, variance\n",
    "import math\n",
    "import numpy as np\n",
    "import pandas as pd\n",
    "import statsmodels.api as sm"
   ]
  },
  {
   "cell_type": "markdown",
   "id": "415e4621-f3fd-48b8-8034-eb378e1c35ab",
   "metadata": {},
   "source": [
    "# 第二章演習"
   ]
  },
  {
   "cell_type": "code",
   "execution_count": 3,
   "id": "31a8ea0f-6877-4388-8aa5-ed060f7e3428",
   "metadata": {},
   "outputs": [],
   "source": [
    "data = [12, 16, 18, 16, 12, 10, 14, 16, 12, 12]\n",
    "money = [480, 520, 760, 620, 590, 370, 690, 950, 610, 480]"
   ]
  },
  {
   "cell_type": "code",
   "execution_count": 4,
   "id": "df2d1143-e0f0-471f-9883-74475b85b5da",
   "metadata": {},
   "outputs": [
    {
     "name": "stdout",
     "output_type": "stream",
     "text": [
      "5.96\n",
      "24441\n"
     ]
    }
   ],
   "source": [
    "# 母分散\n",
    "print(pvariance(data))\n",
    "print(pvariance(money))"
   ]
  },
  {
   "cell_type": "code",
   "execution_count": 5,
   "id": "b33897a5-1746-448f-82b3-59f61e42231b",
   "metadata": {},
   "outputs": [
    {
     "name": "stdout",
     "output_type": "stream",
     "text": [
      "6.622222222222222\n",
      "27156.666666666668\n"
     ]
    }
   ],
   "source": [
    "# 不偏分散\n",
    "print(variance(data))\n",
    "print(variance(money))"
   ]
  },
  {
   "cell_type": "code",
   "execution_count": 6,
   "id": "fe314bfc-40de-4583-8fb5-13fd0440f2dd",
   "metadata": {},
   "outputs": [
    {
     "data": {
      "text/plain": [
       "array([[ 12,  16,  18,  16,  12,  10,  14,  16,  12,  12],\n",
       "       [480, 520, 760, 620, 590, 370, 690, 950, 610, 480]])"
      ]
     },
     "execution_count": 6,
     "metadata": {},
     "output_type": "execute_result"
    }
   ],
   "source": [
    "np.array([data, money])"
   ]
  },
  {
   "cell_type": "code",
   "execution_count": 7,
   "id": "686ec28b-e591-4fd1-b957-ad1b17fac9c5",
   "metadata": {},
   "outputs": [
    {
     "data": {
      "text/plain": [
       "0.6901335732408652"
      ]
     },
     "execution_count": 7,
     "metadata": {},
     "output_type": "execute_result"
    }
   ],
   "source": [
    "# 相関係数を算出\n",
    "np.cov(data, money)[0,1] / (math.sqrt(variance(data)) * math.sqrt(variance(money)))"
   ]
  },
  {
   "cell_type": "code",
   "execution_count": 21,
   "id": "8439e0a9-4bdc-41c5-9a07-7ae82cfd43af",
   "metadata": {},
   "outputs": [
    {
     "name": "stderr",
     "output_type": "stream",
     "text": [
      "/opt/anaconda3/lib/python3.9/site-packages/openpyxl/worksheet/_reader.py:312: UserWarning: Unknown extension is not supported and will be removed\n",
      "  warn(msg)\n"
     ]
    }
   ],
   "source": [
    "file_path = \"csv/2_income.xlsx\"\n",
    "df = pd.read_excel(file_path)"
   ]
  },
  {
   "cell_type": "code",
   "execution_count": 22,
   "id": "5831d8da-f305-4b6e-971b-87911e56a185",
   "metadata": {},
   "outputs": [
    {
     "data": {
      "text/plain": [
       "(4392, 2)"
      ]
     },
     "execution_count": 22,
     "metadata": {},
     "output_type": "execute_result"
    }
   ],
   "source": [
    "df.shape"
   ]
  },
  {
   "cell_type": "code",
   "execution_count": 23,
   "id": "275104e2-df55-4a25-9668-5f1fe0e9649f",
   "metadata": {},
   "outputs": [
    {
     "data": {
      "text/html": [
       "<div>\n",
       "<style scoped>\n",
       "    .dataframe tbody tr th:only-of-type {\n",
       "        vertical-align: middle;\n",
       "    }\n",
       "\n",
       "    .dataframe tbody tr th {\n",
       "        vertical-align: top;\n",
       "    }\n",
       "\n",
       "    .dataframe thead th {\n",
       "        text-align: right;\n",
       "    }\n",
       "</style>\n",
       "<table border=\"1\" class=\"dataframe\">\n",
       "  <thead>\n",
       "    <tr style=\"text-align: right;\">\n",
       "      <th></th>\n",
       "      <th>yeduc</th>\n",
       "      <th>income</th>\n",
       "    </tr>\n",
       "  </thead>\n",
       "  <tbody>\n",
       "    <tr>\n",
       "      <th>0</th>\n",
       "      <td>9</td>\n",
       "      <td>50.00</td>\n",
       "    </tr>\n",
       "    <tr>\n",
       "      <th>1</th>\n",
       "      <td>9</td>\n",
       "      <td>350.00</td>\n",
       "    </tr>\n",
       "    <tr>\n",
       "      <th>2</th>\n",
       "      <td>9</td>\n",
       "      <td>100.00</td>\n",
       "    </tr>\n",
       "    <tr>\n",
       "      <th>3</th>\n",
       "      <td>9</td>\n",
       "      <td>0.00</td>\n",
       "    </tr>\n",
       "    <tr>\n",
       "      <th>4</th>\n",
       "      <td>9</td>\n",
       "      <td>6.25</td>\n",
       "    </tr>\n",
       "  </tbody>\n",
       "</table>\n",
       "</div>"
      ],
      "text/plain": [
       "   yeduc  income\n",
       "0      9   50.00\n",
       "1      9  350.00\n",
       "2      9  100.00\n",
       "3      9    0.00\n",
       "4      9    6.25"
      ]
     },
     "execution_count": 23,
     "metadata": {},
     "output_type": "execute_result"
    }
   ],
   "source": [
    "df.head()"
   ]
  },
  {
   "cell_type": "code",
   "execution_count": 27,
   "id": "40a13fb3-4021-45c5-9f47-df578527c581",
   "metadata": {},
   "outputs": [
    {
     "name": "stdout",
     "output_type": "stream",
     "text": [
      "258.1326844262295\n",
      "30140.316140858573\n",
      "30147.180252938022\n"
     ]
    }
   ],
   "source": [
    "# 収入に関して\n",
    "# 平均\n",
    "print(df[\"income\"].mean())\n",
    "# 分散\n",
    "print(df[\"income\"].var(ddof=0))\n",
    "# 不偏分散\n",
    "print(df[\"income\"].var(ddof=1))"
   ]
  },
  {
   "cell_type": "code",
   "execution_count": 32,
   "id": "11ddba66-a04a-4537-bcea-ac918502974c",
   "metadata": {},
   "outputs": [
    {
     "name": "stdout",
     "output_type": "stream",
     "text": [
      "13.851775956284152\n",
      "3.5215177931560047\n",
      "3.522319778533631\n"
     ]
    }
   ],
   "source": [
    "# 修学に関して\n",
    "# 平均\n",
    "print(df[\"yeduc\"].mean())\n",
    "# 分散\n",
    "print(df[\"yeduc\"].var(ddof=0))\n",
    "# 不偏分散\n",
    "print(df[\"yeduc\"].var(ddof=1))"
   ]
  },
  {
   "cell_type": "code",
   "execution_count": 33,
   "id": "49e5d1f6-6e58-42b4-8815-2ef6e241bc09",
   "metadata": {},
   "outputs": [
    {
     "data": {
      "text/html": [
       "<div>\n",
       "<style scoped>\n",
       "    .dataframe tbody tr th:only-of-type {\n",
       "        vertical-align: middle;\n",
       "    }\n",
       "\n",
       "    .dataframe tbody tr th {\n",
       "        vertical-align: top;\n",
       "    }\n",
       "\n",
       "    .dataframe thead th {\n",
       "        text-align: right;\n",
       "    }\n",
       "</style>\n",
       "<table border=\"1\" class=\"dataframe\">\n",
       "  <thead>\n",
       "    <tr style=\"text-align: right;\">\n",
       "      <th></th>\n",
       "      <th>yeduc</th>\n",
       "      <th>income</th>\n",
       "    </tr>\n",
       "  </thead>\n",
       "  <tbody>\n",
       "    <tr>\n",
       "      <th>yeduc</th>\n",
       "      <td>3.522320</td>\n",
       "      <td>80.865834</td>\n",
       "    </tr>\n",
       "    <tr>\n",
       "      <th>income</th>\n",
       "      <td>80.865834</td>\n",
       "      <td>30147.180253</td>\n",
       "    </tr>\n",
       "  </tbody>\n",
       "</table>\n",
       "</div>"
      ],
      "text/plain": [
       "            yeduc        income\n",
       "yeduc    3.522320     80.865834\n",
       "income  80.865834  30147.180253"
      ]
     },
     "execution_count": 33,
     "metadata": {},
     "output_type": "execute_result"
    }
   ],
   "source": [
    "# 共分散(不偏分散を使用した場合)\n",
    "df.cov(ddof=1)"
   ]
  },
  {
   "cell_type": "code",
   "execution_count": 34,
   "id": "58daeb20-d141-4c8f-a326-a11126aeb289",
   "metadata": {},
   "outputs": [
    {
     "data": {
      "text/html": [
       "<div>\n",
       "<style scoped>\n",
       "    .dataframe tbody tr th:only-of-type {\n",
       "        vertical-align: middle;\n",
       "    }\n",
       "\n",
       "    .dataframe tbody tr th {\n",
       "        vertical-align: top;\n",
       "    }\n",
       "\n",
       "    .dataframe thead th {\n",
       "        text-align: right;\n",
       "    }\n",
       "</style>\n",
       "<table border=\"1\" class=\"dataframe\">\n",
       "  <thead>\n",
       "    <tr style=\"text-align: right;\">\n",
       "      <th></th>\n",
       "      <th>yeduc</th>\n",
       "      <th>income</th>\n",
       "    </tr>\n",
       "  </thead>\n",
       "  <tbody>\n",
       "    <tr>\n",
       "      <th>yeduc</th>\n",
       "      <td>3.521518</td>\n",
       "      <td>80.847422</td>\n",
       "    </tr>\n",
       "    <tr>\n",
       "      <th>income</th>\n",
       "      <td>80.847422</td>\n",
       "      <td>30140.316141</td>\n",
       "    </tr>\n",
       "  </tbody>\n",
       "</table>\n",
       "</div>"
      ],
      "text/plain": [
       "            yeduc        income\n",
       "yeduc    3.521518     80.847422\n",
       "income  80.847422  30140.316141"
      ]
     },
     "execution_count": 34,
     "metadata": {},
     "output_type": "execute_result"
    }
   ],
   "source": [
    "# 共分散(不偏分散を使用しない場合)\n",
    "df.cov(ddof=0)"
   ]
  },
  {
   "cell_type": "code",
   "execution_count": 31,
   "id": "dd0e9a56-c2a1-4dfb-b1cc-417081be8ba1",
   "metadata": {},
   "outputs": [
    {
     "data": {
      "text/html": [
       "<div>\n",
       "<style scoped>\n",
       "    .dataframe tbody tr th:only-of-type {\n",
       "        vertical-align: middle;\n",
       "    }\n",
       "\n",
       "    .dataframe tbody tr th {\n",
       "        vertical-align: top;\n",
       "    }\n",
       "\n",
       "    .dataframe thead th {\n",
       "        text-align: right;\n",
       "    }\n",
       "</style>\n",
       "<table border=\"1\" class=\"dataframe\">\n",
       "  <thead>\n",
       "    <tr style=\"text-align: right;\">\n",
       "      <th></th>\n",
       "      <th>yeduc</th>\n",
       "      <th>income</th>\n",
       "    </tr>\n",
       "  </thead>\n",
       "  <tbody>\n",
       "    <tr>\n",
       "      <th>yeduc</th>\n",
       "      <td>1.000000</td>\n",
       "      <td>0.248157</td>\n",
       "    </tr>\n",
       "    <tr>\n",
       "      <th>income</th>\n",
       "      <td>0.248157</td>\n",
       "      <td>1.000000</td>\n",
       "    </tr>\n",
       "  </tbody>\n",
       "</table>\n",
       "</div>"
      ],
      "text/plain": [
       "           yeduc    income\n",
       "yeduc   1.000000  0.248157\n",
       "income  0.248157  1.000000"
      ]
     },
     "execution_count": 31,
     "metadata": {},
     "output_type": "execute_result"
    }
   ],
   "source": [
    "# 相関関係\n",
    "df.corr()"
   ]
  },
  {
   "cell_type": "code",
   "execution_count": null,
   "id": "d5b62bb8-6f88-4199-a24b-f13edb7b65a0",
   "metadata": {},
   "outputs": [],
   "source": []
  },
  {
   "cell_type": "markdown",
   "id": "05fa2f42-ba14-46a5-83d6-37a0cf67cbef",
   "metadata": {},
   "source": [
    "# 3章に関して"
   ]
  },
  {
   "cell_type": "markdown",
   "id": "37581184-107c-46d0-a5e4-f39f489edfab",
   "metadata": {},
   "source": [
    "### 平均と期待値の違い\n",
    "平均は標本のデータのみを使用して計算  \n",
    "期待値はそのデータを生み出す母集団の確率分布を使って計算される。つまり、期待値は標本が手に入る前の標本を生むメカニズムを使って計算される。"
   ]
  },
  {
   "cell_type": "markdown",
   "id": "75ecc952-4530-4593-82a9-ead46ee6f6d6",
   "metadata": {},
   "source": [
    "### 独立かどうかを調べるには？？\n",
    "例えば、「朝食を食べている」という事象と「算数 A の平均正答率が 75%以上」という事象が独立かどうかを調べる場合。  \n",
    "P(正答率が 75%以上) の確率とP(「正答率が 75%以上」|「朝食を食べている」) の確率が一致するかどうかを確認する。  \n",
    "一致しない場合は独立でないと判断する。"
   ]
  },
  {
   "cell_type": "code",
   "execution_count": 40,
   "id": "2991494f-f84c-453f-b6e6-7e5055797d20",
   "metadata": {},
   "outputs": [],
   "source": [
    "data ={\n",
    "    \"x_150\":[0.38,0.08],\n",
    "    \"x_450\":[0.28,0.18],\n",
    "    \"x_700\":[0.03,0.05],\n",
    "}"
   ]
  },
  {
   "cell_type": "code",
   "execution_count": 41,
   "id": "cd6d34d6-1387-4e6f-97d3-17e079193bf3",
   "metadata": {},
   "outputs": [
    {
     "data": {
      "text/html": [
       "<div>\n",
       "<style scoped>\n",
       "    .dataframe tbody tr th:only-of-type {\n",
       "        vertical-align: middle;\n",
       "    }\n",
       "\n",
       "    .dataframe tbody tr th {\n",
       "        vertical-align: top;\n",
       "    }\n",
       "\n",
       "    .dataframe thead th {\n",
       "        text-align: right;\n",
       "    }\n",
       "</style>\n",
       "<table border=\"1\" class=\"dataframe\">\n",
       "  <thead>\n",
       "    <tr style=\"text-align: right;\">\n",
       "      <th></th>\n",
       "      <th>x_150</th>\n",
       "      <th>x_450</th>\n",
       "      <th>x_700</th>\n",
       "    </tr>\n",
       "  </thead>\n",
       "  <tbody>\n",
       "    <tr>\n",
       "      <th>0</th>\n",
       "      <td>0.38</td>\n",
       "      <td>0.28</td>\n",
       "      <td>0.03</td>\n",
       "    </tr>\n",
       "    <tr>\n",
       "      <th>1</th>\n",
       "      <td>0.08</td>\n",
       "      <td>0.18</td>\n",
       "      <td>0.05</td>\n",
       "    </tr>\n",
       "  </tbody>\n",
       "</table>\n",
       "</div>"
      ],
      "text/plain": [
       "   x_150  x_450  x_700\n",
       "0   0.38   0.28   0.03\n",
       "1   0.08   0.18   0.05"
      ]
     },
     "execution_count": 41,
     "metadata": {},
     "output_type": "execute_result"
    }
   ],
   "source": [
    "pd.DataFrame(data)"
   ]
  },
  {
   "cell_type": "markdown",
   "id": "a7cab205-041e-48a2-9b82-f2d06428bdd3",
   "metadata": {},
   "source": [
    "# 第4章演習"
   ]
  },
  {
   "cell_type": "code",
   "execution_count": 1,
   "id": "8dcc0ca5-013e-46ee-af8c-9ff48559f107",
   "metadata": {},
   "outputs": [],
   "source": [
    "x = [-2,-1,0,1,2]\n",
    "y = [-4, -2, 3, 1, 2]"
   ]
  },
  {
   "cell_type": "code",
   "execution_count": 5,
   "id": "82f312a6-8a7b-4765-bbdc-65273f8e1792",
   "metadata": {},
   "outputs": [
    {
     "data": {
      "text/plain": [
       "0.0"
      ]
     },
     "execution_count": 5,
     "metadata": {},
     "output_type": "execute_result"
    }
   ],
   "source": [
    "np.mean(x)"
   ]
  },
  {
   "cell_type": "code",
   "execution_count": 6,
   "id": "c1ef65e6-aba9-481e-8505-2a3af50a481c",
   "metadata": {},
   "outputs": [
    {
     "data": {
      "text/plain": [
       "0.0"
      ]
     },
     "execution_count": 6,
     "metadata": {},
     "output_type": "execute_result"
    }
   ],
   "source": [
    "np.mean(y)"
   ]
  },
  {
   "cell_type": "code",
   "execution_count": 7,
   "id": "f5770ea5-cd0d-4fda-aac2-21f3ebe916e0",
   "metadata": {},
   "outputs": [
    {
     "data": {
      "text/plain": [
       "2.0"
      ]
     },
     "execution_count": 7,
     "metadata": {},
     "output_type": "execute_result"
    }
   ],
   "source": [
    "np.var(x)"
   ]
  },
  {
   "cell_type": "code",
   "execution_count": 8,
   "id": "2d2fe1eb-4f45-4051-a009-0b60d1ddea6e",
   "metadata": {},
   "outputs": [
    {
     "data": {
      "text/plain": [
       "array([[2.5 , 3.75],\n",
       "       [3.75, 8.5 ]])"
      ]
     },
     "execution_count": 8,
     "metadata": {},
     "output_type": "execute_result"
    }
   ],
   "source": [
    "np.cov(x,y)"
   ]
  },
  {
   "cell_type": "code",
   "execution_count": 27,
   "id": "5d23e897-905a-42ce-8767-9bfe881acca5",
   "metadata": {},
   "outputs": [
    {
     "data": {
      "text/plain": [
       "1.5"
      ]
     },
     "execution_count": 27,
     "metadata": {},
     "output_type": "execute_result"
    }
   ],
   "source": [
    "# 傾き　Cov[X,Y]/V[X](単回帰)\n",
    "b1 = np.cov(x,y)[0][1] / np.var(x,ddof=1)\n",
    "b1"
   ]
  },
  {
   "cell_type": "code",
   "execution_count": 13,
   "id": "e3dc40c2-4054-4ed4-8197-776c1da8bd3f",
   "metadata": {},
   "outputs": [
    {
     "data": {
      "text/plain": [
       "0.0"
      ]
     },
     "execution_count": 13,
     "metadata": {},
     "output_type": "execute_result"
    }
   ],
   "source": [
    "# 切片 E[Y] - E[X]・Cov[X,Y]/V[X](単回帰)\n",
    "b0 = np.mean(y) - np.mean(x) * np.cov(x,y)[0][1] / np.var(x)\n",
    "b0"
   ]
  },
  {
   "cell_type": "code",
   "execution_count": 28,
   "id": "88ac22d7-cf33-419f-95f2-a66e1f17f182",
   "metadata": {},
   "outputs": [
    {
     "data": {
      "text/plain": [
       "[-1.0, -0.5, 3.0, -0.5, -1.0]"
      ]
     },
     "execution_count": 28,
     "metadata": {},
     "output_type": "execute_result"
    }
   ],
   "source": [
    "# 残差の算出\n",
    "re_list = []\n",
    "for i in range(len(x)):\n",
    "    y_predict = b0 + b1 * x[i]\n",
    "    re = y[i] - y_predict\n",
    "    re_list.append(re)\n",
    "re_list"
   ]
  },
  {
   "cell_type": "code",
   "execution_count": 29,
   "id": "8b8b1d7c-3e3c-448e-9e0e-8b7a95af0f78",
   "metadata": {},
   "outputs": [
    {
     "data": {
      "text/plain": [
       "11.5"
      ]
     },
     "execution_count": 29,
     "metadata": {},
     "output_type": "execute_result"
    }
   ],
   "source": [
    "# 残差の二乗和\n",
    "sum([i**2 for i in re_list])"
   ]
  },
  {
   "cell_type": "code",
   "execution_count": 30,
   "id": "b29e4daa-02af-43fd-afa2-4e9a9176f1e9",
   "metadata": {},
   "outputs": [
    {
     "data": {
      "text/plain": [
       "0.6617647058823529"
      ]
     },
     "execution_count": 30,
     "metadata": {},
     "output_type": "execute_result"
    }
   ],
   "source": [
    "# 決定係数(1 - 残差変動/総変動)\n",
    "1 - sum([i**2 for i in re_list]) / sum([(i - np.mean(y))**2 for i in y])"
   ]
  },
  {
   "cell_type": "code",
   "execution_count": 34,
   "id": "9ada336e-f180-4d70-9171-0de3e1d8b025",
   "metadata": {},
   "outputs": [
    {
     "data": {
      "text/plain": [
       "3.8333333333333335"
      ]
     },
     "execution_count": 34,
     "metadata": {},
     "output_type": "execute_result"
    }
   ],
   "source": [
    "# 誤差項の分散の推定値\n",
    "u_2 = sum([i**2 for i in re_list]) / (len(x) - 2)\n",
    "u_2"
   ]
  },
  {
   "cell_type": "code",
   "execution_count": null,
   "id": "68d7ed3d-bcbf-4c20-9145-58998da23ed4",
   "metadata": {},
   "outputs": [],
   "source": []
  },
  {
   "cell_type": "code",
   "execution_count": 35,
   "id": "6fa92f26-5b23-45af-9037-13082b713065",
   "metadata": {},
   "outputs": [
    {
     "data": {
      "text/plain": [
       "0.6191391873668903"
      ]
     },
     "execution_count": 35,
     "metadata": {},
     "output_type": "execute_result"
    }
   ],
   "source": [
    "# 標準誤差　（誤差高の分散の推定 / x の残差）\n",
    "np.sqrt(u_2 /  sum([(i - np.mean(x))**2 for i in x]))"
   ]
  },
  {
   "cell_type": "code",
   "execution_count": 1,
   "id": "6eb25d08-d811-4ae9-84c3-d3f82fc7fdef",
   "metadata": {},
   "outputs": [],
   "source": [
    "# 5-3\n",
    "y = [2.7, 2.4, 3.3, 3.5]\n",
    "x = [50, 55, 65, 70]"
   ]
  },
  {
   "cell_type": "code",
   "execution_count": 3,
   "id": "9d8731b9-86e7-4d35-914e-b87c9662eea0",
   "metadata": {},
   "outputs": [
    {
     "name": "stdout",
     "output_type": "stream",
     "text": [
      "                            OLS Regression Results                            \n",
      "==============================================================================\n",
      "Dep. Variable:                      y   R-squared:                       0.794\n",
      "Model:                            OLS   Adj. R-squared:                  0.690\n",
      "Method:                 Least Squares   F-statistic:                     7.692\n",
      "Date:                Tue, 11 Jul 2023   Prob (F-statistic):              0.109\n",
      "Time:                        22:55:06   Log-Likelihood:                0.73099\n",
      "No. Observations:                   4   AIC:                             2.538\n",
      "Df Residuals:                       2   BIC:                             1.311\n",
      "Df Model:                           1                                         \n",
      "Covariance Type:            nonrobust                                         \n",
      "==============================================================================\n",
      "                 coef    std err          t      P>|t|      [0.025      0.975]\n",
      "------------------------------------------------------------------------------\n",
      "const         -0.0250      1.091     -0.023      0.984      -4.719       4.669\n",
      "x1             0.0500      0.018      2.774      0.109      -0.028       0.128\n",
      "==============================================================================\n",
      "Omnibus:                          nan   Durbin-Watson:                   2.862\n",
      "Prob(Omnibus):                    nan   Jarque-Bera (JB):                0.455\n",
      "Skew:                          -0.687   Prob(JB):                        0.797\n",
      "Kurtosis:                       2.083   Cond. No.                         463.\n",
      "==============================================================================\n",
      "\n",
      "Notes:\n",
      "[1] Standard Errors assume that the covariance matrix of the errors is correctly specified.\n"
     ]
    },
    {
     "name": "stderr",
     "output_type": "stream",
     "text": [
      "/opt/anaconda3/lib/python3.9/site-packages/statsmodels/stats/stattools.py:74: ValueWarning: omni_normtest is not valid with less than 8 observations; 4 samples were given.\n",
      "  warn(\"omni_normtest is not valid with less than 8 observations; %i \"\n"
     ]
    }
   ],
   "source": [
    "X = sm.add_constant(x)\n",
    " \n",
    "#モデルの設定\n",
    "model = sm.OLS(y, X)\n",
    " \n",
    "#回帰分析の実行\n",
    "results = model.fit()\n",
    " \n",
    "#結果の詳細を表示\n",
    "print(results.summary())"
   ]
  },
  {
   "cell_type": "code",
   "execution_count": 4,
   "id": "f8a152bf-a008-42ba-aaa1-08bd47e3fdb9",
   "metadata": {},
   "outputs": [
    {
     "data": {
      "text/plain": [
       "array([2.475, 2.725, 3.225, 3.475])"
      ]
     },
     "execution_count": 4,
     "metadata": {},
     "output_type": "execute_result"
    }
   ],
   "source": [
    "results.predict()"
   ]
  },
  {
   "cell_type": "code",
   "execution_count": 7,
   "id": "fcf8e4f7-3048-43c5-97f0-02eac17a73b2",
   "metadata": {},
   "outputs": [
    {
     "data": {
      "text/plain": [
       "3.1086244689504383e-15"
      ]
     },
     "execution_count": 7,
     "metadata": {},
     "output_type": "execute_result"
    }
   ],
   "source": [
    "sum([i - j for i, j in zip(y, results.predict())])"
   ]
  },
  {
   "cell_type": "code",
   "execution_count": 9,
   "id": "1d497e33-4ab8-4a1c-8b85-066363c8d87f",
   "metadata": {},
   "outputs": [],
   "source": [
    "path = \"csv/5_1_income.csv\"\n",
    "df = pd.read_csv(path)"
   ]
  },
  {
   "cell_type": "code",
   "execution_count": 10,
   "id": "dd35e5a4-6500-48ff-b66e-9e83a804ccc4",
   "metadata": {},
   "outputs": [
    {
     "data": {
      "text/html": [
       "<div>\n",
       "<style scoped>\n",
       "    .dataframe tbody tr th:only-of-type {\n",
       "        vertical-align: middle;\n",
       "    }\n",
       "\n",
       "    .dataframe tbody tr th {\n",
       "        vertical-align: top;\n",
       "    }\n",
       "\n",
       "    .dataframe thead th {\n",
       "        text-align: right;\n",
       "    }\n",
       "</style>\n",
       "<table border=\"1\" class=\"dataframe\">\n",
       "  <thead>\n",
       "    <tr style=\"text-align: right;\">\n",
       "      <th></th>\n",
       "      <th>yeduc</th>\n",
       "      <th>income</th>\n",
       "      <th>lincome</th>\n",
       "      <th>lyeduc</th>\n",
       "    </tr>\n",
       "  </thead>\n",
       "  <tbody>\n",
       "    <tr>\n",
       "      <th>0</th>\n",
       "      <td>9</td>\n",
       "      <td>100.0</td>\n",
       "      <td>4.605170</td>\n",
       "      <td>2.197225</td>\n",
       "    </tr>\n",
       "    <tr>\n",
       "      <th>1</th>\n",
       "      <td>9</td>\n",
       "      <td>50.0</td>\n",
       "      <td>3.912023</td>\n",
       "      <td>2.197225</td>\n",
       "    </tr>\n",
       "    <tr>\n",
       "      <th>2</th>\n",
       "      <td>9</td>\n",
       "      <td>150.0</td>\n",
       "      <td>5.010635</td>\n",
       "      <td>2.197225</td>\n",
       "    </tr>\n",
       "    <tr>\n",
       "      <th>3</th>\n",
       "      <td>9</td>\n",
       "      <td>200.0</td>\n",
       "      <td>5.298317</td>\n",
       "      <td>2.197225</td>\n",
       "    </tr>\n",
       "    <tr>\n",
       "      <th>4</th>\n",
       "      <td>9</td>\n",
       "      <td>150.0</td>\n",
       "      <td>5.010635</td>\n",
       "      <td>2.197225</td>\n",
       "    </tr>\n",
       "    <tr>\n",
       "      <th>...</th>\n",
       "      <td>...</td>\n",
       "      <td>...</td>\n",
       "      <td>...</td>\n",
       "      <td>...</td>\n",
       "    </tr>\n",
       "    <tr>\n",
       "      <th>4322</th>\n",
       "      <td>18</td>\n",
       "      <td>850.0</td>\n",
       "      <td>6.745236</td>\n",
       "      <td>2.890372</td>\n",
       "    </tr>\n",
       "    <tr>\n",
       "      <th>4323</th>\n",
       "      <td>18</td>\n",
       "      <td>700.0</td>\n",
       "      <td>6.551080</td>\n",
       "      <td>2.890372</td>\n",
       "    </tr>\n",
       "    <tr>\n",
       "      <th>4324</th>\n",
       "      <td>18</td>\n",
       "      <td>650.0</td>\n",
       "      <td>6.476973</td>\n",
       "      <td>2.890372</td>\n",
       "    </tr>\n",
       "    <tr>\n",
       "      <th>4325</th>\n",
       "      <td>18</td>\n",
       "      <td>650.0</td>\n",
       "      <td>6.476973</td>\n",
       "      <td>2.890372</td>\n",
       "    </tr>\n",
       "    <tr>\n",
       "      <th>4326</th>\n",
       "      <td>18</td>\n",
       "      <td>950.0</td>\n",
       "      <td>6.856462</td>\n",
       "      <td>2.890372</td>\n",
       "    </tr>\n",
       "  </tbody>\n",
       "</table>\n",
       "<p>4327 rows × 4 columns</p>\n",
       "</div>"
      ],
      "text/plain": [
       "      yeduc  income   lincome    lyeduc\n",
       "0         9   100.0  4.605170  2.197225\n",
       "1         9    50.0  3.912023  2.197225\n",
       "2         9   150.0  5.010635  2.197225\n",
       "3         9   200.0  5.298317  2.197225\n",
       "4         9   150.0  5.010635  2.197225\n",
       "...     ...     ...       ...       ...\n",
       "4322     18   850.0  6.745236  2.890372\n",
       "4323     18   700.0  6.551080  2.890372\n",
       "4324     18   650.0  6.476973  2.890372\n",
       "4325     18   650.0  6.476973  2.890372\n",
       "4326     18   950.0  6.856462  2.890372\n",
       "\n",
       "[4327 rows x 4 columns]"
      ]
     },
     "execution_count": 10,
     "metadata": {},
     "output_type": "execute_result"
    }
   ],
   "source": [
    "df"
   ]
  },
  {
   "cell_type": "code",
   "execution_count": 11,
   "id": "c5d61e44-f1d3-4793-85d3-088b335a2f22",
   "metadata": {},
   "outputs": [
    {
     "name": "stdout",
     "output_type": "stream",
     "text": [
      "                            OLS Regression Results                            \n",
      "==============================================================================\n",
      "Dep. Variable:                 income   R-squared:                       0.053\n",
      "Model:                            OLS   Adj. R-squared:                  0.053\n",
      "Method:                 Least Squares   F-statistic:                     243.3\n",
      "Date:                Tue, 11 Jul 2023   Prob (F-statistic):           2.07e-53\n",
      "Time:                        23:11:30   Log-Likelihood:                -28407.\n",
      "No. Observations:                4327   AIC:                         5.682e+04\n",
      "Df Residuals:                    4325   BIC:                         5.683e+04\n",
      "Df Model:                           1                                         \n",
      "Covariance Type:            nonrobust                                         \n",
      "==============================================================================\n",
      "                 coef    std err          t      P>|t|      [0.025      0.975]\n",
      "------------------------------------------------------------------------------\n",
      "const       -515.4796     50.033    -10.303      0.000    -613.570    -417.389\n",
      "lyeduc       297.5345     19.074     15.599      0.000     260.139     334.930\n",
      "==============================================================================\n",
      "Omnibus:                     1247.049   Durbin-Watson:                   0.861\n",
      "Prob(Omnibus):                  0.000   Jarque-Bera (JB):             5603.004\n",
      "Skew:                           1.331   Prob(JB):                         0.00\n",
      "Kurtosis:                       7.898   Cond. No.                         57.5\n",
      "==============================================================================\n",
      "\n",
      "Notes:\n",
      "[1] Standard Errors assume that the covariance matrix of the errors is correctly specified.\n"
     ]
    }
   ],
   "source": [
    "x = df[\"lyeduc\"]\n",
    "y = df[\"income\"]\n",
    "\n",
    "X = sm.add_constant(x)\n",
    " \n",
    "#モデルの設定\n",
    "model = sm.OLS(y, X)\n",
    " \n",
    "#回帰分析の実行\n",
    "results = model.fit()\n",
    " \n",
    "#結果の詳細を表示\n",
    "print(results.summary())"
   ]
  },
  {
   "cell_type": "code",
   "execution_count": 13,
   "id": "caf46065-5d71-4891-a121-f830ed154448",
   "metadata": {},
   "outputs": [],
   "source": [
    "path = \"csv/5_2_sleep.csv\"\n",
    "df = pd.read_csv(path)"
   ]
  },
  {
   "cell_type": "code",
   "execution_count": 14,
   "id": "3821ecbb-a324-42ff-aade-2085d98e83a1",
   "metadata": {},
   "outputs": [
    {
     "data": {
      "text/html": [
       "<div>\n",
       "<style scoped>\n",
       "    .dataframe tbody tr th:only-of-type {\n",
       "        vertical-align: middle;\n",
       "    }\n",
       "\n",
       "    .dataframe tbody tr th {\n",
       "        vertical-align: top;\n",
       "    }\n",
       "\n",
       "    .dataframe thead th {\n",
       "        text-align: right;\n",
       "    }\n",
       "</style>\n",
       "<table border=\"1\" class=\"dataframe\">\n",
       "  <thead>\n",
       "    <tr style=\"text-align: right;\">\n",
       "      <th></th>\n",
       "      <th>commute</th>\n",
       "      <th>sleep</th>\n",
       "    </tr>\n",
       "  </thead>\n",
       "  <tbody>\n",
       "    <tr>\n",
       "      <th>0</th>\n",
       "      <td>0</td>\n",
       "      <td>330.0</td>\n",
       "    </tr>\n",
       "    <tr>\n",
       "      <th>1</th>\n",
       "      <td>0</td>\n",
       "      <td>325.0</td>\n",
       "    </tr>\n",
       "    <tr>\n",
       "      <th>2</th>\n",
       "      <td>0</td>\n",
       "      <td>352.5</td>\n",
       "    </tr>\n",
       "    <tr>\n",
       "      <th>3</th>\n",
       "      <td>0</td>\n",
       "      <td>405.0</td>\n",
       "    </tr>\n",
       "    <tr>\n",
       "      <th>4</th>\n",
       "      <td>0</td>\n",
       "      <td>330.0</td>\n",
       "    </tr>\n",
       "    <tr>\n",
       "      <th>...</th>\n",
       "      <td>...</td>\n",
       "      <td>...</td>\n",
       "    </tr>\n",
       "    <tr>\n",
       "      <th>3721</th>\n",
       "      <td>120</td>\n",
       "      <td>422.5</td>\n",
       "    </tr>\n",
       "    <tr>\n",
       "      <th>3722</th>\n",
       "      <td>120</td>\n",
       "      <td>390.0</td>\n",
       "    </tr>\n",
       "    <tr>\n",
       "      <th>3723</th>\n",
       "      <td>120</td>\n",
       "      <td>365.0</td>\n",
       "    </tr>\n",
       "    <tr>\n",
       "      <th>3724</th>\n",
       "      <td>120</td>\n",
       "      <td>405.0</td>\n",
       "    </tr>\n",
       "    <tr>\n",
       "      <th>3725</th>\n",
       "      <td>120</td>\n",
       "      <td>435.0</td>\n",
       "    </tr>\n",
       "  </tbody>\n",
       "</table>\n",
       "<p>3726 rows × 2 columns</p>\n",
       "</div>"
      ],
      "text/plain": [
       "      commute  sleep\n",
       "0           0  330.0\n",
       "1           0  325.0\n",
       "2           0  352.5\n",
       "3           0  405.0\n",
       "4           0  330.0\n",
       "...       ...    ...\n",
       "3721      120  422.5\n",
       "3722      120  390.0\n",
       "3723      120  365.0\n",
       "3724      120  405.0\n",
       "3725      120  435.0\n",
       "\n",
       "[3726 rows x 2 columns]"
      ]
     },
     "execution_count": 14,
     "metadata": {},
     "output_type": "execute_result"
    }
   ],
   "source": [
    "df"
   ]
  },
  {
   "cell_type": "code",
   "execution_count": 15,
   "id": "79aa7fd6-5227-4372-ad44-b5ba5586b815",
   "metadata": {},
   "outputs": [
    {
     "name": "stdout",
     "output_type": "stream",
     "text": [
      "                            OLS Regression Results                            \n",
      "==============================================================================\n",
      "Dep. Variable:                  sleep   R-squared:                       0.077\n",
      "Model:                            OLS   Adj. R-squared:                  0.076\n",
      "Method:                 Least Squares   F-statistic:                     308.7\n",
      "Date:                Tue, 11 Jul 2023   Prob (F-statistic):           1.87e-66\n",
      "Time:                        23:18:37   Log-Likelihood:                -19458.\n",
      "No. Observations:                3726   AIC:                         3.892e+04\n",
      "Df Residuals:                    3724   BIC:                         3.893e+04\n",
      "Df Model:                           1                                         \n",
      "Covariance Type:            nonrobust                                         \n",
      "==============================================================================\n",
      "                 coef    std err          t      P>|t|      [0.025      0.975]\n",
      "------------------------------------------------------------------------------\n",
      "const        431.7653      1.293    334.034      0.000     429.231     434.299\n",
      "commute       -0.5530      0.031    -17.570      0.000      -0.615      -0.491\n",
      "==============================================================================\n",
      "Omnibus:                       33.653   Durbin-Watson:                   1.078\n",
      "Prob(Omnibus):                  0.000   Jarque-Bera (JB):               39.539\n",
      "Skew:                           0.168   Prob(JB):                     2.60e-09\n",
      "Kurtosis:                       3.377   Cond. No.                         72.3\n",
      "==============================================================================\n",
      "\n",
      "Notes:\n",
      "[1] Standard Errors assume that the covariance matrix of the errors is correctly specified.\n"
     ]
    }
   ],
   "source": [
    "x = df[\"commute\"]\n",
    "y = df[\"sleep\"]\n",
    "\n",
    "X = sm.add_constant(x)\n",
    " \n",
    "#モデルの設定\n",
    "model = sm.OLS(y, X)\n",
    " \n",
    "#回帰分析の実行\n",
    "results = model.fit()\n",
    " \n",
    "#結果の詳細を表示\n",
    "print(results.summary())"
   ]
  },
  {
   "cell_type": "code",
   "execution_count": 16,
   "id": "25cb6387-068a-4178-bce1-cb366026155f",
   "metadata": {},
   "outputs": [],
   "source": [
    "path = \"csv/5_3_abe.csv\"\n",
    "df = pd.read_csv(path)"
   ]
  },
  {
   "cell_type": "code",
   "execution_count": 17,
   "id": "5c4e805d-afdd-4569-a1a0-5498429b641e",
   "metadata": {},
   "outputs": [
    {
     "data": {
      "text/html": [
       "<div>\n",
       "<style scoped>\n",
       "    .dataframe tbody tr th:only-of-type {\n",
       "        vertical-align: middle;\n",
       "    }\n",
       "\n",
       "    .dataframe tbody tr th {\n",
       "        vertical-align: top;\n",
       "    }\n",
       "\n",
       "    .dataframe thead th {\n",
       "        text-align: right;\n",
       "    }\n",
       "</style>\n",
       "<table border=\"1\" class=\"dataframe\">\n",
       "  <thead>\n",
       "    <tr style=\"text-align: right;\">\n",
       "      <th></th>\n",
       "      <th>income</th>\n",
       "      <th>abe</th>\n",
       "    </tr>\n",
       "  </thead>\n",
       "  <tbody>\n",
       "    <tr>\n",
       "      <th>0</th>\n",
       "      <td>0.0</td>\n",
       "      <td>25</td>\n",
       "    </tr>\n",
       "    <tr>\n",
       "      <th>1</th>\n",
       "      <td>0.0</td>\n",
       "      <td>10</td>\n",
       "    </tr>\n",
       "    <tr>\n",
       "      <th>2</th>\n",
       "      <td>0.0</td>\n",
       "      <td>25</td>\n",
       "    </tr>\n",
       "    <tr>\n",
       "      <th>3</th>\n",
       "      <td>0.0</td>\n",
       "      <td>35</td>\n",
       "    </tr>\n",
       "    <tr>\n",
       "      <th>4</th>\n",
       "      <td>0.0</td>\n",
       "      <td>20</td>\n",
       "    </tr>\n",
       "    <tr>\n",
       "      <th>...</th>\n",
       "      <td>...</td>\n",
       "      <td>...</td>\n",
       "    </tr>\n",
       "    <tr>\n",
       "      <th>4271</th>\n",
       "      <td>2250.0</td>\n",
       "      <td>45</td>\n",
       "    </tr>\n",
       "    <tr>\n",
       "      <th>4272</th>\n",
       "      <td>2250.0</td>\n",
       "      <td>40</td>\n",
       "    </tr>\n",
       "    <tr>\n",
       "      <th>4273</th>\n",
       "      <td>2250.0</td>\n",
       "      <td>30</td>\n",
       "    </tr>\n",
       "    <tr>\n",
       "      <th>4274</th>\n",
       "      <td>2250.0</td>\n",
       "      <td>40</td>\n",
       "    </tr>\n",
       "    <tr>\n",
       "      <th>4275</th>\n",
       "      <td>2250.0</td>\n",
       "      <td>35</td>\n",
       "    </tr>\n",
       "  </tbody>\n",
       "</table>\n",
       "<p>4276 rows × 2 columns</p>\n",
       "</div>"
      ],
      "text/plain": [
       "      income  abe\n",
       "0        0.0   25\n",
       "1        0.0   10\n",
       "2        0.0   25\n",
       "3        0.0   35\n",
       "4        0.0   20\n",
       "...      ...  ...\n",
       "4271  2250.0   45\n",
       "4272  2250.0   40\n",
       "4273  2250.0   30\n",
       "4274  2250.0   40\n",
       "4275  2250.0   35\n",
       "\n",
       "[4276 rows x 2 columns]"
      ]
     },
     "execution_count": 17,
     "metadata": {},
     "output_type": "execute_result"
    }
   ],
   "source": [
    "df"
   ]
  },
  {
   "cell_type": "code",
   "execution_count": 18,
   "id": "ff9d31ba-3f1d-4b7a-8d7d-a6d83b8e8e85",
   "metadata": {},
   "outputs": [
    {
     "name": "stdout",
     "output_type": "stream",
     "text": [
      "                            OLS Regression Results                            \n",
      "==============================================================================\n",
      "Dep. Variable:                    abe   R-squared:                       0.003\n",
      "Model:                            OLS   Adj. R-squared:                  0.002\n",
      "Method:                 Least Squares   F-statistic:                     10.85\n",
      "Date:                Tue, 11 Jul 2023   Prob (F-statistic):           0.000995\n",
      "Time:                        23:27:17   Log-Likelihood:                -17467.\n",
      "No. Observations:                4276   AIC:                         3.494e+04\n",
      "Df Residuals:                    4274   BIC:                         3.495e+04\n",
      "Df Model:                           1                                         \n",
      "Covariance Type:            nonrobust                                         \n",
      "==============================================================================\n",
      "                 coef    std err          t      P>|t|      [0.025      0.975]\n",
      "------------------------------------------------------------------------------\n",
      "const         43.4372      0.328    132.536      0.000      42.795      44.080\n",
      "income        -0.0031      0.001     -3.294      0.001      -0.005      -0.001\n",
      "==============================================================================\n",
      "Omnibus:                       50.473   Durbin-Watson:                   1.063\n",
      "Prob(Omnibus):                  0.000   Jarque-Bera (JB):               52.056\n",
      "Skew:                          -0.270   Prob(JB):                     4.97e-12\n",
      "Kurtosis:                       3.016   Cond. No.                         526.\n",
      "==============================================================================\n",
      "\n",
      "Notes:\n",
      "[1] Standard Errors assume that the covariance matrix of the errors is correctly specified.\n"
     ]
    }
   ],
   "source": [
    "x = df[\"income\"]\n",
    "y = df[\"abe\"]\n",
    "\n",
    "X = sm.add_constant(x)\n",
    " \n",
    "#モデルの設定\n",
    "model = sm.OLS(y, X)\n",
    " \n",
    "#回帰分析の実行\n",
    "results = model.fit()\n",
    " \n",
    "#結果の詳細を表示\n",
    "print(results.summary())"
   ]
  },
  {
   "cell_type": "markdown",
   "id": "7a6f7364-266f-46cd-91f8-0ac1b93bba38",
   "metadata": {},
   "source": [
    "# 6 章"
   ]
  },
  {
   "cell_type": "code",
   "execution_count": 20,
   "id": "99f16cee-cad5-4905-9e6a-207413f96adc",
   "metadata": {},
   "outputs": [],
   "source": [
    "path = \"csv/6_1_income.csv\"\n",
    "df = pd.read_csv(path)"
   ]
  },
  {
   "cell_type": "code",
   "execution_count": 21,
   "id": "62c0a93d-feb5-46d8-85ec-8f6e4867bd8f",
   "metadata": {},
   "outputs": [
    {
     "data": {
      "text/html": [
       "<div>\n",
       "<style scoped>\n",
       "    .dataframe tbody tr th:only-of-type {\n",
       "        vertical-align: middle;\n",
       "    }\n",
       "\n",
       "    .dataframe tbody tr th {\n",
       "        vertical-align: top;\n",
       "    }\n",
       "\n",
       "    .dataframe thead th {\n",
       "        text-align: right;\n",
       "    }\n",
       "</style>\n",
       "<table border=\"1\" class=\"dataframe\">\n",
       "  <thead>\n",
       "    <tr style=\"text-align: right;\">\n",
       "      <th></th>\n",
       "      <th>exper</th>\n",
       "      <th>exper2</th>\n",
       "      <th>yeduc</th>\n",
       "      <th>income</th>\n",
       "      <th>lincome</th>\n",
       "    </tr>\n",
       "  </thead>\n",
       "  <tbody>\n",
       "    <tr>\n",
       "      <th>0</th>\n",
       "      <td>7</td>\n",
       "      <td>49</td>\n",
       "      <td>9</td>\n",
       "      <td>100.0</td>\n",
       "      <td>4.605170</td>\n",
       "    </tr>\n",
       "    <tr>\n",
       "      <th>1</th>\n",
       "      <td>8</td>\n",
       "      <td>64</td>\n",
       "      <td>9</td>\n",
       "      <td>150.0</td>\n",
       "      <td>5.010635</td>\n",
       "    </tr>\n",
       "    <tr>\n",
       "      <th>2</th>\n",
       "      <td>8</td>\n",
       "      <td>64</td>\n",
       "      <td>9</td>\n",
       "      <td>150.0</td>\n",
       "      <td>5.010635</td>\n",
       "    </tr>\n",
       "    <tr>\n",
       "      <th>3</th>\n",
       "      <td>10</td>\n",
       "      <td>100</td>\n",
       "      <td>9</td>\n",
       "      <td>200.0</td>\n",
       "      <td>5.298317</td>\n",
       "    </tr>\n",
       "    <tr>\n",
       "      <th>4</th>\n",
       "      <td>10</td>\n",
       "      <td>100</td>\n",
       "      <td>9</td>\n",
       "      <td>300.0</td>\n",
       "      <td>5.703783</td>\n",
       "    </tr>\n",
       "    <tr>\n",
       "      <th>...</th>\n",
       "      <td>...</td>\n",
       "      <td>...</td>\n",
       "      <td>...</td>\n",
       "      <td>...</td>\n",
       "      <td>...</td>\n",
       "    </tr>\n",
       "    <tr>\n",
       "      <th>4294</th>\n",
       "      <td>16</td>\n",
       "      <td>256</td>\n",
       "      <td>18</td>\n",
       "      <td>350.0</td>\n",
       "      <td>5.857933</td>\n",
       "    </tr>\n",
       "    <tr>\n",
       "      <th>4295</th>\n",
       "      <td>16</td>\n",
       "      <td>256</td>\n",
       "      <td>18</td>\n",
       "      <td>500.0</td>\n",
       "      <td>6.214608</td>\n",
       "    </tr>\n",
       "    <tr>\n",
       "      <th>4296</th>\n",
       "      <td>16</td>\n",
       "      <td>256</td>\n",
       "      <td>18</td>\n",
       "      <td>500.0</td>\n",
       "      <td>6.214608</td>\n",
       "    </tr>\n",
       "    <tr>\n",
       "      <th>4297</th>\n",
       "      <td>16</td>\n",
       "      <td>256</td>\n",
       "      <td>18</td>\n",
       "      <td>850.0</td>\n",
       "      <td>6.745236</td>\n",
       "    </tr>\n",
       "    <tr>\n",
       "      <th>4298</th>\n",
       "      <td>17</td>\n",
       "      <td>289</td>\n",
       "      <td>18</td>\n",
       "      <td>1000.0</td>\n",
       "      <td>6.907755</td>\n",
       "    </tr>\n",
       "  </tbody>\n",
       "</table>\n",
       "<p>4299 rows × 5 columns</p>\n",
       "</div>"
      ],
      "text/plain": [
       "      exper  exper2  yeduc  income   lincome\n",
       "0         7      49      9   100.0  4.605170\n",
       "1         8      64      9   150.0  5.010635\n",
       "2         8      64      9   150.0  5.010635\n",
       "3        10     100      9   200.0  5.298317\n",
       "4        10     100      9   300.0  5.703783\n",
       "...     ...     ...    ...     ...       ...\n",
       "4294     16     256     18   350.0  5.857933\n",
       "4295     16     256     18   500.0  6.214608\n",
       "4296     16     256     18   500.0  6.214608\n",
       "4297     16     256     18   850.0  6.745236\n",
       "4298     17     289     18  1000.0  6.907755\n",
       "\n",
       "[4299 rows x 5 columns]"
      ]
     },
     "execution_count": 21,
     "metadata": {},
     "output_type": "execute_result"
    }
   ],
   "source": [
    "df"
   ]
  },
  {
   "cell_type": "code",
   "execution_count": 23,
   "id": "c41da816-a391-4935-afa0-2743802a52e0",
   "metadata": {},
   "outputs": [
    {
     "name": "stdout",
     "output_type": "stream",
     "text": [
      "                            OLS Regression Results                            \n",
      "==============================================================================\n",
      "Dep. Variable:                lincome   R-squared:                       0.207\n",
      "Model:                            OLS   Adj. R-squared:                  0.206\n",
      "Method:                 Least Squares   F-statistic:                     372.8\n",
      "Date:                Wed, 12 Jul 2023   Prob (F-statistic):          3.41e-215\n",
      "Time:                        00:02:35   Log-Likelihood:                -5129.4\n",
      "No. Observations:                4299   AIC:                         1.027e+04\n",
      "Df Residuals:                    4295   BIC:                         1.029e+04\n",
      "Df Model:                           3                                         \n",
      "Covariance Type:            nonrobust                                         \n",
      "==============================================================================\n",
      "                 coef    std err          t      P>|t|      [0.025      0.975]\n",
      "------------------------------------------------------------------------------\n",
      "const          2.4855      0.111     22.436      0.000       2.268       2.703\n",
      "yeduc          0.1175      0.007     16.649      0.000       0.104       0.131\n",
      "exper          0.1962      0.007     26.179      0.000       0.181       0.211\n",
      "exper2        -0.0064      0.000    -20.181      0.000      -0.007      -0.006\n",
      "==============================================================================\n",
      "Omnibus:                     1489.749   Durbin-Watson:                   1.028\n",
      "Prob(Omnibus):                  0.000   Jarque-Bera (JB):             5682.257\n",
      "Skew:                          -1.698   Prob(JB):                         0.00\n",
      "Kurtosis:                       7.493   Cond. No.                     2.13e+03\n",
      "==============================================================================\n",
      "\n",
      "Notes:\n",
      "[1] Standard Errors assume that the covariance matrix of the errors is correctly specified.\n",
      "[2] The condition number is large, 2.13e+03. This might indicate that there are\n",
      "strong multicollinearity or other numerical problems.\n"
     ]
    }
   ],
   "source": [
    "x = df[[\"yeduc\", \"exper\", \"exper2\"]]\n",
    "y = df[\"lincome\"]\n",
    "\n",
    "X = sm.add_constant(x)\n",
    " \n",
    "#モデルの設定\n",
    "model = sm.OLS(y, X)\n",
    " \n",
    "#回帰分析の実行\n",
    "results = model.fit()\n",
    " \n",
    "#結果の詳細を表示\n",
    "print(results.summary())"
   ]
  },
  {
   "cell_type": "code",
   "execution_count": 2,
   "id": "959c049f-cfc2-4fbc-8a58-2e0ff0a63c9d",
   "metadata": {},
   "outputs": [],
   "source": [
    "path = \"csv/6_2_yeduc.csv\"\n",
    "df = pd.read_csv(path)"
   ]
  },
  {
   "cell_type": "code",
   "execution_count": 3,
   "id": "d13cbb64-cbe0-4f76-8fdf-30a2b41d2d40",
   "metadata": {},
   "outputs": [
    {
     "data": {
      "text/html": [
       "<div>\n",
       "<style scoped>\n",
       "    .dataframe tbody tr th:only-of-type {\n",
       "        vertical-align: middle;\n",
       "    }\n",
       "\n",
       "    .dataframe tbody tr th {\n",
       "        vertical-align: top;\n",
       "    }\n",
       "\n",
       "    .dataframe thead th {\n",
       "        text-align: right;\n",
       "    }\n",
       "</style>\n",
       "<table border=\"1\" class=\"dataframe\">\n",
       "  <thead>\n",
       "    <tr style=\"text-align: right;\">\n",
       "      <th></th>\n",
       "      <th>mocograd</th>\n",
       "      <th>pacograd</th>\n",
       "      <th>yeduc</th>\n",
       "    </tr>\n",
       "  </thead>\n",
       "  <tbody>\n",
       "    <tr>\n",
       "      <th>0</th>\n",
       "      <td>0</td>\n",
       "      <td>0</td>\n",
       "      <td>11.0</td>\n",
       "    </tr>\n",
       "    <tr>\n",
       "      <th>1</th>\n",
       "      <td>0</td>\n",
       "      <td>0</td>\n",
       "      <td>9.0</td>\n",
       "    </tr>\n",
       "    <tr>\n",
       "      <th>2</th>\n",
       "      <td>0</td>\n",
       "      <td>0</td>\n",
       "      <td>11.0</td>\n",
       "    </tr>\n",
       "    <tr>\n",
       "      <th>3</th>\n",
       "      <td>0</td>\n",
       "      <td>0</td>\n",
       "      <td>12.0</td>\n",
       "    </tr>\n",
       "    <tr>\n",
       "      <th>4</th>\n",
       "      <td>0</td>\n",
       "      <td>0</td>\n",
       "      <td>11.0</td>\n",
       "    </tr>\n",
       "    <tr>\n",
       "      <th>...</th>\n",
       "      <td>...</td>\n",
       "      <td>...</td>\n",
       "      <td>...</td>\n",
       "    </tr>\n",
       "    <tr>\n",
       "      <th>3949</th>\n",
       "      <td>1</td>\n",
       "      <td>1</td>\n",
       "      <td>16.5</td>\n",
       "    </tr>\n",
       "    <tr>\n",
       "      <th>3950</th>\n",
       "      <td>1</td>\n",
       "      <td>1</td>\n",
       "      <td>16.5</td>\n",
       "    </tr>\n",
       "    <tr>\n",
       "      <th>3951</th>\n",
       "      <td>1</td>\n",
       "      <td>1</td>\n",
       "      <td>16.5</td>\n",
       "    </tr>\n",
       "    <tr>\n",
       "      <th>3952</th>\n",
       "      <td>1</td>\n",
       "      <td>1</td>\n",
       "      <td>17.5</td>\n",
       "    </tr>\n",
       "    <tr>\n",
       "      <th>3953</th>\n",
       "      <td>1</td>\n",
       "      <td>1</td>\n",
       "      <td>17.0</td>\n",
       "    </tr>\n",
       "  </tbody>\n",
       "</table>\n",
       "<p>3954 rows × 3 columns</p>\n",
       "</div>"
      ],
      "text/plain": [
       "      mocograd  pacograd  yeduc\n",
       "0            0         0   11.0\n",
       "1            0         0    9.0\n",
       "2            0         0   11.0\n",
       "3            0         0   12.0\n",
       "4            0         0   11.0\n",
       "...        ...       ...    ...\n",
       "3949         1         1   16.5\n",
       "3950         1         1   16.5\n",
       "3951         1         1   16.5\n",
       "3952         1         1   17.5\n",
       "3953         1         1   17.0\n",
       "\n",
       "[3954 rows x 3 columns]"
      ]
     },
     "execution_count": 3,
     "metadata": {},
     "output_type": "execute_result"
    }
   ],
   "source": [
    "df"
   ]
  },
  {
   "cell_type": "code",
   "execution_count": 5,
   "id": "a60eacd2-e065-4a53-b1a3-f0715dc4ac63",
   "metadata": {},
   "outputs": [
    {
     "name": "stdout",
     "output_type": "stream",
     "text": [
      "                            OLS Regression Results                            \n",
      "==============================================================================\n",
      "Dep. Variable:               mocograd   R-squared:                       0.161\n",
      "Model:                            OLS   Adj. R-squared:                  0.161\n",
      "Method:                 Least Squares   F-statistic:                     757.7\n",
      "Date:                Sun, 16 Jul 2023   Prob (F-statistic):          9.34e-153\n",
      "Time:                        00:27:19   Log-Likelihood:                -271.76\n",
      "No. Observations:                3954   AIC:                             547.5\n",
      "Df Residuals:                    3952   BIC:                             560.1\n",
      "Df Model:                           1                                         \n",
      "Covariance Type:            nonrobust                                         \n",
      "==============================================================================\n",
      "                 coef    std err          t      P>|t|      [0.025      0.975]\n",
      "------------------------------------------------------------------------------\n",
      "const          0.0150      0.005      3.061      0.002       0.005       0.025\n",
      "pacograd       0.2498      0.009     27.527      0.000       0.232       0.268\n",
      "==============================================================================\n",
      "Omnibus:                     1649.843   Durbin-Watson:                   0.013\n",
      "Prob(Omnibus):                  0.000   Jarque-Bera (JB):             6202.843\n",
      "Skew:                           2.115   Prob(JB):                         0.00\n",
      "Kurtosis:                       7.444   Cond. No.                         2.43\n",
      "==============================================================================\n",
      "\n",
      "Notes:\n",
      "[1] Standard Errors assume that the covariance matrix of the errors is correctly specified.\n"
     ]
    }
   ],
   "source": [
    "x = df[\"pacograd\"]\n",
    "y = df[\"mocograd\"]\n",
    "\n",
    "X = sm.add_constant(x)\n",
    " \n",
    "#モデルの設定\n",
    "model = sm.OLS(y, X)\n",
    " \n",
    "#回帰分析の実行\n",
    "results = model.fit()\n",
    " \n",
    "#結果の詳細を表示\n",
    "print(results.summary())"
   ]
  },
  {
   "cell_type": "code",
   "execution_count": 9,
   "id": "04dacc03-4dd2-4642-8a17-2e201efefa34",
   "metadata": {},
   "outputs": [],
   "source": [
    "res = results.resid"
   ]
  },
  {
   "cell_type": "code",
   "execution_count": 10,
   "id": "125a2993-14ec-45f4-b7c2-e8fa89b97992",
   "metadata": {},
   "outputs": [
    {
     "name": "stdout",
     "output_type": "stream",
     "text": [
      "                            OLS Regression Results                            \n",
      "==============================================================================\n",
      "Dep. Variable:                  yeduc   R-squared:                       0.009\n",
      "Model:                            OLS   Adj. R-squared:                  0.009\n",
      "Method:                 Least Squares   F-statistic:                     35.28\n",
      "Date:                Sun, 16 Jul 2023   Prob (F-statistic):           3.11e-09\n",
      "Time:                        00:33:30   Log-Likelihood:                -6836.3\n",
      "No. Observations:                3954   AIC:                         1.368e+04\n",
      "Df Residuals:                    3952   BIC:                         1.369e+04\n",
      "Df Model:                           1                                         \n",
      "Covariance Type:            nonrobust                                         \n",
      "==============================================================================\n",
      "                 coef    std err          t      P>|t|      [0.025      0.975]\n",
      "------------------------------------------------------------------------------\n",
      "const         13.9613      0.022    643.718      0.000      13.919      14.004\n",
      "0              0.4970      0.084      5.940      0.000       0.333       0.661\n",
      "==============================================================================\n",
      "Omnibus:                       86.106   Durbin-Watson:                   0.867\n",
      "Prob(Omnibus):                  0.000   Jarque-Bera (JB):               45.738\n",
      "Skew:                           0.023   Prob(JB):                     1.17e-10\n",
      "Kurtosis:                       2.475   Cond. No.                         3.86\n",
      "==============================================================================\n",
      "\n",
      "Notes:\n",
      "[1] Standard Errors assume that the covariance matrix of the errors is correctly specified.\n"
     ]
    }
   ],
   "source": [
    "x = res\n",
    "y = df[\"yeduc\"]\n",
    "\n",
    "X = sm.add_constant(x)\n",
    " \n",
    "#モデルの設定\n",
    "model = sm.OLS(y, X)\n",
    " \n",
    "#回帰分析の実行\n",
    "results = model.fit()\n",
    " \n",
    "#結果の詳細を表示\n",
    "print(results.summary())"
   ]
  },
  {
   "cell_type": "code",
   "execution_count": null,
   "id": "0e0fbaa7-077f-4c07-8afb-12fd84816c5a",
   "metadata": {},
   "outputs": [],
   "source": []
  },
  {
   "cell_type": "code",
   "execution_count": null,
   "id": "64ebb262-c670-48f6-8fdf-3116ca506178",
   "metadata": {},
   "outputs": [],
   "source": []
  },
  {
   "cell_type": "code",
   "execution_count": 11,
   "id": "5104de98-335b-47c3-a727-ad42723c9285",
   "metadata": {},
   "outputs": [],
   "source": [
    "path = \"csv/6_3_happy_work.csv\"\n",
    "df = pd.read_csv(path)"
   ]
  },
  {
   "cell_type": "code",
   "execution_count": 12,
   "id": "c36ce8d0-4069-425c-a696-ec0025de2ff9",
   "metadata": {},
   "outputs": [
    {
     "name": "stdout",
     "output_type": "stream",
     "text": [
      "                            OLS Regression Results                            \n",
      "==============================================================================\n",
      "Dep. Variable:             happy_work   R-squared:                       0.001\n",
      "Model:                            OLS   Adj. R-squared:                  0.001\n",
      "Method:                 Least Squares   F-statistic:                     2.965\n",
      "Date:                Sun, 16 Jul 2023   Prob (F-statistic):             0.0852\n",
      "Time:                        01:25:34   Log-Likelihood:                -5646.3\n",
      "No. Observations:                3604   AIC:                         1.130e+04\n",
      "Df Residuals:                    3602   BIC:                         1.131e+04\n",
      "Df Model:                           1                                         \n",
      "Covariance Type:            nonrobust                                         \n",
      "==============================================================================\n",
      "                 coef    std err          t      P>|t|      [0.025      0.975]\n",
      "------------------------------------------------------------------------------\n",
      "const          2.2255      0.034     65.945      0.000       2.159       2.292\n",
      "commute       -0.0014      0.001     -1.722      0.085      -0.003       0.000\n",
      "==============================================================================\n",
      "Omnibus:                      323.164   Durbin-Watson:                   1.813\n",
      "Prob(Omnibus):                  0.000   Jarque-Bera (JB):              162.935\n",
      "Skew:                          -0.356   Prob(JB):                     4.16e-36\n",
      "Kurtosis:                       2.239   Cond. No.                         70.9\n",
      "==============================================================================\n",
      "\n",
      "Notes:\n",
      "[1] Standard Errors assume that the covariance matrix of the errors is correctly specified.\n"
     ]
    }
   ],
   "source": [
    "x = df[\"commute\"]\n",
    "y = df[\"happy_work\"]\n",
    "\n",
    "X = sm.add_constant(x)\n",
    " \n",
    "#モデルの設定\n",
    "model = sm.OLS(y, X)\n",
    " \n",
    "#回帰分析の実行\n",
    "results = model.fit()\n",
    " \n",
    "#結果の詳細を表示\n",
    "print(results.summary())"
   ]
  },
  {
   "cell_type": "code",
   "execution_count": 13,
   "id": "4ea7b1ce-04e1-4b4a-b1ce-c01551c8f8aa",
   "metadata": {},
   "outputs": [
    {
     "name": "stdout",
     "output_type": "stream",
     "text": [
      "                            OLS Regression Results                            \n",
      "==============================================================================\n",
      "Dep. Variable:             happy_work   R-squared:                       0.011\n",
      "Model:                            OLS   Adj. R-squared:                  0.011\n",
      "Method:                 Least Squares   F-statistic:                     13.82\n",
      "Date:                Sun, 16 Jul 2023   Prob (F-statistic):           5.87e-09\n",
      "Time:                        01:26:45   Log-Likelihood:                -5627.2\n",
      "No. Observations:                3604   AIC:                         1.126e+04\n",
      "Df Residuals:                    3600   BIC:                         1.129e+04\n",
      "Df Model:                           3                                         \n",
      "Covariance Type:            nonrobust                                         \n",
      "==============================================================================\n",
      "                 coef    std err          t      P>|t|      [0.025      0.975]\n",
      "------------------------------------------------------------------------------\n",
      "const          1.8357      0.142     12.949      0.000       1.558       2.114\n",
      "commute       -0.0025      0.001     -2.935      0.003      -0.004      -0.001\n",
      "income         0.0005   8.76e-05      5.406      0.000       0.000       0.001\n",
      "yeduc          0.0202      0.010      1.931      0.054      -0.000       0.041\n",
      "==============================================================================\n",
      "Omnibus:                      274.519   Durbin-Watson:                   1.832\n",
      "Prob(Omnibus):                  0.000   Jarque-Bera (JB):              155.370\n",
      "Skew:                          -0.363   Prob(JB):                     1.83e-34\n",
      "Kurtosis:                       2.288   Cond. No.                     2.82e+03\n",
      "==============================================================================\n",
      "\n",
      "Notes:\n",
      "[1] Standard Errors assume that the covariance matrix of the errors is correctly specified.\n",
      "[2] The condition number is large, 2.82e+03. This might indicate that there are\n",
      "strong multicollinearity or other numerical problems.\n"
     ]
    }
   ],
   "source": [
    "x = df[[\"commute\",\"income\", \"yeduc\"]]\n",
    "y = df[\"happy_work\"]\n",
    "\n",
    "X = sm.add_constant(x)\n",
    " \n",
    "#モデルの設定\n",
    "model = sm.OLS(y, X)\n",
    " \n",
    "#回帰分析の実行\n",
    "results = model.fit()\n",
    " \n",
    "#結果の詳細を表示\n",
    "print(results.summary())"
   ]
  },
  {
   "cell_type": "code",
   "execution_count": null,
   "id": "361dc787-2866-4f30-beff-ead946c34ba7",
   "metadata": {},
   "outputs": [],
   "source": []
  },
  {
   "cell_type": "code",
   "execution_count": 16,
   "id": "33cb8b87-6064-4ed2-8b28-d5d888dc6f89",
   "metadata": {},
   "outputs": [
    {
     "data": {
      "text/html": [
       "<div>\n",
       "<style scoped>\n",
       "    .dataframe tbody tr th:only-of-type {\n",
       "        vertical-align: middle;\n",
       "    }\n",
       "\n",
       "    .dataframe tbody tr th {\n",
       "        vertical-align: top;\n",
       "    }\n",
       "\n",
       "    .dataframe thead th {\n",
       "        text-align: right;\n",
       "    }\n",
       "</style>\n",
       "<table border=\"1\" class=\"dataframe\">\n",
       "  <thead>\n",
       "    <tr style=\"text-align: right;\">\n",
       "      <th></th>\n",
       "      <th>income</th>\n",
       "      <th>minshu</th>\n",
       "      <th>yeduc</th>\n",
       "    </tr>\n",
       "  </thead>\n",
       "  <tbody>\n",
       "    <tr>\n",
       "      <th>0</th>\n",
       "      <td>0.0</td>\n",
       "      <td>0</td>\n",
       "      <td>9</td>\n",
       "    </tr>\n",
       "    <tr>\n",
       "      <th>1</th>\n",
       "      <td>0.0</td>\n",
       "      <td>0</td>\n",
       "      <td>9</td>\n",
       "    </tr>\n",
       "    <tr>\n",
       "      <th>2</th>\n",
       "      <td>0.0</td>\n",
       "      <td>30</td>\n",
       "      <td>9</td>\n",
       "    </tr>\n",
       "    <tr>\n",
       "      <th>3</th>\n",
       "      <td>0.0</td>\n",
       "      <td>0</td>\n",
       "      <td>9</td>\n",
       "    </tr>\n",
       "    <tr>\n",
       "      <th>4</th>\n",
       "      <td>0.0</td>\n",
       "      <td>50</td>\n",
       "      <td>9</td>\n",
       "    </tr>\n",
       "  </tbody>\n",
       "</table>\n",
       "</div>"
      ],
      "text/plain": [
       "   income  minshu  yeduc\n",
       "0     0.0       0      9\n",
       "1     0.0       0      9\n",
       "2     0.0      30      9\n",
       "3     0.0       0      9\n",
       "4     0.0      50      9"
      ]
     },
     "execution_count": 16,
     "metadata": {},
     "output_type": "execute_result"
    }
   ],
   "source": [
    "path = \"csv/6_4_minshu.csv\"\n",
    "df = pd.read_csv(path)\n",
    "df.head()"
   ]
  },
  {
   "cell_type": "code",
   "execution_count": 17,
   "id": "a0e8c8a3-61f5-4356-a0ff-d7537cca8e80",
   "metadata": {},
   "outputs": [
    {
     "name": "stdout",
     "output_type": "stream",
     "text": [
      "                            OLS Regression Results                            \n",
      "==============================================================================\n",
      "Dep. Variable:                 minshu   R-squared:                       0.001\n",
      "Model:                            OLS   Adj. R-squared:                  0.001\n",
      "Method:                 Least Squares   F-statistic:                     4.317\n",
      "Date:                Sun, 16 Jul 2023   Prob (F-statistic):             0.0378\n",
      "Time:                        01:32:26   Log-Likelihood:                -18293.\n",
      "No. Observations:                4218   AIC:                         3.659e+04\n",
      "Df Residuals:                    4216   BIC:                         3.660e+04\n",
      "Df Model:                           1                                         \n",
      "Covariance Type:            nonrobust                                         \n",
      "==============================================================================\n",
      "                 coef    std err          t      P>|t|      [0.025      0.975]\n",
      "------------------------------------------------------------------------------\n",
      "const         43.8237      0.424    103.359      0.000      42.992      44.655\n",
      "income         0.0025      0.001      2.078      0.038       0.000       0.005\n",
      "==============================================================================\n",
      "Omnibus:                      326.839   Durbin-Watson:                   1.958\n",
      "Prob(Omnibus):                  0.000   Jarque-Bera (JB):              430.049\n",
      "Skew:                          -0.676   Prob(JB):                     4.13e-94\n",
      "Kurtosis:                       3.787   Cond. No.                         526.\n",
      "==============================================================================\n",
      "\n",
      "Notes:\n",
      "[1] Standard Errors assume that the covariance matrix of the errors is correctly specified.\n"
     ]
    }
   ],
   "source": [
    "x = df[[\"income\"]]\n",
    "y = df[\"minshu\"]\n",
    "\n",
    "X = sm.add_constant(x)\n",
    " \n",
    "#モデルの設定\n",
    "model = sm.OLS(y, X)\n",
    " \n",
    "#回帰分析の実行\n",
    "results = model.fit()\n",
    " \n",
    "#結果の詳細を表示\n",
    "print(results.summary())"
   ]
  },
  {
   "cell_type": "code",
   "execution_count": 18,
   "id": "be74ca9d-0770-4af5-a4c9-d76e7596d560",
   "metadata": {},
   "outputs": [
    {
     "name": "stdout",
     "output_type": "stream",
     "text": [
      "                            OLS Regression Results                            \n",
      "==============================================================================\n",
      "Dep. Variable:                 minshu   R-squared:                       0.002\n",
      "Model:                            OLS   Adj. R-squared:                  0.002\n",
      "Method:                 Least Squares   F-statistic:                     4.518\n",
      "Date:                Sun, 16 Jul 2023   Prob (F-statistic):             0.0110\n",
      "Time:                        01:34:33   Log-Likelihood:                -18290.\n",
      "No. Observations:                4218   AIC:                         3.659e+04\n",
      "Df Residuals:                    4215   BIC:                         3.661e+04\n",
      "Df Model:                           2                                         \n",
      "Covariance Type:            nonrobust                                         \n",
      "==============================================================================\n",
      "                 coef    std err          t      P>|t|      [0.025      0.975]\n",
      "------------------------------------------------------------------------------\n",
      "const         39.3028      2.125     18.496      0.000      35.137      43.469\n",
      "income         0.0020      0.001      1.643      0.101      -0.000       0.004\n",
      "yeduc          0.3349      0.154      2.171      0.030       0.032       0.637\n",
      "==============================================================================\n",
      "Omnibus:                      322.117   Durbin-Watson:                   1.960\n",
      "Prob(Omnibus):                  0.000   Jarque-Bera (JB):              422.705\n",
      "Skew:                          -0.670   Prob(JB):                     1.62e-92\n",
      "Kurtosis:                       3.781   Cond. No.                     2.65e+03\n",
      "==============================================================================\n",
      "\n",
      "Notes:\n",
      "[1] Standard Errors assume that the covariance matrix of the errors is correctly specified.\n",
      "[2] The condition number is large, 2.65e+03. This might indicate that there are\n",
      "strong multicollinearity or other numerical problems.\n"
     ]
    }
   ],
   "source": [
    "x = df[[\"income\",\"yeduc\"]]\n",
    "y = df[\"minshu\"]\n",
    "\n",
    "X = sm.add_constant(x)\n",
    " \n",
    "#モデルの設定\n",
    "model = sm.OLS(y, X)\n",
    " \n",
    "#回帰分析の実行\n",
    "results = model.fit()\n",
    " \n",
    "#結果の詳細を表示\n",
    "print(results.summary())"
   ]
  },
  {
   "cell_type": "code",
   "execution_count": null,
   "id": "28df040f-50bd-42ae-9fd4-46c444b9c5a6",
   "metadata": {},
   "outputs": [],
   "source": []
  },
  {
   "cell_type": "code",
   "execution_count": 19,
   "id": "cdd170eb-6dc2-4b03-94c5-5b2e50928a2a",
   "metadata": {},
   "outputs": [
    {
     "data": {
      "text/html": [
       "<div>\n",
       "<style scoped>\n",
       "    .dataframe tbody tr th:only-of-type {\n",
       "        vertical-align: middle;\n",
       "    }\n",
       "\n",
       "    .dataframe tbody tr th {\n",
       "        vertical-align: top;\n",
       "    }\n",
       "\n",
       "    .dataframe thead th {\n",
       "        text-align: right;\n",
       "    }\n",
       "</style>\n",
       "<table border=\"1\" class=\"dataframe\">\n",
       "  <thead>\n",
       "    <tr style=\"text-align: right;\">\n",
       "      <th></th>\n",
       "      <th>female</th>\n",
       "      <th>yeduc</th>\n",
       "      <th>lincome</th>\n",
       "      <th>female_yeduc</th>\n",
       "    </tr>\n",
       "  </thead>\n",
       "  <tbody>\n",
       "    <tr>\n",
       "      <th>0</th>\n",
       "      <td>0</td>\n",
       "      <td>9</td>\n",
       "      <td>4.605170</td>\n",
       "      <td>0</td>\n",
       "    </tr>\n",
       "    <tr>\n",
       "      <th>1</th>\n",
       "      <td>0</td>\n",
       "      <td>9</td>\n",
       "      <td>5.010635</td>\n",
       "      <td>0</td>\n",
       "    </tr>\n",
       "    <tr>\n",
       "      <th>2</th>\n",
       "      <td>0</td>\n",
       "      <td>9</td>\n",
       "      <td>4.605170</td>\n",
       "      <td>0</td>\n",
       "    </tr>\n",
       "    <tr>\n",
       "      <th>3</th>\n",
       "      <td>0</td>\n",
       "      <td>9</td>\n",
       "      <td>5.010635</td>\n",
       "      <td>0</td>\n",
       "    </tr>\n",
       "    <tr>\n",
       "      <th>4</th>\n",
       "      <td>0</td>\n",
       "      <td>9</td>\n",
       "      <td>5.329089</td>\n",
       "      <td>0</td>\n",
       "    </tr>\n",
       "  </tbody>\n",
       "</table>\n",
       "</div>"
      ],
      "text/plain": [
       "   female  yeduc   lincome  female_yeduc\n",
       "0       0      9  4.605170             0\n",
       "1       0      9  5.010635             0\n",
       "2       0      9  4.605170             0\n",
       "3       0      9  5.010635             0\n",
       "4       0      9  5.329089             0"
      ]
     },
     "execution_count": 19,
     "metadata": {},
     "output_type": "execute_result"
    }
   ],
   "source": [
    "path = \"csv/7_1_income.csv\"\n",
    "df = pd.read_csv(path)\n",
    "df.head()"
   ]
  },
  {
   "cell_type": "code",
   "execution_count": null,
   "id": "e5b891d2-153c-4018-b07a-4cc23c774251",
   "metadata": {},
   "outputs": [],
   "source": []
  },
  {
   "cell_type": "markdown",
   "id": "05629cc3-9544-4c6f-ac58-69eb2c72c2b1",
   "metadata": {},
   "source": [
    "## 7章"
   ]
  },
  {
   "cell_type": "code",
   "execution_count": 22,
   "id": "8174213c-9585-432f-b5c2-ea05421d714e",
   "metadata": {},
   "outputs": [
    {
     "data": {
      "text/html": [
       "<div>\n",
       "<style scoped>\n",
       "    .dataframe tbody tr th:only-of-type {\n",
       "        vertical-align: middle;\n",
       "    }\n",
       "\n",
       "    .dataframe tbody tr th {\n",
       "        vertical-align: top;\n",
       "    }\n",
       "\n",
       "    .dataframe thead th {\n",
       "        text-align: right;\n",
       "    }\n",
       "</style>\n",
       "<table border=\"1\" class=\"dataframe\">\n",
       "  <thead>\n",
       "    <tr style=\"text-align: right;\">\n",
       "      <th></th>\n",
       "      <th>commute</th>\n",
       "      <th>female</th>\n",
       "      <th>happy_work</th>\n",
       "      <th>income</th>\n",
       "      <th>yeduc</th>\n",
       "      <th>female_commute</th>\n",
       "      <th>female_yeduc</th>\n",
       "      <th>female_income</th>\n",
       "    </tr>\n",
       "  </thead>\n",
       "  <tbody>\n",
       "    <tr>\n",
       "      <th>0</th>\n",
       "      <td>0</td>\n",
       "      <td>0</td>\n",
       "      <td>3</td>\n",
       "      <td>300.0</td>\n",
       "      <td>11</td>\n",
       "      <td>0</td>\n",
       "      <td>0</td>\n",
       "      <td>0.0</td>\n",
       "    </tr>\n",
       "    <tr>\n",
       "      <th>1</th>\n",
       "      <td>0</td>\n",
       "      <td>0</td>\n",
       "      <td>3</td>\n",
       "      <td>300.0</td>\n",
       "      <td>11</td>\n",
       "      <td>0</td>\n",
       "      <td>0</td>\n",
       "      <td>0.0</td>\n",
       "    </tr>\n",
       "    <tr>\n",
       "      <th>2</th>\n",
       "      <td>0</td>\n",
       "      <td>0</td>\n",
       "      <td>3</td>\n",
       "      <td>300.0</td>\n",
       "      <td>11</td>\n",
       "      <td>0</td>\n",
       "      <td>0</td>\n",
       "      <td>0.0</td>\n",
       "    </tr>\n",
       "    <tr>\n",
       "      <th>3</th>\n",
       "      <td>0</td>\n",
       "      <td>0</td>\n",
       "      <td>3</td>\n",
       "      <td>300.0</td>\n",
       "      <td>11</td>\n",
       "      <td>0</td>\n",
       "      <td>0</td>\n",
       "      <td>0.0</td>\n",
       "    </tr>\n",
       "    <tr>\n",
       "      <th>4</th>\n",
       "      <td>0</td>\n",
       "      <td>1</td>\n",
       "      <td>4</td>\n",
       "      <td>0.0</td>\n",
       "      <td>12</td>\n",
       "      <td>0</td>\n",
       "      <td>12</td>\n",
       "      <td>0.0</td>\n",
       "    </tr>\n",
       "  </tbody>\n",
       "</table>\n",
       "</div>"
      ],
      "text/plain": [
       "   commute  female  happy_work  income  yeduc  female_commute  female_yeduc  \\\n",
       "0        0       0           3   300.0     11               0             0   \n",
       "1        0       0           3   300.0     11               0             0   \n",
       "2        0       0           3   300.0     11               0             0   \n",
       "3        0       0           3   300.0     11               0             0   \n",
       "4        0       1           4     0.0     12               0            12   \n",
       "\n",
       "   female_income  \n",
       "0            0.0  \n",
       "1            0.0  \n",
       "2            0.0  \n",
       "3            0.0  \n",
       "4            0.0  "
      ]
     },
     "execution_count": 22,
     "metadata": {},
     "output_type": "execute_result"
    }
   ],
   "source": [
    "path = \"csv/7_3_happy_work.csv\"\n",
    "df = pd.read_csv(path)\n",
    "df.head()"
   ]
  },
  {
   "cell_type": "code",
   "execution_count": 23,
   "id": "7f0a4a86-870e-43cf-8959-8dc614577bb4",
   "metadata": {},
   "outputs": [
    {
     "name": "stdout",
     "output_type": "stream",
     "text": [
      "                            OLS Regression Results                            \n",
      "==============================================================================\n",
      "Dep. Variable:             happy_work   R-squared:                       0.004\n",
      "Model:                            OLS   Adj. R-squared:                  0.003\n",
      "Method:                 Least Squares   F-statistic:                     4.384\n",
      "Date:                Mon, 17 Jul 2023   Prob (F-statistic):            0.00437\n",
      "Time:                        01:34:48   Log-Likelihood:                -4811.2\n",
      "No. Observations:                3097   AIC:                             9630.\n",
      "Df Residuals:                    3093   BIC:                             9655.\n",
      "Df Model:                           3                                         \n",
      "Covariance Type:            nonrobust                                         \n",
      "==================================================================================\n",
      "                     coef    std err          t      P>|t|      [0.025      0.975]\n",
      "----------------------------------------------------------------------------------\n",
      "const              2.2181      0.052     42.838      0.000       2.117       2.320\n",
      "commute           -0.0023      0.001     -1.786      0.074      -0.005       0.000\n",
      "female             0.1213      0.077      1.584      0.113      -0.029       0.272\n",
      "female_commute    -0.0016      0.002     -0.770      0.441      -0.006       0.002\n",
      "==============================================================================\n",
      "Omnibus:                      239.321   Durbin-Watson:                   1.855\n",
      "Prob(Omnibus):                  0.000   Jarque-Bera (JB):              127.030\n",
      "Skew:                          -0.338   Prob(JB):                     2.60e-28\n",
      "Kurtosis:                       2.273   Cond. No.                         171.\n",
      "==============================================================================\n",
      "\n",
      "Notes:\n",
      "[1] Standard Errors assume that the covariance matrix of the errors is correctly specified.\n"
     ]
    }
   ],
   "source": [
    "x = df[[\"commute\",\"female\",\"female_commute\"]]\n",
    "y = df[\"happy_work\"]\n",
    "\n",
    "X = sm.add_constant(x)\n",
    " \n",
    "#モデルの設定\n",
    "model = sm.OLS(y, X)\n",
    " \n",
    "#回帰分析の実行\n",
    "results = model.fit()\n",
    " \n",
    "#結果の詳細を表示\n",
    "print(results.summary())"
   ]
  },
  {
   "cell_type": "code",
   "execution_count": 41,
   "id": "28e8e744-561a-423a-996e-a8a60e8ce02e",
   "metadata": {},
   "outputs": [
    {
     "data": {
      "text/html": [
       "<div>\n",
       "<style scoped>\n",
       "    .dataframe tbody tr th:only-of-type {\n",
       "        vertical-align: middle;\n",
       "    }\n",
       "\n",
       "    .dataframe tbody tr th {\n",
       "        vertical-align: top;\n",
       "    }\n",
       "\n",
       "    .dataframe thead th {\n",
       "        text-align: right;\n",
       "    }\n",
       "</style>\n",
       "<table border=\"1\" class=\"dataframe\">\n",
       "  <thead>\n",
       "    <tr style=\"text-align: right;\">\n",
       "      <th></th>\n",
       "      <th>city</th>\n",
       "      <th>income</th>\n",
       "      <th>minshu</th>\n",
       "      <th>yeduc</th>\n",
       "      <th>city_income</th>\n",
       "      <th>city_yeduc</th>\n",
       "    </tr>\n",
       "  </thead>\n",
       "  <tbody>\n",
       "    <tr>\n",
       "      <th>0</th>\n",
       "      <td>0</td>\n",
       "      <td>0.0</td>\n",
       "      <td>0</td>\n",
       "      <td>9</td>\n",
       "      <td>0.0</td>\n",
       "      <td>0</td>\n",
       "    </tr>\n",
       "    <tr>\n",
       "      <th>1</th>\n",
       "      <td>0</td>\n",
       "      <td>0.0</td>\n",
       "      <td>50</td>\n",
       "      <td>9</td>\n",
       "      <td>0.0</td>\n",
       "      <td>0</td>\n",
       "    </tr>\n",
       "    <tr>\n",
       "      <th>2</th>\n",
       "      <td>0</td>\n",
       "      <td>0.0</td>\n",
       "      <td>40</td>\n",
       "      <td>9</td>\n",
       "      <td>0.0</td>\n",
       "      <td>0</td>\n",
       "    </tr>\n",
       "    <tr>\n",
       "      <th>3</th>\n",
       "      <td>0</td>\n",
       "      <td>0.0</td>\n",
       "      <td>50</td>\n",
       "      <td>9</td>\n",
       "      <td>0.0</td>\n",
       "      <td>0</td>\n",
       "    </tr>\n",
       "    <tr>\n",
       "      <th>4</th>\n",
       "      <td>0</td>\n",
       "      <td>0.0</td>\n",
       "      <td>50</td>\n",
       "      <td>9</td>\n",
       "      <td>0.0</td>\n",
       "      <td>0</td>\n",
       "    </tr>\n",
       "  </tbody>\n",
       "</table>\n",
       "</div>"
      ],
      "text/plain": [
       "   city  income  minshu  yeduc  city_income  city_yeduc\n",
       "0     0     0.0       0      9          0.0           0\n",
       "1     0     0.0      50      9          0.0           0\n",
       "2     0     0.0      40      9          0.0           0\n",
       "3     0     0.0      50      9          0.0           0\n",
       "4     0     0.0      50      9          0.0           0"
      ]
     },
     "execution_count": 41,
     "metadata": {},
     "output_type": "execute_result"
    }
   ],
   "source": [
    "path = \"csv/7_4_minshu.csv\"\n",
    "df = pd.read_csv(path)\n",
    "df.head()"
   ]
  },
  {
   "cell_type": "code",
   "execution_count": 42,
   "id": "c3f2e133-c81d-469f-956c-dac995f49c59",
   "metadata": {},
   "outputs": [
    {
     "name": "stdout",
     "output_type": "stream",
     "text": [
      "                            OLS Regression Results                            \n",
      "==============================================================================\n",
      "Dep. Variable:                 minshu   R-squared:                       0.006\n",
      "Model:                            OLS   Adj. R-squared:                  0.005\n",
      "Method:                 Least Squares   F-statistic:                     5.033\n",
      "Date:                Tue, 18 Jul 2023   Prob (F-statistic):           0.000133\n",
      "Time:                        10:39:16   Log-Likelihood:                -18213.\n",
      "No. Observations:                4218   AIC:                         3.644e+04\n",
      "Df Residuals:                    4212   BIC:                         3.648e+04\n",
      "Df Model:                           5                                         \n",
      "Covariance Type:            nonrobust                                         \n",
      "===============================================================================\n",
      "                  coef    std err          t      P>|t|      [0.025      0.975]\n",
      "-------------------------------------------------------------------------------\n",
      "const          40.9451      3.267     12.532      0.000      34.540      47.351\n",
      "city           -5.9906      4.266     -1.404      0.160     -14.355       2.374\n",
      "income          0.0039      0.002      2.009      0.045    9.34e-05       0.008\n",
      "yeduc           0.2197      0.241      0.910      0.363      -0.254       0.693\n",
      "city_income    -0.0007      0.002     -0.271      0.787      -0.006       0.004\n",
      "city_yeduc      0.3478      0.311      1.117      0.264      -0.263       0.958\n",
      "==============================================================================\n",
      "Omnibus:                      345.831   Durbin-Watson:                   1.872\n",
      "Prob(Omnibus):                  0.000   Jarque-Bera (JB):              444.818\n",
      "Skew:                          -0.724   Prob(JB):                     2.56e-97\n",
      "Kurtosis:                       3.657   Cond. No.                     7.77e+03\n",
      "==============================================================================\n",
      "\n",
      "Notes:\n",
      "[1] Standard Errors assume that the covariance matrix of the errors is correctly specified.\n",
      "[2] The condition number is large, 7.77e+03. This might indicate that there are\n",
      "strong multicollinearity or other numerical problems.\n"
     ]
    }
   ],
   "source": [
    "x = df[[\"city\", \"income\", \"yeduc\", \"city_income\", \"city_yeduc\"]]\n",
    "y = df[\"minshu\"]\n",
    "\n",
    "X = sm.add_constant(x)\n",
    " \n",
    "#モデルの設定\n",
    "model = sm.OLS(y, X)\n",
    " \n",
    "#回帰分析の実行\n",
    "results = model.fit()\n",
    " \n",
    "#結果の詳細を表示\n",
    "print(results.summary())"
   ]
  },
  {
   "cell_type": "code",
   "execution_count": 43,
   "id": "683f75a3-8387-4c4c-b3cb-7069b57b7db2",
   "metadata": {},
   "outputs": [
    {
     "name": "stdout",
     "output_type": "stream",
     "text": [
      "<F test: F=2.3135749093772424, p=0.0739712801067475, df_denom=4.21e+03, df_num=3>\n"
     ]
    }
   ],
   "source": [
    "# 都市部とそれ以外で年収や就学年数が民主党支持感情に与える影響の回帰モデルが異なるかどうか検定\n",
    "# 10% 水準であれば棄却することができる。\n",
    "hypothesis = '(city = 0), (city_income = 0), (city_yeduc = 0)'\n",
    "f_test = results.f_test(hypothesis)\n",
    "print(f_test)"
   ]
  },
  {
   "cell_type": "code",
   "execution_count": 44,
   "id": "a8f32405-c14f-48a4-898b-5987496a4378",
   "metadata": {},
   "outputs": [
    {
     "data": {
      "text/html": [
       "<div>\n",
       "<style scoped>\n",
       "    .dataframe tbody tr th:only-of-type {\n",
       "        vertical-align: middle;\n",
       "    }\n",
       "\n",
       "    .dataframe tbody tr th {\n",
       "        vertical-align: top;\n",
       "    }\n",
       "\n",
       "    .dataframe thead th {\n",
       "        text-align: right;\n",
       "    }\n",
       "</style>\n",
       "<table border=\"1\" class=\"dataframe\">\n",
       "  <thead>\n",
       "    <tr style=\"text-align: right;\">\n",
       "      <th></th>\n",
       "      <th>city</th>\n",
       "      <th>income</th>\n",
       "      <th>minshu</th>\n",
       "      <th>yeduc</th>\n",
       "      <th>city_income</th>\n",
       "      <th>city_yeduc</th>\n",
       "    </tr>\n",
       "  </thead>\n",
       "  <tbody>\n",
       "    <tr>\n",
       "      <th>0</th>\n",
       "      <td>0</td>\n",
       "      <td>0.0</td>\n",
       "      <td>0</td>\n",
       "      <td>9</td>\n",
       "      <td>0.0</td>\n",
       "      <td>0</td>\n",
       "    </tr>\n",
       "    <tr>\n",
       "      <th>1</th>\n",
       "      <td>0</td>\n",
       "      <td>0.0</td>\n",
       "      <td>50</td>\n",
       "      <td>9</td>\n",
       "      <td>0.0</td>\n",
       "      <td>0</td>\n",
       "    </tr>\n",
       "    <tr>\n",
       "      <th>2</th>\n",
       "      <td>0</td>\n",
       "      <td>0.0</td>\n",
       "      <td>40</td>\n",
       "      <td>9</td>\n",
       "      <td>0.0</td>\n",
       "      <td>0</td>\n",
       "    </tr>\n",
       "    <tr>\n",
       "      <th>3</th>\n",
       "      <td>0</td>\n",
       "      <td>0.0</td>\n",
       "      <td>50</td>\n",
       "      <td>9</td>\n",
       "      <td>0.0</td>\n",
       "      <td>0</td>\n",
       "    </tr>\n",
       "    <tr>\n",
       "      <th>4</th>\n",
       "      <td>0</td>\n",
       "      <td>0.0</td>\n",
       "      <td>50</td>\n",
       "      <td>9</td>\n",
       "      <td>0.0</td>\n",
       "      <td>0</td>\n",
       "    </tr>\n",
       "    <tr>\n",
       "      <th>...</th>\n",
       "      <td>...</td>\n",
       "      <td>...</td>\n",
       "      <td>...</td>\n",
       "      <td>...</td>\n",
       "      <td>...</td>\n",
       "      <td>...</td>\n",
       "    </tr>\n",
       "    <tr>\n",
       "      <th>4213</th>\n",
       "      <td>1</td>\n",
       "      <td>2250.0</td>\n",
       "      <td>50</td>\n",
       "      <td>14</td>\n",
       "      <td>2250.0</td>\n",
       "      <td>14</td>\n",
       "    </tr>\n",
       "    <tr>\n",
       "      <th>4214</th>\n",
       "      <td>0</td>\n",
       "      <td>2250.0</td>\n",
       "      <td>80</td>\n",
       "      <td>16</td>\n",
       "      <td>0.0</td>\n",
       "      <td>0</td>\n",
       "    </tr>\n",
       "    <tr>\n",
       "      <th>4215</th>\n",
       "      <td>0</td>\n",
       "      <td>2250.0</td>\n",
       "      <td>80</td>\n",
       "      <td>16</td>\n",
       "      <td>0.0</td>\n",
       "      <td>0</td>\n",
       "    </tr>\n",
       "    <tr>\n",
       "      <th>4216</th>\n",
       "      <td>1</td>\n",
       "      <td>2250.0</td>\n",
       "      <td>40</td>\n",
       "      <td>16</td>\n",
       "      <td>2250.0</td>\n",
       "      <td>16</td>\n",
       "    </tr>\n",
       "    <tr>\n",
       "      <th>4217</th>\n",
       "      <td>1</td>\n",
       "      <td>2250.0</td>\n",
       "      <td>0</td>\n",
       "      <td>17</td>\n",
       "      <td>2250.0</td>\n",
       "      <td>17</td>\n",
       "    </tr>\n",
       "  </tbody>\n",
       "</table>\n",
       "<p>4218 rows × 6 columns</p>\n",
       "</div>"
      ],
      "text/plain": [
       "      city  income  minshu  yeduc  city_income  city_yeduc\n",
       "0        0     0.0       0      9          0.0           0\n",
       "1        0     0.0      50      9          0.0           0\n",
       "2        0     0.0      40      9          0.0           0\n",
       "3        0     0.0      50      9          0.0           0\n",
       "4        0     0.0      50      9          0.0           0\n",
       "...    ...     ...     ...    ...          ...         ...\n",
       "4213     1  2250.0      50     14       2250.0          14\n",
       "4214     0  2250.0      80     16          0.0           0\n",
       "4215     0  2250.0      80     16          0.0           0\n",
       "4216     1  2250.0      40     16       2250.0          16\n",
       "4217     1  2250.0       0     17       2250.0          17\n",
       "\n",
       "[4218 rows x 6 columns]"
      ]
     },
     "execution_count": 44,
     "metadata": {},
     "output_type": "execute_result"
    }
   ],
   "source": [
    "df"
   ]
  },
  {
   "cell_type": "markdown",
   "id": "cd4517fb-7724-4db3-b6d7-97cd03f0fb0f",
   "metadata": {},
   "source": [
    "# 操作変数法！"
   ]
  },
  {
   "cell_type": "code",
   "execution_count": 46,
   "id": "aad4fe15-1436-4aab-b356-11738edd5c32",
   "metadata": {},
   "outputs": [
    {
     "data": {
      "text/html": [
       "<div>\n",
       "<style scoped>\n",
       "    .dataframe tbody tr th:only-of-type {\n",
       "        vertical-align: middle;\n",
       "    }\n",
       "\n",
       "    .dataframe tbody tr th {\n",
       "        vertical-align: top;\n",
       "    }\n",
       "\n",
       "    .dataframe thead th {\n",
       "        text-align: right;\n",
       "    }\n",
       "</style>\n",
       "<table border=\"1\" class=\"dataframe\">\n",
       "  <thead>\n",
       "    <tr style=\"text-align: right;\">\n",
       "      <th></th>\n",
       "      <th>exper</th>\n",
       "      <th>exper2</th>\n",
       "      <th>mbirth</th>\n",
       "      <th>moyeduc</th>\n",
       "      <th>payeduc</th>\n",
       "      <th>sibs</th>\n",
       "      <th>yeduc</th>\n",
       "      <th>lincome</th>\n",
       "    </tr>\n",
       "  </thead>\n",
       "  <tbody>\n",
       "    <tr>\n",
       "      <th>0</th>\n",
       "      <td>19</td>\n",
       "      <td>361</td>\n",
       "      <td>6</td>\n",
       "      <td>9</td>\n",
       "      <td>9</td>\n",
       "      <td>1</td>\n",
       "      <td>9</td>\n",
       "      <td>5.703783</td>\n",
       "    </tr>\n",
       "    <tr>\n",
       "      <th>1</th>\n",
       "      <td>19</td>\n",
       "      <td>361</td>\n",
       "      <td>4</td>\n",
       "      <td>12</td>\n",
       "      <td>12</td>\n",
       "      <td>1</td>\n",
       "      <td>9</td>\n",
       "      <td>5.991465</td>\n",
       "    </tr>\n",
       "    <tr>\n",
       "      <th>2</th>\n",
       "      <td>19</td>\n",
       "      <td>361</td>\n",
       "      <td>1</td>\n",
       "      <td>9</td>\n",
       "      <td>9</td>\n",
       "      <td>1</td>\n",
       "      <td>9</td>\n",
       "      <td>6.214608</td>\n",
       "    </tr>\n",
       "    <tr>\n",
       "      <th>3</th>\n",
       "      <td>19</td>\n",
       "      <td>361</td>\n",
       "      <td>9</td>\n",
       "      <td>9</td>\n",
       "      <td>9</td>\n",
       "      <td>1</td>\n",
       "      <td>9</td>\n",
       "      <td>6.214608</td>\n",
       "    </tr>\n",
       "    <tr>\n",
       "      <th>4</th>\n",
       "      <td>23</td>\n",
       "      <td>529</td>\n",
       "      <td>8</td>\n",
       "      <td>9</td>\n",
       "      <td>9</td>\n",
       "      <td>3</td>\n",
       "      <td>9</td>\n",
       "      <td>6.309918</td>\n",
       "    </tr>\n",
       "  </tbody>\n",
       "</table>\n",
       "</div>"
      ],
      "text/plain": [
       "   exper  exper2  mbirth  moyeduc  payeduc  sibs  yeduc   lincome\n",
       "0     19     361       6        9        9     1      9  5.703783\n",
       "1     19     361       4       12       12     1      9  5.991465\n",
       "2     19     361       1        9        9     1      9  6.214608\n",
       "3     19     361       9        9        9     1      9  6.214608\n",
       "4     23     529       8        9        9     3      9  6.309918"
      ]
     },
     "execution_count": 46,
     "metadata": {},
     "output_type": "execute_result"
    }
   ],
   "source": [
    "path = \"csv/8_income.csv\"\n",
    "df = pd.read_csv(path)\n",
    "df.head()"
   ]
  },
  {
   "cell_type": "code",
   "execution_count": 51,
   "id": "4cbb40b6-2424-4615-b783-54f9bade948d",
   "metadata": {},
   "outputs": [
    {
     "name": "stdout",
     "output_type": "stream",
     "text": [
      "                            OLS Regression Results                            \n",
      "==============================================================================\n",
      "Dep. Variable:                  yeduc   R-squared:                       0.158\n",
      "Model:                            OLS   Adj. R-squared:                  0.154\n",
      "Method:                 Least Squares   F-statistic:                     45.55\n",
      "Date:                Fri, 21 Jul 2023   Prob (F-statistic):           5.41e-27\n",
      "Time:                        18:32:43   Log-Likelihood:                -1504.1\n",
      "No. Observations:                 734   AIC:                             3016.\n",
      "Df Residuals:                     730   BIC:                             3035.\n",
      "Df Model:                           3                                         \n",
      "Covariance Type:            nonrobust                                         \n",
      "==============================================================================\n",
      "                 coef    std err          t      P>|t|      [0.025      0.975]\n",
      "------------------------------------------------------------------------------\n",
      "const          9.8074      0.465     21.072      0.000       8.894      10.721\n",
      "payeduc        0.2106      0.036      5.932      0.000       0.141       0.280\n",
      "sibs          -0.2472      0.086     -2.862      0.004      -0.417      -0.078\n",
      "moyeduc        0.1790      0.047      3.769      0.000       0.086       0.272\n",
      "==============================================================================\n",
      "Omnibus:                       94.588   Durbin-Watson:                   0.255\n",
      "Prob(Omnibus):                  0.000   Jarque-Bera (JB):               24.891\n",
      "Skew:                          -0.007   Prob(JB):                     3.94e-06\n",
      "Kurtosis:                       2.098   Cond. No.                         116.\n",
      "==============================================================================\n",
      "\n",
      "Notes:\n",
      "[1] Standard Errors assume that the covariance matrix of the errors is correctly specified.\n"
     ]
    }
   ],
   "source": [
    "x = df[[\"payeduc\",\"sibs\", \"moyeduc\",]]\n",
    "y = df[\"yeduc\"]\n",
    "\n",
    "X = sm.add_constant(x)\n",
    " \n",
    "#モデルの設定\n",
    "model = sm.OLS(y, X)\n",
    " \n",
    "#回帰分析の実行\n",
    "results = model.fit()\n",
    " \n",
    "#結果の詳細を表示\n",
    "print(results.summary())"
   ]
  },
  {
   "cell_type": "code",
   "execution_count": 52,
   "id": "8c9dac36-386e-453d-bd41-14ee14f52ee3",
   "metadata": {},
   "outputs": [
    {
     "name": "stdout",
     "output_type": "stream",
     "text": [
      "                            OLS Regression Results                            \n",
      "==============================================================================\n",
      "Dep. Variable:                lincome   R-squared:                       0.003\n",
      "Model:                            OLS   Adj. R-squared:                  0.001\n",
      "Method:                 Least Squares   F-statistic:                     2.082\n",
      "Date:                Fri, 21 Jul 2023   Prob (F-statistic):              0.149\n",
      "Time:                        18:32:45   Log-Likelihood:                -281.91\n",
      "No. Observations:                 734   AIC:                             567.8\n",
      "Df Residuals:                     732   BIC:                             577.0\n",
      "Df Model:                           1                                         \n",
      "Covariance Type:            nonrobust                                         \n",
      "==============================================================================\n",
      "                 coef    std err          t      P>|t|      [0.025      0.975]\n",
      "------------------------------------------------------------------------------\n",
      "const          5.8412      0.229     25.524      0.000       5.392       6.290\n",
      "0              0.0233      0.016      1.443      0.149      -0.008       0.055\n",
      "==============================================================================\n",
      "Omnibus:                       17.353   Durbin-Watson:                   1.043\n",
      "Prob(Omnibus):                  0.000   Jarque-Bera (JB):               32.229\n",
      "Skew:                           0.105   Prob(JB):                     1.00e-07\n",
      "Kurtosis:                       4.005   Cond. No.                         248.\n",
      "==============================================================================\n",
      "\n",
      "Notes:\n",
      "[1] Standard Errors assume that the covariance matrix of the errors is correctly specified.\n"
     ]
    }
   ],
   "source": [
    "\n",
    "x = results.fittedvalues\n",
    "y = df[\"lincome\"]\n",
    "\n",
    "X = sm.add_constant(x)\n",
    " \n",
    "#モデルの設定\n",
    "model = sm.OLS(y, X)\n",
    " \n",
    "#回帰分析の実行\n",
    "results = model.fit()\n",
    " \n",
    "#結果の詳細を表示\n",
    "print(results.summary())"
   ]
  },
  {
   "cell_type": "code",
   "execution_count": null,
   "id": "58564d36-bdbd-44f8-9d4f-a701f44829d8",
   "metadata": {},
   "outputs": [],
   "source": []
  },
  {
   "cell_type": "code",
   "execution_count": 53,
   "id": "95a44362-3e5d-4b99-a1d9-4c44e40257bf",
   "metadata": {},
   "outputs": [
    {
     "name": "stdout",
     "output_type": "stream",
     "text": [
      "                            OLS Regression Results                            \n",
      "==============================================================================\n",
      "Dep. Variable:                  yeduc   R-squared:                       0.158\n",
      "Model:                            OLS   Adj. R-squared:                  0.153\n",
      "Method:                 Least Squares   F-statistic:                     34.20\n",
      "Date:                Fri, 21 Jul 2023   Prob (F-statistic):           3.48e-26\n",
      "Time:                        18:33:39   Log-Likelihood:                -1504.0\n",
      "No. Observations:                 734   AIC:                             3018.\n",
      "Df Residuals:                     729   BIC:                             3041.\n",
      "Df Model:                           4                                         \n",
      "Covariance Type:            nonrobust                                         \n",
      "==============================================================================\n",
      "                 coef    std err          t      P>|t|      [0.025      0.975]\n",
      "------------------------------------------------------------------------------\n",
      "const          9.7519      0.477     20.435      0.000       8.815      10.689\n",
      "payeduc        0.2115      0.036      5.948      0.000       0.142       0.281\n",
      "sibs          -0.2452      0.086     -2.836      0.005      -0.415      -0.075\n",
      "moyeduc        0.1768      0.048      3.706      0.000       0.083       0.270\n",
      "mbirth         0.0105      0.020      0.531      0.596      -0.028       0.049\n",
      "==============================================================================\n",
      "Omnibus:                       90.590   Durbin-Watson:                   0.256\n",
      "Prob(Omnibus):                  0.000   Jarque-Bera (JB):               24.395\n",
      "Skew:                          -0.009   Prob(JB):                     5.04e-06\n",
      "Kurtosis:                       2.107   Cond. No.                         127.\n",
      "==============================================================================\n",
      "\n",
      "Notes:\n",
      "[1] Standard Errors assume that the covariance matrix of the errors is correctly specified.\n"
     ]
    }
   ],
   "source": [
    "x = df[[\"payeduc\",\"sibs\", \"moyeduc\",\"mbirth\"]]\n",
    "y = df[\"yeduc\"]\n",
    "\n",
    "X = sm.add_constant(x)\n",
    " \n",
    "#モデルの設定\n",
    "model = sm.OLS(y, X)\n",
    " \n",
    "#回帰分析の実行\n",
    "results = model.fit()\n",
    " \n",
    "#結果の詳細を表示\n",
    "print(results.summary())"
   ]
  },
  {
   "cell_type": "code",
   "execution_count": 54,
   "id": "8cf2b624-6cae-495a-9a73-73931ef0f063",
   "metadata": {},
   "outputs": [
    {
     "name": "stdout",
     "output_type": "stream",
     "text": [
      "                            OLS Regression Results                            \n",
      "==============================================================================\n",
      "Dep. Variable:                lincome   R-squared:                       0.003\n",
      "Model:                            OLS   Adj. R-squared:                  0.002\n",
      "Method:                 Least Squares   F-statistic:                     2.307\n",
      "Date:                Fri, 21 Jul 2023   Prob (F-statistic):              0.129\n",
      "Time:                        18:33:40   Log-Likelihood:                -281.79\n",
      "No. Observations:                 734   AIC:                             567.6\n",
      "Df Residuals:                     732   BIC:                             576.8\n",
      "Df Model:                           1                                         \n",
      "Covariance Type:            nonrobust                                         \n",
      "==============================================================================\n",
      "                 coef    std err          t      P>|t|      [0.025      0.975]\n",
      "------------------------------------------------------------------------------\n",
      "const          5.8243      0.229     25.480      0.000       5.376       6.273\n",
      "0              0.0245      0.016      1.519      0.129      -0.007       0.056\n",
      "==============================================================================\n",
      "Omnibus:                       17.315   Durbin-Watson:                   1.045\n",
      "Prob(Omnibus):                  0.000   Jarque-Bera (JB):               32.159\n",
      "Skew:                           0.104   Prob(JB):                     1.04e-07\n",
      "Kurtosis:                       4.004   Cond. No.                         248.\n",
      "==============================================================================\n",
      "\n",
      "Notes:\n",
      "[1] Standard Errors assume that the covariance matrix of the errors is correctly specified.\n"
     ]
    }
   ],
   "source": [
    "\n",
    "x = results.fittedvalues\n",
    "y = df[\"lincome\"]\n",
    "\n",
    "X = sm.add_constant(x)\n",
    " \n",
    "#モデルの設定\n",
    "model = sm.OLS(y, X)\n",
    " \n",
    "#回帰分析の実行\n",
    "results = model.fit()\n",
    " \n",
    "#結果の詳細を表示\n",
    "print(results.summary())"
   ]
  },
  {
   "cell_type": "code",
   "execution_count": null,
   "id": "d05f182b-82fc-4a97-b394-2285b98e7033",
   "metadata": {},
   "outputs": [],
   "source": []
  },
  {
   "cell_type": "code",
   "execution_count": 2,
   "id": "def49d35-aedc-4440-bb47-77c59a01ca1c",
   "metadata": {},
   "outputs": [],
   "source": []
  },
  {
   "cell_type": "markdown",
   "id": "5d26d5e0-3862-47e5-9bad-5251740cac47",
   "metadata": {},
   "source": [
    "# 傾向スコアマッチング"
   ]
  },
  {
   "cell_type": "code",
   "execution_count": 3,
   "id": "eda17b37-0971-455a-aa30-7067519aaecb",
   "metadata": {},
   "outputs": [
    {
     "data": {
      "text/html": [
       "<div>\n",
       "<style scoped>\n",
       "    .dataframe tbody tr th:only-of-type {\n",
       "        vertical-align: middle;\n",
       "    }\n",
       "\n",
       "    .dataframe tbody tr th {\n",
       "        vertical-align: top;\n",
       "    }\n",
       "\n",
       "    .dataframe thead th {\n",
       "        text-align: right;\n",
       "    }\n",
       "</style>\n",
       "<table border=\"1\" class=\"dataframe\">\n",
       "  <thead>\n",
       "    <tr style=\"text-align: right;\">\n",
       "      <th></th>\n",
       "      <th>academic15</th>\n",
       "      <th>books15</th>\n",
       "      <th>life15</th>\n",
       "      <th>mocograd</th>\n",
       "      <th>mowork15</th>\n",
       "      <th>pacograd</th>\n",
       "      <th>sibs</th>\n",
       "      <th>work</th>\n",
       "    </tr>\n",
       "  </thead>\n",
       "  <tbody>\n",
       "    <tr>\n",
       "      <th>0</th>\n",
       "      <td>1</td>\n",
       "      <td>1</td>\n",
       "      <td>2</td>\n",
       "      <td>0</td>\n",
       "      <td>0</td>\n",
       "      <td>0</td>\n",
       "      <td>0</td>\n",
       "      <td>0</td>\n",
       "    </tr>\n",
       "    <tr>\n",
       "      <th>1</th>\n",
       "      <td>1</td>\n",
       "      <td>8</td>\n",
       "      <td>2</td>\n",
       "      <td>0</td>\n",
       "      <td>0</td>\n",
       "      <td>0</td>\n",
       "      <td>0</td>\n",
       "      <td>0</td>\n",
       "    </tr>\n",
       "    <tr>\n",
       "      <th>2</th>\n",
       "      <td>2</td>\n",
       "      <td>6</td>\n",
       "      <td>3</td>\n",
       "      <td>0</td>\n",
       "      <td>0</td>\n",
       "      <td>0</td>\n",
       "      <td>0</td>\n",
       "      <td>0</td>\n",
       "    </tr>\n",
       "    <tr>\n",
       "      <th>3</th>\n",
       "      <td>3</td>\n",
       "      <td>8</td>\n",
       "      <td>2</td>\n",
       "      <td>0</td>\n",
       "      <td>0</td>\n",
       "      <td>0</td>\n",
       "      <td>0</td>\n",
       "      <td>0</td>\n",
       "    </tr>\n",
       "    <tr>\n",
       "      <th>4</th>\n",
       "      <td>3</td>\n",
       "      <td>3</td>\n",
       "      <td>3</td>\n",
       "      <td>0</td>\n",
       "      <td>0</td>\n",
       "      <td>0</td>\n",
       "      <td>0</td>\n",
       "      <td>0</td>\n",
       "    </tr>\n",
       "  </tbody>\n",
       "</table>\n",
       "</div>"
      ],
      "text/plain": [
       "   academic15  books15  life15  mocograd  mowork15  pacograd  sibs  work\n",
       "0           1        1       2         0         0         0     0     0\n",
       "1           1        8       2         0         0         0     0     0\n",
       "2           2        6       3         0         0         0     0     0\n",
       "3           3        8       2         0         0         0     0     0\n",
       "4           3        3       3         0         0         0     0     0"
      ]
     },
     "execution_count": 3,
     "metadata": {},
     "output_type": "execute_result"
    }
   ],
   "source": [
    "path = \"csv/10_2_work.csv\"\n",
    "df = pd.read_csv(path)\n",
    "df.head()"
   ]
  },
  {
   "cell_type": "code",
   "execution_count": 7,
   "id": "bf2ef9c6-5735-48b7-8ba1-df7bb8816ca6",
   "metadata": {},
   "outputs": [
    {
     "name": "stdout",
     "output_type": "stream",
     "text": [
      "                            OLS Regression Results                            \n",
      "==============================================================================\n",
      "Dep. Variable:               mowork15   R-squared:                       0.027\n",
      "Model:                            OLS   Adj. R-squared:                  0.023\n",
      "Method:                 Least Squares   F-statistic:                     6.347\n",
      "Date:                Tue, 25 Jul 2023   Prob (F-statistic):           8.03e-06\n",
      "Time:                        11:50:43   Log-Likelihood:                -653.46\n",
      "No. Observations:                1132   AIC:                             1319.\n",
      "Df Residuals:                    1126   BIC:                             1349.\n",
      "Df Model:                           5                                         \n",
      "Covariance Type:            nonrobust                                         \n",
      "==============================================================================\n",
      "                 coef    std err          t      P>|t|      [0.025      0.975]\n",
      "------------------------------------------------------------------------------\n",
      "const          0.9057      0.047     19.312      0.000       0.814       0.998\n",
      "mocograd       0.0738      0.070      1.052      0.293      -0.064       0.211\n",
      "pacograd      -0.1057      0.036     -2.959      0.003      -0.176      -0.036\n",
      "life15        -0.0284      0.017     -1.665      0.096      -0.062       0.005\n",
      "academic15    -0.0022      0.012     -0.185      0.854      -0.026       0.021\n",
      "books15       -0.0214      0.006     -3.600      0.000      -0.033      -0.010\n",
      "==============================================================================\n",
      "Omnibus:                      209.672   Durbin-Watson:                   0.026\n",
      "Prob(Omnibus):                  0.000   Jarque-Bera (JB):              239.975\n",
      "Skew:                          -1.072   Prob(JB):                     7.76e-53\n",
      "Kurtosis:                       2.296   Cond. No.                         29.8\n",
      "==============================================================================\n",
      "\n",
      "Notes:\n",
      "[1] Standard Errors assume that the covariance matrix of the errors is correctly specified.\n"
     ]
    }
   ],
   "source": [
    "x = df[[\"mocograd\", \"pacograd\", \"life15\", \"academic15\", \"books15\"]]\n",
    "y = df[\"mowork15\"]\n",
    "\n",
    "X = sm.add_constant(x)\n",
    " \n",
    "#モデルの設定\n",
    "model = sm.OLS(y, X)\n",
    " \n",
    "#回帰分析の実行\n",
    "results = model.fit()\n",
    " \n",
    "#結果の詳細を表示\n",
    "print(results.summary())"
   ]
  },
  {
   "cell_type": "code",
   "execution_count": 12,
   "id": "b8d49dd6-95e4-4dc7-8ef6-c123aaf4a3a6",
   "metadata": {},
   "outputs": [],
   "source": [
    "df[\"score\"] = results.predict()"
   ]
  },
  {
   "cell_type": "code",
   "execution_count": 13,
   "id": "c278afb1-fccf-4b2c-82ed-2bd4f612929b",
   "metadata": {},
   "outputs": [
    {
     "name": "stdout",
     "output_type": "stream",
     "text": [
      "                            OLS Regression Results                            \n",
      "==============================================================================\n",
      "Dep. Variable:                   work   R-squared:                       0.006\n",
      "Model:                            OLS   Adj. R-squared:                  0.004\n",
      "Method:                 Least Squares   F-statistic:                     3.504\n",
      "Date:                Tue, 25 Jul 2023   Prob (F-statistic):             0.0304\n",
      "Time:                        11:54:55   Log-Likelihood:                -811.91\n",
      "No. Observations:                1132   AIC:                             1630.\n",
      "Df Residuals:                    1129   BIC:                             1645.\n",
      "Df Model:                           2                                         \n",
      "Covariance Type:            nonrobust                                         \n",
      "==============================================================================\n",
      "                 coef    std err          t      P>|t|      [0.025      0.975]\n",
      "------------------------------------------------------------------------------\n",
      "const          0.3313      0.152      2.176      0.030       0.033       0.630\n",
      "mowork15       0.0756      0.034      2.210      0.027       0.008       0.143\n",
      "score          0.2216      0.207      1.072      0.284      -0.184       0.627\n",
      "==============================================================================\n",
      "Omnibus:                     4405.083   Durbin-Watson:                   2.038\n",
      "Prob(Omnibus):                  0.000   Jarque-Bera (JB):              184.155\n",
      "Skew:                          -0.209   Prob(JB):                     1.03e-40\n",
      "Kurtosis:                       1.069   Cond. No.                         25.5\n",
      "==============================================================================\n",
      "\n",
      "Notes:\n",
      "[1] Standard Errors assume that the covariance matrix of the errors is correctly specified.\n"
     ]
    }
   ],
   "source": [
    "x = df[[\"mowork15\", \"score\"]]\n",
    "y = df[\"work\"]\n",
    "\n",
    "X = sm.add_constant(x)\n",
    " \n",
    "#モデルの設定\n",
    "model = sm.OLS(y, X)\n",
    " \n",
    "#回帰分析の実行\n",
    "results = model.fit()\n",
    " \n",
    "#結果の詳細を表示\n",
    "print(results.summary())"
   ]
  },
  {
   "cell_type": "code",
   "execution_count": null,
   "id": "a525827a-ccef-45c8-9aa8-95cdb6f0fb1a",
   "metadata": {},
   "outputs": [],
   "source": []
  },
  {
   "cell_type": "code",
   "execution_count": null,
   "id": "238816ee-0e4f-47a9-95d9-dbc85f4a005d",
   "metadata": {},
   "outputs": [],
   "source": []
  },
  {
   "cell_type": "code",
   "execution_count": null,
   "id": "b3e4a91c-b029-4b9e-b3bf-73c8567d23a9",
   "metadata": {},
   "outputs": [],
   "source": []
  }
 ],
 "metadata": {
  "kernelspec": {
   "display_name": "Python 3 (ipykernel)",
   "language": "python",
   "name": "python3"
  },
  "language_info": {
   "codemirror_mode": {
    "name": "ipython",
    "version": 3
   },
   "file_extension": ".py",
   "mimetype": "text/x-python",
   "name": "python",
   "nbconvert_exporter": "python",
   "pygments_lexer": "ipython3",
   "version": "3.9.12"
  }
 },
 "nbformat": 4,
 "nbformat_minor": 5
}
