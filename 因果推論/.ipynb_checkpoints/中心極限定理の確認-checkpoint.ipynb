{
 "cells": [
  {
   "cell_type": "code",
   "execution_count": 5,
   "id": "6713509d-455b-40b8-b040-a67f80874ecc",
   "metadata": {},
   "outputs": [],
   "source": [
    "import numpy as np\n",
    "from scipy.stats import chi2\n",
    "import pandas as pd"
   ]
  },
  {
   "cell_type": "markdown",
   "id": "a584a995-3b43-4c04-9da0-6bb9e73fc8bf",
   "metadata": {},
   "source": [
    "# 中心極限定理の確認\n",
    "中心局限定りはデータがどの分布に従っていたとしてもデータが多ければその標本平均は平均μ分散σ^2/n の正規分布に従う。  \n",
    "サンプル数よりサンプルサイズの方が重要になってくる。"
   ]
  },
  {
   "cell_type": "code",
   "execution_count": 3,
   "id": "e99ac403-3d4d-410b-911d-c6da5045c93d",
   "metadata": {},
   "outputs": [
    {
     "name": "stdout",
     "output_type": "stream",
     "text": [
      "[ 2.07928935  4.59319281  0.33336065  2.7247874   0.68274068  0.51496814\n",
      "  3.06991979  5.6188682   1.98868741  3.38012274  1.05746791  1.21073713\n",
      "  5.35740651  0.83465349  2.11118818  7.8406272   3.99595411  4.41869672\n",
      "  3.86671095  3.12523736  2.43391831  0.27870488  3.92869379  3.38611722\n",
      "  1.99774204  1.02981755  3.39924284  2.35222939  0.7537463  10.92642198\n",
      "  0.56071703  7.35513494  2.2303155   0.90934045  1.36856232  2.34291745\n",
      "  5.25239891  4.77416671  0.90375352  1.33427848  1.98829284  1.45416358\n",
      "  1.59021867  2.17287504  3.32086612 11.80525082  4.19763751  4.1395425\n",
      " 11.66840986  3.74138304  4.48051852  1.34690258  4.26194446  1.05800522\n",
      "  2.82586574  5.08939141  2.64594896  2.77310337  2.14287207  3.20448505\n",
      "  4.15243701  2.41653597  2.39647322  0.50493879  0.80048276  1.77501257\n",
      "  1.19032063  1.08171105  1.23167714  0.70345935  2.33088992  4.40687104\n",
      "  0.56459992  4.53641278  7.13113261  6.6194025   3.26999996  1.73984568\n",
      "  6.02408919  0.97172569  0.9369415   2.06083935  2.24612576  1.11596694\n",
      "  1.72156409  0.31067005  3.7261102   0.35766402  0.32269176  4.53117779\n",
      "  2.34660407  1.79950636  1.87758703  8.13241765  1.99341635  2.42747421\n",
      "  4.50981374  3.65028789  3.84859553  2.74820357]\n"
     ]
    }
   ],
   "source": [
    "# X二乗分布に従うデータを出力する。\n",
    "# 自由度\n",
    "df = 3\n",
    "\n",
    "# カイ二乗分布に従う乱数生成\n",
    "data = chi2.rvs(df, size=100)\n",
    "\n",
    "print(data)"
   ]
  },
  {
   "cell_type": "code",
   "execution_count": 14,
   "id": "03c9e5d9-f685-4ee7-8d05-7895b3a1ad13",
   "metadata": {},
   "outputs": [
    {
     "name": "stdout",
     "output_type": "stream",
     "text": [
      "平均\n",
      "2.967421893274783\n",
      "分散\n",
      "5.441181257871248\n"
     ]
    },
    {
     "data": {
      "image/png": "[encoded data removed]",
      "text/plain": [
       "<Figure size 432x288 with 1 Axes>"
      ]
     },
     "metadata": {
      "needs_background": "light"
     },
     "output_type": "display_data"
    }
   ],
   "source": [
    "df = pd.DataFrame(data, columns=['Value'])\n",
    "# Value列を基準に度数分布を作成\n",
    "frequency_table = df['Value'].value_counts().reset_index()\n",
    "\n",
    "# カラム名を変更\n",
    "frequency_table.columns = ['Value', 'Frequency']\n",
    "\n",
    "# 結果を表示\n",
    "frequency_table[\"Value\"].hist()\n",
    "print(\"平均\")\n",
    "print(frequency_table[\"Value\"].mean())\n",
    "print(\"分散\")\n",
    "print(frequency_table[\"Value\"].var())"
   ]
  },
  {
   "cell_type": "markdown",
   "id": "eff862da-a9e1-47e0-9b6a-df9f0741c584",
   "metadata": {},
   "source": [
    "# サンプルサイズが1でサンプル数 100\n"
   ]
  },
  {
   "cell_type": "code",
   "execution_count": 19,
   "id": "3e8c5168-5f6e-4d3b-89d8-cb2c4bba04ea",
   "metadata": {},
   "outputs": [
    {
     "name": "stdout",
     "output_type": "stream",
     "text": [
      "平均\n",
      "2.9050835009987095\n",
      "分散\n",
      "4.070242261352856\n"
     ]
    },
    {
     "data": {
      "image/png": "[encoded data removed]",
      "text/plain": [
       "<Figure size 432x288 with 1 Axes>"
      ]
     },
     "metadata": {
      "needs_background": "light"
     },
     "output_type": "display_data"
    }
   ],
   "source": [
    "sample_data_list = []\n",
    "for i in range(100):\n",
    "    free = 3\n",
    "    # カイ二乗分布に従う乱数生成\n",
    "    data = chi2.rvs(free, size=1)\n",
    "    sample_data_list.append(data.mean())\n",
    "\n",
    "df = pd.DataFrame(sample_data_list, columns=['Value'])\n",
    "# Value列を基準に度数分布を作成\n",
    "frequency_table = df['Value'].value_counts().reset_index()\n",
    "\n",
    "# カラム名を変更\n",
    "frequency_table.columns = ['Value', 'Frequency']\n",
    "\n",
    "# 結果を表示\n",
    "frequency_table[\"Value\"].hist()\n",
    "print(\"平均\")\n",
    "print(frequency_table[\"Value\"].mean())\n",
    "print(\"分散\")\n",
    "print(frequency_table[\"Value\"].var())"
   ]
  },
  {
   "cell_type": "markdown",
   "id": "517e1c55-a9c9-4d4a-b063-c666643583a2",
   "metadata": {},
   "source": [
    "# サンプルサイズが1でサンプル数 100000"
   ]
  },
  {
   "cell_type": "code",
   "execution_count": 20,
   "id": "ffcdca4c-192c-42b3-868a-4f4a55b23fc2",
   "metadata": {},
   "outputs": [
    {
     "name": "stdout",
     "output_type": "stream",
     "text": [
      "平均\n",
      "2.9890035450668937\n",
      "分散\n",
      "5.944851539745434\n"
     ]
    },
    {
     "data": {
      "image/png": "[encoded data removed]",
      "text/plain": [
       "<Figure size 432x288 with 1 Axes>"
      ]
     },
     "metadata": {
      "needs_background": "light"
     },
     "output_type": "display_data"
    }
   ],
   "source": [
    "sample_data_list = []\n",
    "for i in range(100000):\n",
    "    free = 3\n",
    "    # カイ二乗分布に従う乱数生成\n",
    "    data = chi2.rvs(free, size=1)\n",
    "    sample_data_list.append(data.mean())\n",
    "\n",
    "df = pd.DataFrame(sample_data_list, columns=['Value'])\n",
    "# Value列を基準に度数分布を作成\n",
    "frequency_table = df['Value'].value_counts().reset_index()\n",
    "\n",
    "# カラム名を変更\n",
    "frequency_table.columns = ['Value', 'Frequency']\n",
    "\n",
    "# 結果を表示\n",
    "frequency_table[\"Value\"].hist()\n",
    "print(\"平均\")\n",
    "print(frequency_table[\"Value\"].mean())\n",
    "print(\"分散\")\n",
    "print(frequency_table[\"Value\"].var())"
   ]
  },
  {
   "cell_type": "code",
   "execution_count": 21,
   "id": "19b930c5-6dc1-470f-86d9-0ae909bd0201",
   "metadata": {},
   "outputs": [
    {
     "data": {
      "text/plain": [
       "'\\nここでわかることはサンプル数をいくら増やしたところでサンプルサイズが小さかったら意味がない。\\n'"
      ]
     },
     "execution_count": 21,
     "metadata": {},
     "output_type": "execute_result"
    }
   ],
   "source": [
    "\"\"\"\n",
    "ここでわかることはサンプル数をいくら増やしたところでサンプルサイズが小さかったら意味がない。\n",
    "\"\"\""
   ]
  },
  {
   "cell_type": "markdown",
   "id": "69247de2-f6d3-4a8e-9061-f237a9e19d71",
   "metadata": {},
   "source": [
    "# サンプルサイズが100でサンプル数 100"
   ]
  },
  {
   "cell_type": "code",
   "execution_count": 25,
   "id": "506fe6cb-a9f6-4e80-a3c1-aac47c6f04ed",
   "metadata": {},
   "outputs": [
    {
     "name": "stdout",
     "output_type": "stream",
     "text": [
      "平均\n",
      "2.9984728781985956\n",
      "分散\n",
      "0.0006923542539639772\n"
     ]
    },
    {
     "data": {
      "image/png": "[encoded data removed]",
      "text/plain": [
       "<Figure size 432x288 with 1 Axes>"
      ]
     },
     "metadata": {
      "needs_background": "light"
     },
     "output_type": "display_data"
    }
   ],
   "source": [
    "sample_data_list = []\n",
    "for i in range(100):\n",
    "    free = 3\n",
    "    # カイ二乗分布に従う乱数生成\n",
    "    data = chi2.rvs(free, size=10000)\n",
    "    sample_data_list.append(data.mean())\n",
    "\n",
    "df = pd.DataFrame(sample_data_list, columns=['Value'])\n",
    "# Value列を基準に度数分布を作成\n",
    "frequency_table = df['Value'].value_counts().reset_index()\n",
    "\n",
    "# カラム名を変更\n",
    "frequency_table.columns = ['Value', 'Frequency']\n",
    "\n",
    "# 結果を表示\n",
    "frequency_table[\"Value\"].hist()\n",
    "print(\"平均\")\n",
    "print(frequency_table[\"Value\"].mean())\n",
    "print(\"分散\")\n",
    "print(frequency_table[\"Value\"].var())"
   ]
  },
  {
   "cell_type": "code",
   "execution_count": 27,
   "id": "6df04bef-0648-4846-9d18-6ed188e62ba2",
   "metadata": {},
   "outputs": [
    {
     "data": {
      "text/plain": [
       "'\\nサンプル数が100であるが、サンプルサイズが大きいことで正規分布に従う\\nつまりサンプル数よりサンプルサイズの方が重要になってくる。\\n'"
      ]
     },
     "execution_count": 27,
     "metadata": {},
     "output_type": "execute_result"
    }
   ],
   "source": [
    "\"\"\"\n",
    "サンプル数が100であるが、サンプルサイズが大きいことで正規分布に従う\n",
    "つまりサンプル数よりサンプルサイズの方が重要になってくる。\n",
    "\"\"\""
   ]
  },
  {
   "cell_type": "code",
   "execution_count": 29,
   "id": "42a57403-32c4-4479-87c4-8d97da351fd0",
   "metadata": {},
   "outputs": [],
   "source": [
    "# サンプルサイズが100でサンプル数 100000"
   ]
  },
  {
   "cell_type": "code",
   "execution_count": 28,
   "id": "231d8937-a4a1-4baf-ad41-47383f167a17",
   "metadata": {},
   "outputs": [
    {
     "name": "stdout",
     "output_type": "stream",
     "text": [
      "平均\n",
      "3.00005637222561\n",
      "分散\n",
      "0.0005991871729416327\n"
     ]
    },
    {
     "data": {
      "image/png": "[encoded data removed]",
      "text/plain": [
       "<Figure size 432x288 with 1 Axes>"
      ]
     },
     "metadata": {
      "needs_background": "light"
     },
     "output_type": "display_data"
    }
   ],
   "source": [
    "sample_data_list = []\n",
    "for i in range(100000):\n",
    "    free = 3\n",
    "    # カイ二乗分布に従う乱数生成\n",
    "    data = chi2.rvs(free, size=10000)\n",
    "    sample_data_list.append(data.mean())\n",
    "\n",
    "df = pd.DataFrame(sample_data_list, columns=['Value'])\n",
    "# Value列を基準に度数分布を作成\n",
    "frequency_table = df['Value'].value_counts().reset_index()\n",
    "\n",
    "# カラム名を変更\n",
    "frequency_table.columns = ['Value', 'Frequency']\n",
    "\n",
    "# 結果を表示\n",
    "frequency_table[\"Value\"].hist()\n",
    "print(\"平均\")\n",
    "print(frequency_table[\"Value\"].mean())\n",
    "print(\"分散\")\n",
    "print(frequency_table[\"Value\"].var())"
   ]
  },
  {
   "cell_type": "code",
   "execution_count": null,
   "id": "faf986f5-86ad-4cb2-a4ab-e980342dc875",
   "metadata": {},
   "outputs": [],
   "source": []
  }
 ],
 "metadata": {
  "kernelspec": {
   "display_name": "Python 3 (ipykernel)",
   "language": "python",
   "name": "python3"
  },
  "language_info": {
   "codemirror_mode": {
    "name": "ipython",
    "version": 3
   },
   "file_extension": ".py",
   "mimetype": "text/x-python",
   "name": "python",
   "nbconvert_exporter": "python",
   "pygments_lexer": "ipython3",
   "version": "3.9.12"
  }
 },
 "nbformat": 4,
 "nbformat_minor": 5
}
