{
 "cells": [
  {
   "cell_type": "markdown",
   "id": "5962d650-e4c2-4838-97a5-3ba19b8b2e54",
   "metadata": {},
   "source": [
    "## 区間推定に関して\n",
    "\n",
    "推測統計  \n",
    "→統計学において最も重要な  \n",
    "→推定と検定がある。  \n",
    "→二つの背後にある母集団の平均が同じか、母集団は正規分布なのか？といったこと  \n",
    "→区間推定と点推定がある、基本的には区間推定を使用して母集団や平均などを推定する事が多い。  \n",
    "\n",
    "### 比率の区間推定に関して\n",
    "標本の比率の値から母集団の比率の値を推定する。  \n",
    "→選挙速報・内閣支持率・視聴率などがある。  \n",
    "→基本的に区間推定を行う場合は信頼区間を定める。例えば95％の信頼区間で母比率は0.5~0.7であるみたいな感じ  \n",
    "→信頼区間の捉え方に注意が必要である。９５％の信頼区間ということは100回に５回はその信頼区間は間違っているよというニュアンス。  \n",
    "\n",
    "・どのようにして区間推定を行っていくのか？？  \n",
    "標本推定量の標本分布を使用する。（比率の推定の場合は標本比率）  \n",
    "比率の標本分布は二項分布から考える事ができる。  \n",
    "→二項分布の特徴としてn（試行回数）が十分大きい時、正規分布（平均np,分散npq）に近似する事ができる。  \n",
    "このことから、比率の標本分布が従う分布は、平均p、分散pq/n（このp,qは母集団の確率のことを表している。nはサンプルの個数）の「正規分布」となる！（参考文献：https://www.mathema.jp/wp-content/uploads/2019/08/P170-184.pdf）  \n",
    "  \n",
    "以下比率の区間推定の手順  \n",
    "1.標本を無作為抽出する。  \n",
    "2.標本から推定量(標本比率)を計算する。  \n",
    "3.信頼区間を設定する。(ビジネスだと基本的には95%を設定)  \n",
    "4.推定量の標本分布を求める。  \n",
    "例：標本比率x/nの標本分布はnが十分大きい時平均p、分散pq/nの正規分布に近似できる。（ここでいるp,qは母集団の比率を表す。nは標本数、xはある指標の数(支持数、視聴数など)）  \n",
    "5.信頼区間の値を標本分布から算出  \n",
    "\n",
    "\n",
    "区間推定のざっくりとした理解  \n",
    "→例えば母比率を推定したい時を考える。まず標本から標本比率を計算した結果、０.6という値が得られたとする。この０.6という値がどれくらいの確率で得られるのかを考える。  \n",
    "→その際に必要なのが、この標本比率の分布！　この標本比率の分布がわかっていた場合、いま得られた標本比率が０.６だったのでこの０.6がどのくらいの確率で得られるのかがまずはわかってくる。  \n",
    "→これがわかることによって算出された標本比率がどこくらいの確率で発生するのかがわかり、それを元に母比率の区間推定を行う事ができる。  \n",
    "→よってこのサンプルから算出された標本比率を確率変数として捉える事ができる。  \n",
    "注意！    \n",
    "このまま標本比率を使用してゴリゴリ計算していくのも可能であるが、それだと９５％の領域を求める事が難しくなってしまう。  \n",
    "→そのため基本的には標本比率を標準化して、そこから推定を行っていく。（z=(x/n - p)/√pq/n）  \n",
    "→標準正規分布の95%のエリアは-1.96<z<1.96の値になる。  \n",
    "\n",
    "\n",
    "### 平均値の区間推定\n",
    "不偏分散を使用した場合はt分布を使用する！！  \n",
    "母分散を使用した場合は標準正規分布を使用する！  \n",
    "\n",
    "標本の平均値から母集団の平均値を推定する。  \n",
    "→平均の標本分布は平均μ、標準偏差は√σ^2/nになる（注意！！！これは必ずしも正規分布とは限らないので注意が必要）  \n",
    "\n",
    "平均の標本はどのような分布に従っているのか？？  \n",
    "結論：母集団が正規分布である場合は平均の標本分布も正規分布になる！  \n",
    "\n",
    "では母集団が正規分布じゃなかったらどうするのか？？（年収の分布とか）  \n",
    "→サンプルをたくさん持ってくる！！！！！（どのくらいのサンプル数が正しいとかはないが最低でも５つのサンプルは必要になってくる。）  \n",
    "なぜなら標本のサイズが大きければ、平均の標本分布は正規分布に近似する事ができる。（中心極限定理）  \n",
    "→つまり母集団がどのような分布であったとしても、標本のサイズが大きければ平均の標本分布は正規分布に近似する事ができる。  \n",
    "平均の標本に関しても標準化を行なって分析を行なっていく。  \n",
    "\n",
    "標準化するときに母集団の分散が必要だがわからない場合はどうするのか？？  \n",
    "結論：不偏分散を使用する！  \n",
    "→標準化するときに母分散が必要であったが、それがわからない。  \n",
    "→それに対しては標本から不偏分散を算出する事ができるのでそれを使用して推定を行う。  \n",
    "→注意！！ここで母分散の代わりに不偏分散をしているので標本の平均値の分布が標準正規分布とは少し異なった形になる！(t分布の形になる！)ただしサンプルが大きい場合は標準正規分布に近似する事が可能  "
   ]
  },
  {
   "cell_type": "code",
   "execution_count": 2,
   "id": "7fc5c82a-fbb7-452b-aa92-8d4459588a03",
   "metadata": {},
   "outputs": [],
   "source": [
    "import numpy as np\n",
    "import pandas as pd\n",
    "import seaborn as sns\n",
    "from scipy import stats\n",
    "import matplotlib.pyplot as plt\n",
    "%matplotlib inline"
   ]
  },
  {
   "cell_type": "code",
   "execution_count": 3,
   "id": "898f26c4-ec06-41c8-b2a5-a6b9ce517b5d",
   "metadata": {},
   "outputs": [],
   "source": [
    "df = sns.load_dataset(\"tips\")\n",
    "df[\"tip_rate\"] = df[\"tip\"] / df[\"total_bill\"]\n"
   ]
  },
  {
   "cell_type": "code",
   "execution_count": null,
   "id": "b926534c-f274-49a3-b7a2-376ba5e1606b",
   "metadata": {},
   "outputs": [],
   "source": []
  },
  {
   "cell_type": "markdown",
   "id": "ced4ebba-68f6-430b-9254-9c446e4b1dc4",
   "metadata": {},
   "source": [
    "## 比率の区間推定\n",
    "\n",
    "stats.binom.interval(alpha,n,p)  \n",
    "alpha：信頼区間(95%だったら0.95)  \n",
    "n：標本の大きさ（サンプル数）  \n",
    "p：標本比率  \n",
    "\n",
    "計算結果の解釈  \n",
    "今１０００人のサンプルから、標本比率は0.6が得られた。  \n",
    "計算した値が(570.0, 630.0)と出てきたので  \n",
    "95%の信頼区間において1000人中570~630が得られるだろうと解釈する事ができる。  \n",
    "よって、母比率の95%の信頼区間は0.57~0.63となる。  "
   ]
  },
  {
   "cell_type": "code",
   "execution_count": 5,
   "id": "2e4c3b5d-e056-4374-8ee1-81fd64d05d67",
   "metadata": {},
   "outputs": [
    {
     "data": {
      "text/plain": [
       "(570.0, 630.0)"
      ]
     },
     "execution_count": 5,
     "metadata": {},
     "output_type": "execute_result"
    }
   ],
   "source": [
    "stats.binom.interval(.95,1000,0.6)"
   ]
  },
  {
   "cell_type": "markdown",
   "id": "9d82cbe6-9bd1-4585-b4f6-62a0dfe9f210",
   "metadata": {},
   "source": [
    "練習  \n",
    "50個の標本比率から母比率を区間推定する。  \n",
    "何回正しく推定できているのかを確認する。  \n",
    "\n",
    "今回は、男性の割合がどのくらいなのかを区間推定する。  "
   ]
  },
  {
   "cell_type": "code",
   "execution_count": 18,
   "id": "10938539-fe8f-4cad-95b4-8fe4f3a19bf5",
   "metadata": {},
   "outputs": [
    {
     "data": {
      "text/plain": [
       "count      244\n",
       "unique       2\n",
       "top       Male\n",
       "freq       157\n",
       "Name: sex, dtype: object"
      ]
     },
     "execution_count": 18,
     "metadata": {},
     "output_type": "execute_result"
    }
   ],
   "source": [
    "df[\"sex\"].describe()\n",
    "# 以下の情報から今回の母比率（男性の割合）は0.643となる"
   ]
  },
  {
   "cell_type": "code",
   "execution_count": 19,
   "id": "45da51d0-dbea-464f-b1de-c5e6bc7c9780",
   "metadata": {},
   "outputs": [
    {
     "data": {
      "text/plain": [
       "0.6434426229508197"
      ]
     },
     "execution_count": 19,
     "metadata": {},
     "output_type": "execute_result"
    }
   ],
   "source": [
    "# 母比率\n",
    "157/244"
   ]
  },
  {
   "cell_type": "code",
   "execution_count": 40,
   "id": "a8150d97-2161-49a6-8e96-15d5ffde0876",
   "metadata": {},
   "outputs": [
    {
     "name": "stdout",
     "output_type": "stream",
     "text": [
      "区間推定が失敗しています。:(33.0, 44.0) , 母比率:0.6434426229508197\n",
      "区間推定が失敗しています。:(18.0, 32.0) , 母比率:0.6434426229508197\n",
      "区間推定が失敗しています。:(33.0, 44.0) , 母比率:0.6434426229508197\n",
      "区間推定が失敗しています。:(18.0, 32.0) , 母比率:0.6434426229508197\n",
      "区間推定最終結果\n",
      "0.96\n"
     ]
    }
   ],
   "source": [
    "# 95%の信頼区間で行なった結果100回に5回ぐらいの確率で間違えるのか一応検証\n",
    "column = \"sex\"\n",
    "subject = \"Male\"\n",
    "n = 50 #サンプル数\n",
    "population_rate = df[df[column] == subject][column].count() / df[column].count() #母比率\n",
    "success_count = 0 #区間推定成功数\n",
    "\n",
    "for i in range(100):\n",
    "    column_data = df[column].sample(n)\n",
    "    subject_count = column_data[column_data == subject].count()\n",
    "    sample_rate = subject_count / n\n",
    "    # 区間推定\n",
    "    population_astimate = stats.binom.interval(.95,n,sample_rate)\n",
    "    if population_astimate[0] / n < population_rate and population_astimate[1] / n > population_rate:\n",
    "        # print(\"区間推定が成功しています。\")\n",
    "        success_count += 1\n",
    "    else:\n",
    "        print(f'区間推定が失敗しています。:{population_astimate} , 母比率:{population_rate}')\n",
    "\n",
    "print(\"区間推定最終結果\")\n",
    "print(success_count/100)\n",
    "\"\"\"\n",
    "以下の結果として0.96の確率で区間推定が成功している。\n",
    "\"\"\""
   ]
  },
  {
   "cell_type": "code",
   "execution_count": null,
   "id": "fa9ebc07-9851-4090-ad5f-7afbbba314c6",
   "metadata": {},
   "outputs": [],
   "source": []
  },
  {
   "cell_type": "markdown",
   "id": "a02797a9-8402-49e9-a38f-a1aac8296699",
   "metadata": {},
   "source": [
    "##  平均の区間推定  \n",
    "\n",
    "### 標準正規分布の場合（本来は不偏分散を使用する場合はt分布に従うため、分析を行う際はt分布を使用して分析を行っていく必要がある。）  \n",
    "stats.norm.interval(alpha,n,p)  \n",
    "alpha：信頼区間(95%だったら0.95)  \n",
    "loc：標本平均  \n",
    "scale：標本分布の標準偏差（　注意：√不偏分散/nの値を入れるのでそこに注意）  \n",
    "\n",
    "###  t分布に関して  \n",
    "stats.norm.interval(alpha,n,p,df)  \n",
    "alpha：信頼区間(95%だったら0.95)  \n",
    "loc：標本平均  \n",
    "scale：標本分布の標準偏差（　注意：√不偏分散/nの値を入れるのでそこに注意）  \n",
    "df:自由度(n-1)  "
   ]
  },
  {
   "cell_type": "code",
   "execution_count": 63,
   "id": "ed26410c-5821-4597-ad6c-cc2fd07ce3d0",
   "metadata": {},
   "outputs": [
    {
     "name": "stdout",
     "output_type": "stream",
     "text": [
      "区間推定が失敗しています。:(30.0, 42.0) , 母平均:2.9982786885245902\n",
      "区間推定が失敗しています。:(30.0, 42.0) , 母平均:2.9982786885245902\n",
      "区間推定が失敗しています。:(30.0, 42.0) , 母平均:2.9982786885245902\n",
      "区間推定が失敗しています。:(30.0, 42.0) , 母平均:2.9982786885245902\n",
      "区間推定最終結果\n",
      "0.96\n"
     ]
    }
   ],
   "source": [
    "# 95%の信頼区間で行なった結果100回に5回ぐらいの確率で間違えるのか一応検証\n",
    "column = \"tip\"\n",
    "n = 50 #サンプル数\n",
    "population_rate = df[column].mean()#母平均\n",
    "success_count = 0 #区間推定成功数\n",
    "\n",
    "m = 100#試行回数\n",
    "\n",
    "for _ in range(m):\n",
    "    sample_data = df[column].sample(n)\n",
    "    sample_mean = sample_data.mean()# 標本平均\n",
    "    sample_var = stats.tvar(sample_data)# 不偏分散)\n",
    "    # 区間推定\n",
    "    population_estimate = stats.norm.interval(.95,sample_mean,np.sqrt(sample_var/n))\n",
    "    if population_estimate[0] < population_rate  < population_estimate[1]:\n",
    "        # print(\"区間推定が成功しています。\")\n",
    "        success_count += 1\n",
    "    else:\n",
    "        print(f'区間推定が失敗しています。:{population_astimate} , 母平均:{population_rate}')\n",
    "\n",
    "print(\"区間推定最終結果\")\n",
    "print(success_count/m)"
   ]
  },
  {
   "cell_type": "code",
   "execution_count": 71,
   "id": "b74c3e56-aae8-48c5-9241-88a690e42e30",
   "metadata": {},
   "outputs": [],
   "source": [
    "# t分布での区間推定\n",
    "column = \"tip\"\n",
    "n = 50\n",
    "population_mean = df[column].mean()\n",
    "\n",
    "sample_df = df.sample(n)\n",
    "sample_mean = sample_df[column].mean()\n",
    "sample_var = stats.tvar(sample_df[column])\n",
    "min_val_t , max_val_t = stats.t.interval(.95 , loc=sample_mean , scale=np.sqrt(sample_var/n) , df=n-1)"
   ]
  },
  {
   "cell_type": "code",
   "execution_count": 72,
   "id": "fb1cee0b-db4a-4e7b-90be-3fd913f83369",
   "metadata": {},
   "outputs": [
    {
     "data": {
      "text/plain": [
       "2.6565406033379246"
      ]
     },
     "execution_count": 72,
     "metadata": {},
     "output_type": "execute_result"
    }
   ],
   "source": [
    "min_val_t"
   ]
  },
  {
   "cell_type": "code",
   "execution_count": 73,
   "id": "ae73730d-aed7-4698-8107-9a882d75e8ff",
   "metadata": {},
   "outputs": [
    {
     "data": {
      "text/plain": [
       "3.4694593966620757"
      ]
     },
     "execution_count": 73,
     "metadata": {},
     "output_type": "execute_result"
    }
   ],
   "source": [
    "max_val_t"
   ]
  },
  {
   "cell_type": "code",
   "execution_count": null,
   "id": "a64b93f2-5afa-4b89-b7e6-e9c52dc6306c",
   "metadata": {},
   "outputs": [],
   "source": []
  },
  {
   "cell_type": "code",
   "execution_count": null,
   "id": "78b26f25-a1d4-4d4c-bd4a-040909c4e666",
   "metadata": {},
   "outputs": [],
   "source": []
  },
  {
   "cell_type": "code",
   "execution_count": null,
   "id": "fe09563e-830f-4f21-93de-950c69a1ddee",
   "metadata": {},
   "outputs": [],
   "source": []
  },
  {
   "cell_type": "code",
   "execution_count": null,
   "id": "d58de86d-ef05-40b5-a0f0-37d3a945be99",
   "metadata": {},
   "outputs": [],
   "source": []
  },
  {
   "cell_type": "code",
   "execution_count": null,
   "id": "f479fac4-49a5-4664-bc59-9bd97ea13b21",
   "metadata": {},
   "outputs": [],
   "source": []
  },
  {
   "cell_type": "code",
   "execution_count": null,
   "id": "28120904-40d3-4bb8-9017-498d4babdaef",
   "metadata": {},
   "outputs": [],
   "source": []
  },
  {
   "cell_type": "code",
   "execution_count": null,
   "id": "4d5130c3-89d3-44e1-b7e0-4704cc01e737",
   "metadata": {},
   "outputs": [],
   "source": []
  },
  {
   "cell_type": "code",
   "execution_count": null,
   "id": "03782b91-756a-489c-bfd9-ac5517c8c5c3",
   "metadata": {},
   "outputs": [],
   "source": []
  },
  {
   "cell_type": "code",
   "execution_count": null,
   "id": "e6ad6a8a-8a9b-4d1b-ad54-d0aedae23079",
   "metadata": {},
   "outputs": [],
   "source": []
  },
  {
   "cell_type": "code",
   "execution_count": null,
   "id": "b0174dc4-5654-454f-9ded-68fac2f78ec8",
   "metadata": {},
   "outputs": [],
   "source": []
  },
  {
   "cell_type": "code",
   "execution_count": null,
   "id": "3f32b04f-5033-41be-99e1-ac93cc7b1a1b",
   "metadata": {},
   "outputs": [],
   "source": []
  },
  {
   "cell_type": "code",
   "execution_count": null,
   "id": "d1fa2c31-c347-4189-a96e-1b45a28d5de9",
   "metadata": {},
   "outputs": [],
   "source": []
  },
  {
   "cell_type": "code",
   "execution_count": null,
   "id": "0224c23f-fbb9-415c-8ada-f06b6e8434bd",
   "metadata": {},
   "outputs": [],
   "source": []
  },
  {
   "cell_type": "code",
   "execution_count": null,
   "id": "e10b5418-ad13-4f43-a86a-cb8d052303a4",
   "metadata": {},
   "outputs": [],
   "source": []
  },
  {
   "cell_type": "code",
   "execution_count": null,
   "id": "c9ab39ee-4559-4e15-aaf8-af6c80917a8f",
   "metadata": {},
   "outputs": [],
   "source": []
  },
  {
   "cell_type": "code",
   "execution_count": null,
   "id": "0a0b82a6-399d-4d75-a11a-2f54d6449a3f",
   "metadata": {},
   "outputs": [],
   "source": []
  },
  {
   "cell_type": "code",
   "execution_count": null,
   "id": "960109e8-7dff-4c5d-8b01-f7a9ca96793a",
   "metadata": {},
   "outputs": [],
   "source": []
  },
  {
   "cell_type": "code",
   "execution_count": null,
   "id": "d89c10f5-5a18-43c0-976d-eaaef9e255e6",
   "metadata": {},
   "outputs": [],
   "source": []
  },
  {
   "cell_type": "code",
   "execution_count": null,
   "id": "abf10a66-548d-4544-8591-4995739c9b68",
   "metadata": {},
   "outputs": [],
   "source": []
  },
  {
   "cell_type": "code",
   "execution_count": null,
   "id": "38e2a561-ccb4-4fee-95b9-7c3cc4042f39",
   "metadata": {},
   "outputs": [],
   "source": []
  },
  {
   "cell_type": "code",
   "execution_count": null,
   "id": "1a528c92-27f5-4b4d-ac6c-3792c74d87f5",
   "metadata": {},
   "outputs": [],
   "source": []
  },
  {
   "cell_type": "code",
   "execution_count": null,
   "id": "61a4de5a-4a2c-4fab-82e0-c62a8acab6b2",
   "metadata": {},
   "outputs": [],
   "source": []
  },
  {
   "cell_type": "code",
   "execution_count": null,
   "id": "dd3f1f0f-3334-426a-893c-f8d13beccd0b",
   "metadata": {},
   "outputs": [],
   "source": []
  },
  {
   "cell_type": "code",
   "execution_count": null,
   "id": "dbfa0165-42f4-478e-af6e-e254753d7ea1",
   "metadata": {},
   "outputs": [],
   "source": []
  },
  {
   "cell_type": "code",
   "execution_count": null,
   "id": "2dc5ef8a-e5ff-407d-8b2f-7c0c1754fb68",
   "metadata": {},
   "outputs": [],
   "source": []
  },
  {
   "cell_type": "code",
   "execution_count": null,
   "id": "53b062a7-19b3-4dbb-8f56-701aefb28aa9",
   "metadata": {},
   "outputs": [],
   "source": []
  },
  {
   "cell_type": "code",
   "execution_count": null,
   "id": "89a69043-8948-4cb4-8e47-600d636ea08b",
   "metadata": {},
   "outputs": [],
   "source": []
  },
  {
   "cell_type": "code",
   "execution_count": null,
   "id": "01a9b520-e99b-4d51-b839-bd126e674047",
   "metadata": {},
   "outputs": [],
   "source": []
  },
  {
   "cell_type": "code",
   "execution_count": null,
   "id": "b265749f-20e0-40ab-933b-e007ad3bc0bf",
   "metadata": {},
   "outputs": [],
   "source": []
  },
  {
   "cell_type": "code",
   "execution_count": null,
   "id": "c2203bdd-8514-46be-91fa-2b773caafb17",
   "metadata": {},
   "outputs": [],
   "source": []
  },
  {
   "cell_type": "code",
   "execution_count": null,
   "id": "371233a2-9593-483c-8562-1318f69cf7c1",
   "metadata": {},
   "outputs": [],
   "source": []
  },
  {
   "cell_type": "code",
   "execution_count": null,
   "id": "ea126926-7fe6-49e0-9a07-b020e22d7186",
   "metadata": {},
   "outputs": [],
   "source": []
  },
  {
   "cell_type": "code",
   "execution_count": null,
   "id": "fef4ecbf-5509-4717-ade5-70b12f3cbe09",
   "metadata": {},
   "outputs": [],
   "source": []
  },
  {
   "cell_type": "code",
   "execution_count": null,
   "id": "f928382d-cf91-43d8-aab1-13344e9ca6d3",
   "metadata": {},
   "outputs": [],
   "source": []
  },
  {
   "cell_type": "code",
   "execution_count": null,
   "id": "0aed4586-ade8-4626-b87e-fcd9c169ed27",
   "metadata": {},
   "outputs": [],
   "source": []
  },
  {
   "cell_type": "code",
   "execution_count": null,
   "id": "53f71035-12fd-4a6c-91ac-bd952f52ce08",
   "metadata": {},
   "outputs": [],
   "source": []
  },
  {
   "cell_type": "code",
   "execution_count": null,
   "id": "6af3e8ea-53d7-424a-b7b0-e36854e70ed4",
   "metadata": {},
   "outputs": [],
   "source": []
  },
  {
   "cell_type": "code",
   "execution_count": null,
   "id": "34427864-d1c6-48d4-b569-389f32ec0ce9",
   "metadata": {},
   "outputs": [],
   "source": []
  },
  {
   "cell_type": "code",
   "execution_count": null,
   "id": "ba1d711f-f32e-49df-a1b7-2fc60e692e46",
   "metadata": {},
   "outputs": [],
   "source": []
  },
  {
   "cell_type": "code",
   "execution_count": null,
   "id": "efa2f7e7-6489-4a96-8066-a14cf26a3973",
   "metadata": {},
   "outputs": [],
   "source": []
  },
  {
   "cell_type": "code",
   "execution_count": null,
   "id": "44c4f259-96e5-4159-8fd4-471c0014a2ba",
   "metadata": {},
   "outputs": [],
   "source": []
  },
  {
   "cell_type": "code",
   "execution_count": null,
   "id": "f277ed05-17ae-4f4a-80c5-5a7e57cfa922",
   "metadata": {},
   "outputs": [],
   "source": []
  },
  {
   "cell_type": "code",
   "execution_count": null,
   "id": "db96f84d-cedd-44eb-b921-00de4c1512b5",
   "metadata": {},
   "outputs": [],
   "source": []
  },
  {
   "cell_type": "code",
   "execution_count": null,
   "id": "105ed2ab-e713-4f13-967d-2d09db8dab8c",
   "metadata": {},
   "outputs": [],
   "source": []
  },
  {
   "cell_type": "code",
   "execution_count": null,
   "id": "161725ee-4221-45a0-a9c0-96a76d7dfab3",
   "metadata": {},
   "outputs": [],
   "source": []
  },
  {
   "cell_type": "code",
   "execution_count": null,
   "id": "b1f1052a-6142-4cf2-9e8a-bce46fa0f3a6",
   "metadata": {},
   "outputs": [],
   "source": []
  },
  {
   "cell_type": "code",
   "execution_count": null,
   "id": "91e5c26f-532e-4d4e-a304-0540378922f8",
   "metadata": {},
   "outputs": [],
   "source": []
  },
  {
   "cell_type": "code",
   "execution_count": null,
   "id": "820d9ec2-b96a-4b77-9372-d38224c670ce",
   "metadata": {},
   "outputs": [],
   "source": []
  },
  {
   "cell_type": "code",
   "execution_count": null,
   "id": "61efce87-79b5-4400-83cd-4f2d6525c7ca",
   "metadata": {},
   "outputs": [],
   "source": []
  },
  {
   "cell_type": "code",
   "execution_count": null,
   "id": "de7ff9ff-b1cc-4031-bbd8-546424bc0965",
   "metadata": {},
   "outputs": [],
   "source": []
  },
  {
   "cell_type": "code",
   "execution_count": null,
   "id": "c45a087e-ce17-460a-b68e-c349835322bf",
   "metadata": {},
   "outputs": [],
   "source": []
  },
  {
   "cell_type": "code",
   "execution_count": null,
   "id": "9470c870-ba36-4eb2-a69d-664dd700d84b",
   "metadata": {},
   "outputs": [],
   "source": []
  },
  {
   "cell_type": "code",
   "execution_count": null,
   "id": "a5002f49-e570-412b-adb7-f34250ec82ae",
   "metadata": {},
   "outputs": [],
   "source": []
  },
  {
   "cell_type": "code",
   "execution_count": null,
   "id": "a2ff7de8-ba78-4c2e-8c7e-3b76b45d6095",
   "metadata": {},
   "outputs": [],
   "source": []
  },
  {
   "cell_type": "code",
   "execution_count": null,
   "id": "fca56bef-905e-444f-96bc-5bfae0b1f8cf",
   "metadata": {},
   "outputs": [],
   "source": []
  },
  {
   "cell_type": "code",
   "execution_count": null,
   "id": "df01921b-6e09-42da-89a6-6dc84f1898c4",
   "metadata": {},
   "outputs": [],
   "source": []
  },
  {
   "cell_type": "code",
   "execution_count": null,
   "id": "ef9fff3f-3219-48cb-b19f-7c5ec9218a11",
   "metadata": {},
   "outputs": [],
   "source": []
  },
  {
   "cell_type": "code",
   "execution_count": null,
   "id": "58fd9f70-42c3-404c-bfb8-cdb0d165cffd",
   "metadata": {},
   "outputs": [],
   "source": []
  },
  {
   "cell_type": "code",
   "execution_count": null,
   "id": "a5d5de19-6f37-492b-baeb-1a2e696cb081",
   "metadata": {},
   "outputs": [],
   "source": []
  },
  {
   "cell_type": "code",
   "execution_count": null,
   "id": "1769da2c-fd4d-4f9f-bf8c-0e03fd28758d",
   "metadata": {},
   "outputs": [],
   "source": []
  },
  {
   "cell_type": "code",
   "execution_count": null,
   "id": "a0329001-17d2-4c8f-bd14-64da3ba1023a",
   "metadata": {},
   "outputs": [],
   "source": []
  },
  {
   "cell_type": "code",
   "execution_count": null,
   "id": "cf7927b3-3090-4a96-bbb7-ef1cf5dcf7bc",
   "metadata": {},
   "outputs": [],
   "source": []
  },
  {
   "cell_type": "code",
   "execution_count": null,
   "id": "27c5178a-0e39-48d5-8e2b-bf27cc283184",
   "metadata": {},
   "outputs": [],
   "source": []
  },
  {
   "cell_type": "code",
   "execution_count": null,
   "id": "5c3cc7a1-82c0-4364-8392-bc1fd71098a4",
   "metadata": {},
   "outputs": [],
   "source": []
  },
  {
   "cell_type": "code",
   "execution_count": null,
   "id": "2f11b350-7065-422f-aa25-89f03d114571",
   "metadata": {},
   "outputs": [],
   "source": []
  },
  {
   "cell_type": "code",
   "execution_count": null,
   "id": "c7eca9f9-cd9b-40df-9084-67ad59ddefc0",
   "metadata": {},
   "outputs": [],
   "source": []
  },
  {
   "cell_type": "code",
   "execution_count": null,
   "id": "450dd3ae-79fa-4d6e-91b0-161dc95ecb9b",
   "metadata": {},
   "outputs": [],
   "source": []
  },
  {
   "cell_type": "code",
   "execution_count": null,
   "id": "2cbd0d24-2172-41bd-b27b-7810f7234765",
   "metadata": {},
   "outputs": [],
   "source": []
  },
  {
   "cell_type": "code",
   "execution_count": null,
   "id": "6dbdce86-599d-474b-bf6a-2483161afcc3",
   "metadata": {},
   "outputs": [],
   "source": []
  },
  {
   "cell_type": "code",
   "execution_count": null,
   "id": "e557c78e-30c1-4f83-bbe9-ae19c773c1b8",
   "metadata": {},
   "outputs": [],
   "source": []
  },
  {
   "cell_type": "code",
   "execution_count": null,
   "id": "4f603a54-56dc-482f-9f9b-e9449ab47d43",
   "metadata": {},
   "outputs": [],
   "source": []
  },
  {
   "cell_type": "code",
   "execution_count": null,
   "id": "27170b06-7a86-4163-8bf2-80723fe8edd4",
   "metadata": {},
   "outputs": [],
   "source": []
  },
  {
   "cell_type": "code",
   "execution_count": null,
   "id": "e3c89056-2365-4ffe-9c7e-3a38f6d8a7dd",
   "metadata": {},
   "outputs": [],
   "source": []
  },
  {
   "cell_type": "code",
   "execution_count": null,
   "id": "4fae7d36-3155-40ee-bda3-0f28d0a14135",
   "metadata": {},
   "outputs": [],
   "source": []
  },
  {
   "cell_type": "code",
   "execution_count": null,
   "id": "3553fc51-5b19-45e0-94ac-dc9159cab0c8",
   "metadata": {},
   "outputs": [],
   "source": []
  },
  {
   "cell_type": "code",
   "execution_count": null,
   "id": "f32d19ef-4080-438c-b35e-3159f47aacc6",
   "metadata": {},
   "outputs": [],
   "source": []
  },
  {
   "cell_type": "code",
   "execution_count": null,
   "id": "4d938dc9-8cce-4e55-b540-ee72743fee10",
   "metadata": {},
   "outputs": [],
   "source": []
  },
  {
   "cell_type": "code",
   "execution_count": null,
   "id": "64b251a5-1aae-4c50-9ad2-5ad846a0250b",
   "metadata": {},
   "outputs": [],
   "source": []
  },
  {
   "cell_type": "code",
   "execution_count": null,
   "id": "e5caf29f-8614-479e-b327-1ccf09bd4355",
   "metadata": {},
   "outputs": [],
   "source": []
  },
  {
   "cell_type": "code",
   "execution_count": null,
   "id": "f32f3461-cd44-425e-9889-eedb41204191",
   "metadata": {},
   "outputs": [],
   "source": []
  },
  {
   "cell_type": "code",
   "execution_count": null,
   "id": "f635a494-f27f-4023-8816-155a0540ccbd",
   "metadata": {},
   "outputs": [],
   "source": []
  },
  {
   "cell_type": "code",
   "execution_count": null,
   "id": "5f1544d6-d12c-4f2c-9fbe-3579f7767c8f",
   "metadata": {},
   "outputs": [],
   "source": []
  },
  {
   "cell_type": "code",
   "execution_count": null,
   "id": "885ec9cf-2a5f-4698-8dae-1655ad281bbd",
   "metadata": {},
   "outputs": [],
   "source": []
  },
  {
   "cell_type": "code",
   "execution_count": null,
   "id": "8e0a5753-822d-41de-9eb2-06259b4b5f67",
   "metadata": {},
   "outputs": [],
   "source": []
  },
  {
   "cell_type": "code",
   "execution_count": null,
   "id": "72fdb7a2-7121-45c3-82cd-9fd9381cecfc",
   "metadata": {},
   "outputs": [],
   "source": []
  },
  {
   "cell_type": "code",
   "execution_count": null,
   "id": "052f7d8e-cb98-4bc7-8c6b-a8f431f247a8",
   "metadata": {},
   "outputs": [],
   "source": []
  },
  {
   "cell_type": "code",
   "execution_count": null,
   "id": "769eac98-1607-436b-bd54-2e5051671937",
   "metadata": {},
   "outputs": [],
   "source": []
  },
  {
   "cell_type": "code",
   "execution_count": null,
   "id": "17168bd2-3fc8-40e4-96e4-8064688f6f63",
   "metadata": {},
   "outputs": [],
   "source": []
  }
 ],
 "metadata": {
  "kernelspec": {
   "display_name": "Python 3 (ipykernel)",
   "language": "python",
   "name": "python3"
  },
  "language_info": {
   "codemirror_mode": {
    "name": "ipython",
    "version": 3
   },
   "file_extension": ".py",
   "mimetype": "text/x-python",
   "name": "python",
   "nbconvert_exporter": "python",
   "pygments_lexer": "ipython3",
   "version": "3.9.7"
  }
 },
 "nbformat": 4,
 "nbformat_minor": 5
}
