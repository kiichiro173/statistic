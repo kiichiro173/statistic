{
 "cells": [
  {
   "cell_type": "markdown",
   "id": "33cc1868-28b7-4175-b5d6-286be050b4cb",
   "metadata": {},
   "source": [
    "## 対応ありの平均値の差の検定（t検定）\n",
    "対応ありの場合（投薬前後で血圧に差はあるのか？ということを調べる。）   \n",
    "→前と後の変化量に差はあるのかを検定する必要がある。  \n",
    "→変化量がゼロであれば変化がないよねってなる。  \n",
    "\n",
    "この変化量$\\bar{d}=\\bar{x_1} - \\bar{x_2}$はどのような分布に従うのか？？  \n",
    "→平均$μ_d$,分散$\\frac{σ^2_d}{n}$の正規分布に従う。  \n",
    "\n",
    "- 標準化を行い、どこが棄却域になるのかをわかるようにする。\n",
    "$z = \\frac{\\bar{d} - μ_d}{\\frac{σ_d}{\\sqrt{n}}}$  \n",
    "→しかしこれだと$σ_d$の値がわからないため、不偏分散を使用する。\n",
    "\n",
    "- 不偏分散を使用した場合、以下の値はt分布に従う。  \n",
    "$t = \\frac{\\bar{d} - μ_d}{\\frac{s_d}{\\sqrt{n}}}$  \n",
    "→今回、帰無仮説により$μ_d$の値は０  \n",
    "$t = \\frac{\\bar{d}}{\\frac{s_d}{\\sqrt{n}}}$  \n",
    "→この値が棄却域に行くのかいかないのかを判断していく必要がある。  \n",
    "→上記は自由度n-1のt分布に従う。\n",
    "\n",
    "帰無仮説：差はない。\n",
    "対立仮説：差はある。\n"
   ]
  },
  {
   "cell_type": "code",
   "execution_count": 2,
   "id": "0353e139-a180-4f25-b3af-f7a8c5ccb77c",
   "metadata": {},
   "outputs": [],
   "source": [
    "import numpy as np\n",
    "import pandas as pd\n",
    "import seaborn as sns\n",
    "from scipy import stats\n",
    "import matplotlib.pyplot as plt\n",
    "from statsmodels.stats.proportion import proportions_ztest\n",
    "from statsmodels.api import qqplot\n",
    "%matplotlib inline\n",
    "df = sns.load_dataset(\"tips\")\n",
    "df[\"tip_rate\"] = df[\"tip\"] / df[\"total_bill\"]"
   ]
  },
  {
   "cell_type": "markdown",
   "id": "77be7bfe-e0d6-4895-85cf-10bbc06173ab",
   "metadata": {},
   "source": [
    "## 対応のある平均値差の検定\n",
    "- stats.ttest_rel(a,b)  \n",
    "戻り値  \n",
    "- 第一戻り値：検定統計量t  \n",
    "- 第二戻り値：p値　　\n",
    "\n",
    "# 注意！\n",
    "今回の分析は対応のある平均値の差の検定であるため、a,bのデータが対応しているようになっていなければならない。"
   ]
  },
  {
   "cell_type": "code",
   "execution_count": null,
   "id": "9babcc5a-99ca-474c-95fd-c11c8ce1aae6",
   "metadata": {},
   "outputs": [],
   "source": []
  },
  {
   "cell_type": "code",
   "execution_count": 3,
   "id": "e4ff018c-75e9-4452-a58d-8f19f005bec2",
   "metadata": {},
   "outputs": [],
   "source": [
    "blood_df = pd.read_csv(\"./blood_pressure.csv\")"
   ]
  },
  {
   "cell_type": "code",
   "execution_count": 4,
   "id": "3f925656-e6f7-4bcc-a4a4-4661552ba810",
   "metadata": {},
   "outputs": [
    {
     "data": {
      "text/html": [
       "<div>\n",
       "<style scoped>\n",
       "    .dataframe tbody tr th:only-of-type {\n",
       "        vertical-align: middle;\n",
       "    }\n",
       "\n",
       "    .dataframe tbody tr th {\n",
       "        vertical-align: top;\n",
       "    }\n",
       "\n",
       "    .dataframe thead th {\n",
       "        text-align: right;\n",
       "    }\n",
       "</style>\n",
       "<table border=\"1\" class=\"dataframe\">\n",
       "  <thead>\n",
       "    <tr style=\"text-align: right;\">\n",
       "      <th></th>\n",
       "      <th>patient</th>\n",
       "      <th>sex</th>\n",
       "      <th>agegrp</th>\n",
       "      <th>bp_before</th>\n",
       "      <th>bp_after</th>\n",
       "    </tr>\n",
       "  </thead>\n",
       "  <tbody>\n",
       "    <tr>\n",
       "      <th>0</th>\n",
       "      <td>1</td>\n",
       "      <td>Male</td>\n",
       "      <td>30-45</td>\n",
       "      <td>143</td>\n",
       "      <td>153</td>\n",
       "    </tr>\n",
       "    <tr>\n",
       "      <th>1</th>\n",
       "      <td>2</td>\n",
       "      <td>Male</td>\n",
       "      <td>30-45</td>\n",
       "      <td>163</td>\n",
       "      <td>170</td>\n",
       "    </tr>\n",
       "    <tr>\n",
       "      <th>2</th>\n",
       "      <td>3</td>\n",
       "      <td>Male</td>\n",
       "      <td>30-45</td>\n",
       "      <td>153</td>\n",
       "      <td>168</td>\n",
       "    </tr>\n",
       "    <tr>\n",
       "      <th>3</th>\n",
       "      <td>4</td>\n",
       "      <td>Male</td>\n",
       "      <td>30-45</td>\n",
       "      <td>153</td>\n",
       "      <td>142</td>\n",
       "    </tr>\n",
       "    <tr>\n",
       "      <th>4</th>\n",
       "      <td>5</td>\n",
       "      <td>Male</td>\n",
       "      <td>30-45</td>\n",
       "      <td>146</td>\n",
       "      <td>141</td>\n",
       "    </tr>\n",
       "  </tbody>\n",
       "</table>\n",
       "</div>"
      ],
      "text/plain": [
       "   patient   sex agegrp  bp_before  bp_after\n",
       "0        1  Male  30-45        143       153\n",
       "1        2  Male  30-45        163       170\n",
       "2        3  Male  30-45        153       168\n",
       "3        4  Male  30-45        153       142\n",
       "4        5  Male  30-45        146       141"
      ]
     },
     "execution_count": 4,
     "metadata": {},
     "output_type": "execute_result"
    }
   ],
   "source": [
    "blood_df.head()"
   ]
  },
  {
   "cell_type": "code",
   "execution_count": 9,
   "id": "d69ccf9c-90ed-4a5d-85b2-21fa88e0e85a",
   "metadata": {},
   "outputs": [
    {
     "data": {
      "text/plain": [
       "5.091666666666667"
      ]
     },
     "execution_count": 9,
     "metadata": {},
     "output_type": "execute_result"
    }
   ],
   "source": [
    "# 初めにbeforeとafterで差があるのかを確認する！\n",
    "blood_df[\"diff\"] = blood_df[\"bp_before\"] - blood_df[\"bp_after\"]\n",
    "blood_df[\"diff\"].mean()\n",
    "# 以下の値を確認するとゼロになっていないので、差はあるのではないか？とみる事ができる。\n"
   ]
  },
  {
   "cell_type": "code",
   "execution_count": 12,
   "id": "f5d1632d-7c61-4e9c-bc07-d99733c83120",
   "metadata": {},
   "outputs": [
    {
     "name": "stderr",
     "output_type": "stream",
     "text": [
      "/opt/anaconda3/lib/python3.9/site-packages/seaborn/_decorators.py:36: FutureWarning: Pass the following variable as a keyword arg: x. From version 0.12, the only valid positional argument will be `data`, and passing other arguments without an explicit keyword will result in an error or misinterpretation.\n",
      "  warnings.warn(\n"
     ]
    },
    {
     "data": {
      "text/plain": [
       "<AxesSubplot:xlabel='diff'>"
      ]
     },
     "execution_count": 12,
     "metadata": {},
     "output_type": "execute_result"
    },
    {
     "data": {
      "image/png": "[encoded data removed]",
      "text/plain": [
       "<Figure size 432x288 with 1 Axes>"
      ]
     },
     "metadata": {
      "needs_background": "light"
     },
     "output_type": "display_data"
    }
   ],
   "source": [
    "sns.boxplot(blood_df[\"diff\"])"
   ]
  },
  {
   "cell_type": "code",
   "execution_count": null,
   "id": "d791d148-76df-48f2-b761-c6973e86bf2f",
   "metadata": {},
   "outputs": [],
   "source": []
  },
  {
   "cell_type": "code",
   "execution_count": 11,
   "id": "8d927cf6-9031-4815-856f-ab412338f2c6",
   "metadata": {},
   "outputs": [
    {
     "data": {
      "text/plain": [
       "Ttest_relResult(statistic=3.3371870510833657, pvalue=0.0005648957322420411)"
      ]
     },
     "execution_count": 11,
     "metadata": {},
     "output_type": "execute_result"
    }
   ],
   "source": [
    "# 片側検定（\"bp_before\"＞\"bp_after\"であるとき）\n",
    "stats.ttest_rel(blood_df[\"bp_before\"] ,blood_df[\"bp_after\"] , alternative=\"greater\")"
   ]
  },
  {
   "cell_type": "code",
   "execution_count": null,
   "id": "34050902-3e66-46a6-a764-f3bafe005d9c",
   "metadata": {},
   "outputs": [],
   "source": []
  },
  {
   "cell_type": "code",
   "execution_count": null,
   "id": "6456c612-88b2-477a-882d-05fdfc0b15ac",
   "metadata": {},
   "outputs": [],
   "source": []
  },
  {
   "cell_type": "code",
   "execution_count": null,
   "id": "ac507e54-8a3d-48f7-94b1-d801ffc72851",
   "metadata": {},
   "outputs": [],
   "source": []
  },
  {
   "cell_type": "code",
   "execution_count": null,
   "id": "87197c7e-929a-4285-8fdb-fd75a5595b7c",
   "metadata": {},
   "outputs": [],
   "source": []
  },
  {
   "cell_type": "code",
   "execution_count": null,
   "id": "d275997c-1f9e-4e1a-a092-bf8101c8e6df",
   "metadata": {},
   "outputs": [],
   "source": []
  },
  {
   "cell_type": "code",
   "execution_count": null,
   "id": "ac6d7d05-3415-44ae-ad46-acfcdc1d3b7b",
   "metadata": {},
   "outputs": [],
   "source": []
  },
  {
   "cell_type": "code",
   "execution_count": null,
   "id": "29202f6b-ea9f-44ed-a91b-f121fe34275c",
   "metadata": {},
   "outputs": [],
   "source": []
  },
  {
   "cell_type": "code",
   "execution_count": null,
   "id": "96fd47f1-e2d9-44a0-91c2-750112277c0b",
   "metadata": {},
   "outputs": [],
   "source": []
  },
  {
   "cell_type": "code",
   "execution_count": null,
   "id": "df06c158-2370-475d-9061-16b37f522d98",
   "metadata": {},
   "outputs": [],
   "source": []
  },
  {
   "cell_type": "code",
   "execution_count": null,
   "id": "1e3a8330-2c79-48c2-94d0-6fe7ab13dfac",
   "metadata": {},
   "outputs": [],
   "source": []
  },
  {
   "cell_type": "code",
   "execution_count": null,
   "id": "fdf006e5-7c6f-47e9-a44d-3de08881cdc5",
   "metadata": {},
   "outputs": [],
   "source": []
  },
  {
   "cell_type": "code",
   "execution_count": null,
   "id": "07c4664d-9374-45a2-a4c6-13a89690b5ac",
   "metadata": {},
   "outputs": [],
   "source": []
  },
  {
   "cell_type": "code",
   "execution_count": null,
   "id": "3e563b32-6326-44c8-aef4-0e59fc70e281",
   "metadata": {},
   "outputs": [],
   "source": []
  },
  {
   "cell_type": "code",
   "execution_count": null,
   "id": "b6903585-3004-4a57-9984-67edab7f854f",
   "metadata": {},
   "outputs": [],
   "source": []
  },
  {
   "cell_type": "code",
   "execution_count": null,
   "id": "3a805246-b0f1-45c5-8014-ed957c01b0c1",
   "metadata": {},
   "outputs": [],
   "source": []
  },
  {
   "cell_type": "code",
   "execution_count": null,
   "id": "49c9c140-1ef6-436c-83c2-bcf057f83cf6",
   "metadata": {},
   "outputs": [],
   "source": []
  },
  {
   "cell_type": "code",
   "execution_count": null,
   "id": "0c4c9911-850b-486b-98c2-d61ef6852447",
   "metadata": {},
   "outputs": [],
   "source": []
  },
  {
   "cell_type": "code",
   "execution_count": null,
   "id": "646560e9-94e5-4b39-a100-ec0a6fe47448",
   "metadata": {},
   "outputs": [],
   "source": []
  }
 ],
 "metadata": {
  "kernelspec": {
   "display_name": "Python 3 (ipykernel)",
   "language": "python",
   "name": "python3"
  },
  "language_info": {
   "codemirror_mode": {
    "name": "ipython",
    "version": 3
   },
   "file_extension": ".py",
   "mimetype": "text/x-python",
   "name": "python",
   "nbconvert_exporter": "python",
   "pygments_lexer": "ipython3",
   "version": "3.9.7"
  }
 },
 "nbformat": 4,
 "nbformat_minor": 5
}
