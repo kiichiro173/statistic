{
 "cells": [
  {
   "cell_type": "markdown",
   "id": "0e5dcafb-19f1-4a42-83e2-ed784e9365ec",
   "metadata": {},
   "source": [
    "## 連関の検定（カイ二乗検定）\n",
    "二つのカテゴリー変数間に関連があるかを検定する。  \n",
    "帰無仮説：関連がない（独立している）  \n",
    "対立仮説：関連がある（独立ではない）  \n",
    "\n",
    "これを確認するには、カテゴリー変数間のカイ二乗値がどれくらいの確率で得られるのかを考える必要がある。  \n",
    "\n",
    "カイ二乗とは？？  \n",
    "→（観測度数-期待度数）^2/期待度数　これの合計値のこと  \n",
    "仮に関連がない（独立である。）場合はカイ二乗値は０になるはず！  \n",
    "なぜなら、観測度数-期待度数=０になるから  \n",
    "\n",
    "カイ二乗値が従う分布  \n",
    "→カイ二乗分布  \n",
    "\n",
    "自由度  \n",
    "→a行b列の分割表の場合、(a-1)(b-1)が自由度になる。  \n",
    "\n",
    "イェイツの修正  \n",
    "→p値が高くなる。  \n",
    "\n",
    "\n",
    "\n"
   ]
  },
  {
   "cell_type": "markdown",
   "id": "3823476e-7eeb-4fd9-849f-7f8112974849",
   "metadata": {},
   "source": []
  },
  {
   "cell_type": "code",
   "execution_count": 1,
   "id": "8a7b11bd-c795-4f2a-9bcc-a1ea9c0a6c6d",
   "metadata": {},
   "outputs": [],
   "source": [
    "import numpy as np\n",
    "import pandas as pd\n",
    "import seaborn as sns\n",
    "from scipy import stats\n",
    "import matplotlib.pyplot as plt\n",
    "%matplotlib inline"
   ]
  },
  {
   "cell_type": "code",
   "execution_count": 2,
   "id": "000f755c-ed2a-480c-a324-604322f2a964",
   "metadata": {},
   "outputs": [],
   "source": [
    "df = sns.load_dataset(\"tips\")\n",
    "df[\"tip_rate\"] = df[\"tip\"] / df[\"total_bill\"]\n"
   ]
  },
  {
   "cell_type": "code",
   "execution_count": null,
   "id": "d46df860-0de8-4288-aa65-7115172e3cf7",
   "metadata": {},
   "outputs": [],
   "source": []
  },
  {
   "cell_type": "markdown",
   "id": "2294654d-fce6-4c63-8dae-7b98f59993db",
   "metadata": {},
   "source": [
    "### 連関の検定\n",
    "chi2 , p , dof , ex = stats.chi2_contingency(obs,correction=False)\n",
    "obs:観測度数\n",
    "correction:イェイツの修正(通常はFalseでOK)デフォルトはTrue\n",
    "\n",
    "Returns:\n",
    "chi2:カイ二乗値\n",
    "p:p値\n",
    "dof:自由度\n",
    "ex:期待度数"
   ]
  },
  {
   "cell_type": "code",
   "execution_count": 3,
   "id": "f1a582e6-b987-4147-80a9-23976d4e98d5",
   "metadata": {},
   "outputs": [],
   "source": [
    "# 観測度数の作成：今回は擬似的なものを作成している。\n",
    "obs = [[15,5] , [15,65]]"
   ]
  },
  {
   "cell_type": "code",
   "execution_count": 4,
   "id": "83d06a1a-0397-413f-b76c-23526727e226",
   "metadata": {},
   "outputs": [],
   "source": [
    "chi2 , p , dof , ex = stats.chi2_contingency(obs,correction=False)"
   ]
  },
  {
   "cell_type": "code",
   "execution_count": 5,
   "id": "e02497c2-0f86-4a3e-a15d-92cbef9ec350",
   "metadata": {},
   "outputs": [
    {
     "name": "stdout",
     "output_type": "stream",
     "text": [
      "カイ二乗値: 24.107142857142858\n",
      "p値: 9.112167294252327e-07\n",
      "自由度: 1\n",
      "期待度数: [[ 6. 14.]\n",
      " [24. 56.]]\n"
     ]
    }
   ],
   "source": [
    "print(\"カイ二乗値:\", chi2)\n",
    "print(\"p値:\", p)\n",
    "print(\"自由度:\", dof)\n",
    "print(\"期待度数:\", ex)"
   ]
  },
  {
   "cell_type": "code",
   "execution_count": null,
   "id": "328444f4-6300-4532-9a07-c9f4370df2ff",
   "metadata": {},
   "outputs": [],
   "source": []
  },
  {
   "cell_type": "code",
   "execution_count": null,
   "id": "b5ddc5a9-4370-42e7-8059-825d3f4a367f",
   "metadata": {},
   "outputs": [],
   "source": []
  },
  {
   "cell_type": "code",
   "execution_count": null,
   "id": "bb35cdb5-5f55-40cf-95c1-4f0a1fbe557a",
   "metadata": {},
   "outputs": [],
   "source": []
  },
  {
   "cell_type": "code",
   "execution_count": null,
   "id": "fd68bdf3-3588-4de8-a8d0-775542eb9d83",
   "metadata": {},
   "outputs": [],
   "source": []
  },
  {
   "cell_type": "code",
   "execution_count": null,
   "id": "a0defefa-2583-4906-b350-cd775969dedf",
   "metadata": {},
   "outputs": [],
   "source": []
  },
  {
   "cell_type": "code",
   "execution_count": null,
   "id": "2cf19b93-0315-4716-b2a2-23c871cc5ed1",
   "metadata": {},
   "outputs": [],
   "source": []
  },
  {
   "cell_type": "code",
   "execution_count": null,
   "id": "f33bba90-b302-46cd-afc0-d55092fa6dd2",
   "metadata": {},
   "outputs": [],
   "source": []
  },
  {
   "cell_type": "code",
   "execution_count": null,
   "id": "69911c71-cc1b-4d07-8390-9c67f0ba0557",
   "metadata": {},
   "outputs": [],
   "source": []
  },
  {
   "cell_type": "code",
   "execution_count": null,
   "id": "9b292b37-3e36-4efa-8c3e-9f4e2366b2cc",
   "metadata": {},
   "outputs": [],
   "source": []
  },
  {
   "cell_type": "code",
   "execution_count": null,
   "id": "35fb8d8c-1fb5-4148-8dc3-06ecce2cd7d6",
   "metadata": {},
   "outputs": [],
   "source": []
  },
  {
   "cell_type": "code",
   "execution_count": null,
   "id": "ef377490-ff42-4ceb-8aa0-34008c6c4658",
   "metadata": {},
   "outputs": [],
   "source": []
  },
  {
   "cell_type": "code",
   "execution_count": null,
   "id": "f35ca231-944c-44b3-810c-aa233d106bfe",
   "metadata": {},
   "outputs": [],
   "source": []
  },
  {
   "cell_type": "code",
   "execution_count": null,
   "id": "2ee76b1f-b562-48cd-923a-ea7b376124d4",
   "metadata": {},
   "outputs": [],
   "source": []
  },
  {
   "cell_type": "code",
   "execution_count": null,
   "id": "4823c411-1a36-4418-a129-8c817ef5a3cb",
   "metadata": {},
   "outputs": [],
   "source": []
  },
  {
   "cell_type": "code",
   "execution_count": null,
   "id": "0add58c2-fd6c-4365-a7e3-d508d1ea5b32",
   "metadata": {},
   "outputs": [],
   "source": []
  },
  {
   "cell_type": "code",
   "execution_count": null,
   "id": "64716e02-9d71-468c-b5a1-1ec11e1744dd",
   "metadata": {},
   "outputs": [],
   "source": []
  },
  {
   "cell_type": "code",
   "execution_count": null,
   "id": "2644f281-022d-427e-a48d-e0c98ba81349",
   "metadata": {},
   "outputs": [],
   "source": []
  }
 ],
 "metadata": {
  "kernelspec": {
   "display_name": "Python 3 (ipykernel)",
   "language": "python",
   "name": "python3"
  },
  "language_info": {
   "codemirror_mode": {
    "name": "ipython",
    "version": 3
   },
   "file_extension": ".py",
   "mimetype": "text/x-python",
   "name": "python",
   "nbconvert_exporter": "python",
   "pygments_lexer": "ipython3",
   "version": "3.9.7"
  }
 },
 "nbformat": 4,
 "nbformat_minor": 5
}
