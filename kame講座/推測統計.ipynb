{
 "cells": [
  {
   "cell_type": "markdown",
   "id": "2fe82efa-9e92-4712-a22a-f9f4dce580aa",
   "metadata": {},
   "source": [
    "## 推測統計\n",
    "・基本的にの集団からの無作為抽出で標本を作成  \n",
    "・母集団と標本の設計はしっかりと意識していく必要がある。  \n",
    "→すでに標本がある場合はどのような母集団であるのかを意識する必要がある。  \n",
    "\n",
    "\n",
    "標本から計算された統計量を標本統計量  \n",
    "母集団の統計量を母数という。  \n",
    "\n",
    "### 標本分布に関して\n",
    "標本の中身は確率的に変動する。  \n",
    "標本統計量が従う確率分布を標本分布と呼ぶ  \n",
    "\n",
    "推定量に関して  \n",
    "→母数の推定に使用する標本統計量のこと  \n",
    "\n",
    "母数と推定量の関係  \n",
    "母数：推定量  \n",
    "母平均値μ：標本平均$\\bar{x}$  \n",
    "母比率π：標本比率p  \n",
    "母相関係数ρ：標本相関係数r  \n",
    "母分散σ^2:不偏分散  \n",
    "母標準偏差σ：不偏分散の平方根（不偏性はないのでそこだけ注意が必要）  \n",
    "\n",
    "  \n",
    "不偏性に関して  \n",
    "推定量が平均的に母数と一致する場合、その推定量は不偏性があるという。  \n",
    "不偏性がある推定量を不偏推定量と呼ぶ  \n",
    "確率の文脈では平均のことを期待値という。  \n",
    "★標本分布の平均！の平均！が母平均に近ずく！  \n",
    "\n",
    "よって標本分布の平均の分布は→平均μ、分散√σ^2/nの分布になりうる。  \n",
    "\n",
    "不偏分散  \n",
    "→母分散の不偏推定量のこと  \n",
    "→不偏分散の標本分布の平均値は母分散に一致する。  \n",
    "→https://datawokagaku.com/unbiased_estimator/  \n",
    "→不偏分散は母分散の推定量  \n",
    "\n",
    "\n",
    "注意！！！  \n",
    "不偏分散の平方根を取っても不偏標準偏差とはならない→不偏分散に平方根を取ったとしても不偏性があるわけではないため。  "
   ]
  },
  {
   "cell_type": "code",
   "execution_count": 1,
   "id": "71184382-9b26-4ca2-b6f1-11ac7c6500a0",
   "metadata": {},
   "outputs": [],
   "source": [
    "import numpy as np\n",
    "import pandas as pd\n",
    "import seaborn as sns\n",
    "from scipy import stats\n",
    "import matplotlib.pyplot as plt\n",
    "%matplotlib inline"
   ]
  },
  {
   "cell_type": "code",
   "execution_count": 2,
   "id": "5d4f7be3-4b11-461d-a33c-e82fa141a28e",
   "metadata": {},
   "outputs": [],
   "source": [
    "df = sns.load_dataset(\"tips\")\n",
    "df[\"tip_rate\"] = df[\"tip\"] / df[\"total_bill\"]\n"
   ]
  },
  {
   "cell_type": "code",
   "execution_count": 14,
   "id": "6caf6329-8dff-469a-97f5-c1d1a064b703",
   "metadata": {},
   "outputs": [],
   "source": [
    "data_list = []\n",
    "m = 100\n",
    "n = 50\n",
    "column = \"tip\"\n",
    "for i in range(m):\n",
    "    data_list.append(df[column].sample(n).mean())"
   ]
  },
  {
   "cell_type": "code",
   "execution_count": 15,
   "id": "716d5d13-531f-4b9a-82c8-d79452bb465d",
   "metadata": {},
   "outputs": [
    {
     "name": "stdout",
     "output_type": "stream",
     "text": [
      "2.9982786885245902\n",
      "1.9144546380624725\n"
     ]
    }
   ],
   "source": [
    "#  母集団の平均と分散\n",
    "print(df[\"tip\"].mean())\n",
    "print(df[\"tip\"].var())"
   ]
  },
  {
   "cell_type": "code",
   "execution_count": 16,
   "id": "721acb02-407f-4af6-8ded-1562072a7d7c",
   "metadata": {},
   "outputs": [
    {
     "data": {
      "text/plain": [
       "<seaborn.axisgrid.FacetGrid at 0x7ff03696ac70>"
      ]
     },
     "execution_count": 16,
     "metadata": {},
     "output_type": "execute_result"
    },
    {
     "data": {
      "image/png": "[encoded data removed]",
      "text/plain": [
       "<Figure size 360x360 with 1 Axes>"
      ]
     },
     "metadata": {
      "needs_background": "light"
     },
     "output_type": "display_data"
    }
   ],
   "source": [
    "sns.displot(data_list,kde=True)"
   ]
  },
  {
   "cell_type": "code",
   "execution_count": 13,
   "id": "424f4d68-34e1-4989-b0ef-a50a581c75d4",
   "metadata": {},
   "outputs": [
    {
     "name": "stdout",
     "output_type": "stream",
     "text": [
      "3.009734000000001\n",
      "0.029578768043999993\n"
     ]
    }
   ],
   "source": [
    "# 標本平均の平均と標本平均の分散\n",
    "print(np.mean(data_list))\n",
    "print(np.var(data_list))"
   ]
  },
  {
   "cell_type": "code",
   "execution_count": 17,
   "id": "a9de90f1-61ff-43ff-af55-09eab15a67db",
   "metadata": {},
   "outputs": [
    {
     "name": "stdout",
     "output_type": "stream",
     "text": [
      "0.03828909276124945\n"
     ]
    }
   ],
   "source": [
    "print(df[\"tip\"].var()/n)"
   ]
  },
  {
   "cell_type": "code",
   "execution_count": null,
   "id": "047402f1-3da5-4f3d-bd92-015525479f21",
   "metadata": {},
   "outputs": [],
   "source": []
  },
  {
   "cell_type": "markdown",
   "id": "66d32ab1-48bb-431a-9767-dcb92e3b9ad9",
   "metadata": {},
   "source": [
    "## 不偏分散\n"
   ]
  },
  {
   "cell_type": "code",
   "execution_count": 18,
   "id": "afbdb01e-22ca-4146-b0de-d09b1122042c",
   "metadata": {},
   "outputs": [
    {
     "data": {
      "text/plain": [
       "1.914454638062471"
      ]
     },
     "execution_count": 18,
     "metadata": {},
     "output_type": "execute_result"
    }
   ],
   "source": [
    "stats.tvar(df[\"tip\"])"
   ]
  },
  {
   "cell_type": "code",
   "execution_count": 19,
   "id": "c1218daa-2488-4376-9cf1-d15eb917ddb4",
   "metadata": {},
   "outputs": [
    {
     "data": {
      "text/plain": [
       "1.9144546380624725"
      ]
     },
     "execution_count": 19,
     "metadata": {},
     "output_type": "execute_result"
    }
   ],
   "source": [
    "np.var(df[\"tip\"],ddof = 1)"
   ]
  },
  {
   "cell_type": "code",
   "execution_count": 20,
   "id": "35f7c710-d8f9-4941-a8b8-0aded79e7d62",
   "metadata": {},
   "outputs": [
    {
     "data": {
      "text/plain": [
       "1.3836381890011826"
      ]
     },
     "execution_count": 20,
     "metadata": {},
     "output_type": "execute_result"
    }
   ],
   "source": [
    "np.std(df[\"tip\"],ddof=1)"
   ]
  },
  {
   "cell_type": "code",
   "execution_count": null,
   "id": "a15177c9-b2bb-46a0-8c65-6bb3aaf0fce1",
   "metadata": {},
   "outputs": [],
   "source": []
  },
  {
   "cell_type": "code",
   "execution_count": 29,
   "id": "6cb8b07a-e976-479b-9a92-6131f442374a",
   "metadata": {},
   "outputs": [],
   "source": [
    "n_list = []\n",
    "n_1_list=[]\n",
    "m = 10000\n",
    "n = 50\n",
    "column = \"tip\"\n",
    "for i in range(m):\n",
    "    n_list.append(np.var(df[column].sample(n)))\n",
    "    n_1_list.append(np.var(df[column].sample(n) , ddof=1))"
   ]
  },
  {
   "cell_type": "code",
   "execution_count": 30,
   "id": "01a9a642-7b75-4124-aa9d-af9a6519d3a1",
   "metadata": {},
   "outputs": [
    {
     "name": "stdout",
     "output_type": "stream",
     "text": [
      "標本分布の分散の平均\n",
      "1.883493526932\n",
      "\n",
      "不偏分散の平均\n",
      "1.9171963767632654\n",
      "\n",
      "母分散\n",
      "1.9066085124966428\n",
      "\n"
     ]
    }
   ],
   "source": [
    "print(\"標本分布の分散の平均\")\n",
    "print(np.mean(n_list))\n",
    "print()\n",
    "print(\"不偏分散の平均\")\n",
    "print(np.mean(n_1_list))\n",
    "print()\n",
    "print(\"母分散\")\n",
    "print(np.var(df[column]))\n",
    "print()\n"
   ]
  },
  {
   "cell_type": "code",
   "execution_count": null,
   "id": "f2e6509e-1c2c-439a-980e-9934d0b0220e",
   "metadata": {},
   "outputs": [],
   "source": []
  },
  {
   "cell_type": "code",
   "execution_count": null,
   "id": "1f07261f-7728-451b-96ac-4450f2c58483",
   "metadata": {},
   "outputs": [],
   "source": []
  },
  {
   "cell_type": "code",
   "execution_count": null,
   "id": "1938512e-6239-48a4-ab02-4b4a24e68de3",
   "metadata": {},
   "outputs": [],
   "source": []
  },
  {
   "cell_type": "code",
   "execution_count": null,
   "id": "f710d908-b6c1-4690-8724-795a3962d867",
   "metadata": {},
   "outputs": [],
   "source": []
  },
  {
   "cell_type": "code",
   "execution_count": null,
   "id": "ef0b7dcb-ba5a-497f-8141-dfe865914dca",
   "metadata": {},
   "outputs": [],
   "source": []
  },
  {
   "cell_type": "code",
   "execution_count": null,
   "id": "7a86d8f4-3dd5-44ac-88d5-099a31e0b404",
   "metadata": {},
   "outputs": [],
   "source": []
  },
  {
   "cell_type": "code",
   "execution_count": null,
   "id": "912465e2-eb9d-484f-84f1-5d4930a2c6b7",
   "metadata": {},
   "outputs": [],
   "source": []
  },
  {
   "cell_type": "code",
   "execution_count": null,
   "id": "3b3d3a7c-5160-4f7b-8b38-7448e6375c4f",
   "metadata": {},
   "outputs": [],
   "source": []
  },
  {
   "cell_type": "code",
   "execution_count": null,
   "id": "653445fb-8b98-4bc7-9277-fc7389d9509e",
   "metadata": {},
   "outputs": [],
   "source": []
  },
  {
   "cell_type": "code",
   "execution_count": null,
   "id": "d581b01b-0ea9-4441-86b3-4e39b8bcef98",
   "metadata": {},
   "outputs": [],
   "source": []
  },
  {
   "cell_type": "code",
   "execution_count": null,
   "id": "baef927c-882c-499f-856a-0bf6c6f450e7",
   "metadata": {},
   "outputs": [],
   "source": []
  },
  {
   "cell_type": "code",
   "execution_count": null,
   "id": "61b38aca-fbbc-49b3-aa30-db9d6a5abe7f",
   "metadata": {},
   "outputs": [],
   "source": []
  },
  {
   "cell_type": "code",
   "execution_count": null,
   "id": "21d3ee28-b4be-418f-98d3-13ffa304b877",
   "metadata": {},
   "outputs": [],
   "source": []
  },
  {
   "cell_type": "code",
   "execution_count": null,
   "id": "73989d3f-9a6b-463d-928d-16d54befae31",
   "metadata": {},
   "outputs": [],
   "source": []
  },
  {
   "cell_type": "code",
   "execution_count": null,
   "id": "45a955dc-12a5-4eec-8fbd-f1a1ee01025d",
   "metadata": {},
   "outputs": [],
   "source": []
  },
  {
   "cell_type": "code",
   "execution_count": null,
   "id": "653a58a4-5bcf-49ac-a7de-4dc943b9a3d4",
   "metadata": {},
   "outputs": [],
   "source": []
  },
  {
   "cell_type": "code",
   "execution_count": null,
   "id": "dce29341-0ea7-40c6-a691-6a87a443328b",
   "metadata": {},
   "outputs": [],
   "source": []
  },
  {
   "cell_type": "code",
   "execution_count": null,
   "id": "a4eeeeb9-c0c0-4b1b-b3c6-3a6429b47ce8",
   "metadata": {},
   "outputs": [],
   "source": []
  },
  {
   "cell_type": "code",
   "execution_count": null,
   "id": "b80018ac-b615-4bd8-a3ae-29ed9b62666c",
   "metadata": {},
   "outputs": [],
   "source": []
  },
  {
   "cell_type": "code",
   "execution_count": null,
   "id": "b5232e6e-2937-48f7-88bb-a55e9904d0ba",
   "metadata": {},
   "outputs": [],
   "source": []
  },
  {
   "cell_type": "code",
   "execution_count": null,
   "id": "479f66f8-8515-41a4-9347-4c1b0aac82cc",
   "metadata": {},
   "outputs": [],
   "source": []
  },
  {
   "cell_type": "code",
   "execution_count": null,
   "id": "18ef1a3b-a30a-4cb8-bedb-1a4daee7399c",
   "metadata": {},
   "outputs": [],
   "source": []
  },
  {
   "cell_type": "code",
   "execution_count": null,
   "id": "bb5b646a-a4aa-4321-913d-18e5496d672a",
   "metadata": {},
   "outputs": [],
   "source": []
  },
  {
   "cell_type": "code",
   "execution_count": null,
   "id": "2defed65-37dd-417e-865c-828d7dcdcd58",
   "metadata": {},
   "outputs": [],
   "source": []
  },
  {
   "cell_type": "code",
   "execution_count": null,
   "id": "80386351-d19d-4eed-a1e5-8946e392fe05",
   "metadata": {},
   "outputs": [],
   "source": []
  },
  {
   "cell_type": "code",
   "execution_count": null,
   "id": "95751bd9-6c0b-44a5-8d43-5ce75cbffa12",
   "metadata": {},
   "outputs": [],
   "source": []
  },
  {
   "cell_type": "code",
   "execution_count": null,
   "id": "2b8b8408-5dc6-4a52-93c2-e0202d259f22",
   "metadata": {},
   "outputs": [],
   "source": []
  },
  {
   "cell_type": "code",
   "execution_count": null,
   "id": "d8e7f2a5-42fe-43df-8907-08572aed6bbc",
   "metadata": {},
   "outputs": [],
   "source": []
  },
  {
   "cell_type": "code",
   "execution_count": null,
   "id": "966e8070-90f0-448b-8729-e42adbea5d1e",
   "metadata": {},
   "outputs": [],
   "source": []
  },
  {
   "cell_type": "code",
   "execution_count": null,
   "id": "dd4f4b89-0f87-4a10-9db6-c98f523bd59f",
   "metadata": {},
   "outputs": [],
   "source": []
  },
  {
   "cell_type": "code",
   "execution_count": null,
   "id": "69374e23-f056-411b-b495-f0407051ab73",
   "metadata": {},
   "outputs": [],
   "source": []
  }
 ],
 "metadata": {
  "kernelspec": {
   "display_name": "Python 3 (ipykernel)",
   "language": "python",
   "name": "python3"
  },
  "language_info": {
   "codemirror_mode": {
    "name": "ipython",
    "version": 3
   },
   "file_extension": ".py",
   "mimetype": "text/x-python",
   "name": "python",
   "nbconvert_exporter": "python",
   "pygments_lexer": "ipython3",
   "version": "3.9.7"
  }
 },
 "nbformat": 4,
 "nbformat_minor": 5
}
