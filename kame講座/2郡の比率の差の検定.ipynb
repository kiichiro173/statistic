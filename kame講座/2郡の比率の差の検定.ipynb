{
 "cells": [
  {
   "cell_type": "markdown",
   "id": "f01647a8-4624-413c-9696-ccfee0d9d41a",
   "metadata": {},
   "source": [
    "## ２郡の比率の差の検定\n",
    "\n",
    "・2郡の比率に差があるのかを検定する。\n",
    "例：自社のWebサイトにおいて、新しい施策をしたことによりクリック率が上がったかどうかを確かめる。（A/Bテスト）\n",
    "\n",
    "ここで注意すべき点！\n",
    "この２郡の比率の差はあくまでも母数に差があるのかを検定している！\n",
    "\n",
    "手順は以下\n",
    "①帰無仮説と対立仮説を立てる。\n",
    "帰無仮説→比率に差はない\n",
    "対立仮説→比率に差がある\n",
    "ここで注意、仮説によっては両側検定と片側検定を分別して仮説を立てる必要がある。\n",
    "例えば、\n",
    "単に差があるということを分析したい場合→両側検定\n",
    "Aの方が大きい、もしくはBの方が効果があるということを分析したい場合→片側検定\n",
    "\n",
    "②帰無仮説が正しいと仮説のもと、標本観察を行う。\n",
    "→二つの標本からそれぞれ比率を計算。この比率の差がどのような標本分布になるかを考える。\n",
    "\n",
    "・比率の差の標本分布に関して\n",
    "結論：平均：p_1 - p_2 （＝０）,分散：p_1・q_1/n_1 + p_2・q_2/n_2（＝p_1とp_2は同じとして考える。）の正規分布になる。\n",
    "なぜなら比率p_1/n_1は平均p_1分散p_1・q_1/n_1の正規分布に従う。それの差の標本分布なので比率の差の標本分布は上記のようになる。\n",
    "↑\n",
    "ここで注意、いま帰無仮説では比率には差はないとしているので、p_1 = P_2＝p となる。\n",
    "よって比率の差の標本分布は平均：０、分散：p(1-p)(1/n_1 + 1/n_2) となる！\n",
    "\n",
    "③比率差の標本分布の標準化\n",
    "Z ＝　p_1 - p_2 / √p(1-p)(1/n_1 + 1/n_2)\n",
    "比率の差の標本分布を標準化しないとどこが（有意水準の）５％なのかがわからない。\n",
    "→標準化を行う。→正規分布を標準化するのでZ分布（標準正規分布に従う）\n",
    "p_1:Aのテストを行った時のクリック率\n",
    "p_2:Bのテストを行った時のクリック率\n",
    "p:母集団の比率（仮説のものではp=p_1=p_2）\n",
    "→この母集団の比率pは分かっていないため、この母集団の比率の推定値のp^を計算する必要がある。\n",
    "\n",
    "母集団の比率の推定値のp^はどのようにして求めるのか？？\n",
    "結論:(x_1 + x_2)/n_1 + n_2 これをpの推定値として\n",
    "使用する。\n",
    "\n",
    "④有意性の確認を行う。\n",
    "p値：帰無仮説が正しいとしたときにその検定統計量が得られる確率\n",
    "例：\n",
    "z=-0.38という値が与えられた。この時のp値は０.35であったとする。この場合、35%の確率でこのZの結果は起こりうるという解釈をする事ができる。\n",
    "→よってこれは棄却する事ができない。もしこのp値が有意水準よりも小さかった場合においては棄却する事ができる。"
   ]
  },
  {
   "cell_type": "code",
   "execution_count": 3,
   "id": "f0a35d5c-6d97-4186-8c35-60156136c448",
   "metadata": {},
   "outputs": [],
   "source": [
    "import numpy as np\n",
    "import pandas as pd\n",
    "import seaborn as sns\n",
    "from scipy import stats\n",
    "import matplotlib.pyplot as plt\n",
    "from statsmodels.stats.proportion import proportions_ztest\n",
    "%matplotlib inline"
   ]
  },
  {
   "cell_type": "code",
   "execution_count": 2,
   "id": "b47f9ed5-888c-4eff-905a-162bda1e9bc8",
   "metadata": {},
   "outputs": [],
   "source": [
    "df = sns.load_dataset(\"tips\")\n",
    "df[\"tip_rate\"] = df[\"tip\"] / df[\"total_bill\"]\n"
   ]
  },
  {
   "cell_type": "markdown",
   "id": "1a434289-3db7-44e9-a382-899f52d299eb",
   "metadata": {},
   "source": [
    "## 比率の差の検定\n",
    "statsmodels.stats.proportion.proportions_ztest(count,nobs,alternative)\n",
    "count:標本の中で実際に観測する事ができた数\n",
    "nobs:標本の大きさ\n",
    "alternative:\"two-sided\":両側、\"smaller\":p1<p2,\"larger\":p1>p2\n",
    "\n",
    "Returns：（Zの検定統計量、p値）"
   ]
  },
  {
   "cell_type": "markdown",
   "id": "5f5530dd-8d23-4a5b-9a10-602bd13f32c8",
   "metadata": {},
   "source": [
    "以下の例を想定する。\n",
    "A:サンプル数1000,クリック数30\n",
    "B:サンプル数1000,クリック数33"
   ]
  },
  {
   "cell_type": "code",
   "execution_count": 5,
   "id": "0b861149-b3f7-4586-8cee-a6ce9a20446a",
   "metadata": {},
   "outputs": [
    {
     "data": {
      "text/plain": [
       "(-0.3840618481549573, 0.35046630388746547)"
      ]
     },
     "execution_count": 5,
     "metadata": {},
     "output_type": "execute_result"
    }
   ],
   "source": [
    "proportions_ztest([30,33],[1000,1000] , alternative=\"smaller\")\n",
    "#以下の結果を確認するとp値が０．３５となっており、有意水準の５％より大きいことから棄却する事ができない。\n",
    "#よって差があるとは言えない。"
   ]
  },
  {
   "cell_type": "code",
   "execution_count": null,
   "id": "9994f6ad-bfcf-41b9-8922-9ed0d13585ee",
   "metadata": {},
   "outputs": [],
   "source": []
  },
  {
   "cell_type": "code",
   "execution_count": null,
   "id": "7a3b49af-1f56-41c8-a619-41d6f7bd26dd",
   "metadata": {},
   "outputs": [],
   "source": []
  },
  {
   "cell_type": "code",
   "execution_count": null,
   "id": "24c277dc-0f29-4982-80eb-fa6f73e178f0",
   "metadata": {},
   "outputs": [],
   "source": []
  },
  {
   "cell_type": "code",
   "execution_count": null,
   "id": "25187464-c8b5-484a-9457-a19705f8f9b7",
   "metadata": {},
   "outputs": [],
   "source": []
  },
  {
   "cell_type": "code",
   "execution_count": null,
   "id": "c974990b-19ad-4b60-bb33-152df3c7ab75",
   "metadata": {},
   "outputs": [],
   "source": []
  },
  {
   "cell_type": "code",
   "execution_count": null,
   "id": "8e0e2e1f-9a3d-481e-9c72-c0f7c907e109",
   "metadata": {},
   "outputs": [],
   "source": []
  },
  {
   "cell_type": "code",
   "execution_count": null,
   "id": "bd2890e1-57c2-442c-ae01-ef457ee52e07",
   "metadata": {},
   "outputs": [],
   "source": []
  },
  {
   "cell_type": "code",
   "execution_count": null,
   "id": "75257bdc-2943-46fa-968d-04bb7d903990",
   "metadata": {},
   "outputs": [],
   "source": []
  },
  {
   "cell_type": "code",
   "execution_count": null,
   "id": "1bb58218-1aaa-4e32-96ca-94c9c49c0d63",
   "metadata": {},
   "outputs": [],
   "source": []
  },
  {
   "cell_type": "code",
   "execution_count": null,
   "id": "9f79fae0-0550-43cd-b40f-0addb7750b52",
   "metadata": {},
   "outputs": [],
   "source": []
  },
  {
   "cell_type": "code",
   "execution_count": null,
   "id": "3862a8ce-04f3-4e7e-b811-b813ff6e8d03",
   "metadata": {},
   "outputs": [],
   "source": []
  },
  {
   "cell_type": "code",
   "execution_count": null,
   "id": "764bd5c2-4453-45fa-996b-f186213ae0a6",
   "metadata": {},
   "outputs": [],
   "source": []
  },
  {
   "cell_type": "code",
   "execution_count": null,
   "id": "3eab71e2-7042-4ed9-8b5b-8fa7d51a529f",
   "metadata": {},
   "outputs": [],
   "source": []
  },
  {
   "cell_type": "code",
   "execution_count": null,
   "id": "8a331b0b-a498-4bbc-b14e-c6ede4a6465e",
   "metadata": {},
   "outputs": [],
   "source": []
  },
  {
   "cell_type": "code",
   "execution_count": null,
   "id": "21ddfb9c-0590-416f-8cc1-1c0d5cdecc9b",
   "metadata": {},
   "outputs": [],
   "source": []
  },
  {
   "cell_type": "code",
   "execution_count": null,
   "id": "b5232c19-5ca2-4868-b628-a781f77e5c96",
   "metadata": {},
   "outputs": [],
   "source": []
  },
  {
   "cell_type": "code",
   "execution_count": null,
   "id": "17f742c9-58ff-4e7b-841e-a1fcc1393a47",
   "metadata": {},
   "outputs": [],
   "source": []
  },
  {
   "cell_type": "code",
   "execution_count": null,
   "id": "e7859c0f-7953-40d5-ade9-4b63cc277420",
   "metadata": {},
   "outputs": [],
   "source": []
  },
  {
   "cell_type": "code",
   "execution_count": null,
   "id": "d86ef76b-22f6-4f49-b7e9-e75ff38716e4",
   "metadata": {},
   "outputs": [],
   "source": []
  },
  {
   "cell_type": "code",
   "execution_count": null,
   "id": "6db456fc-d31b-49b3-9b6e-149e6a82dc44",
   "metadata": {},
   "outputs": [],
   "source": []
  },
  {
   "cell_type": "code",
   "execution_count": null,
   "id": "001fed07-a9d9-4c31-87b4-7b04db525332",
   "metadata": {},
   "outputs": [],
   "source": []
  },
  {
   "cell_type": "code",
   "execution_count": null,
   "id": "7c2c9a17-6900-4d55-bb8b-7da33779059b",
   "metadata": {},
   "outputs": [],
   "source": []
  },
  {
   "cell_type": "code",
   "execution_count": null,
   "id": "4107ac05-9d35-453c-bfe5-3991c1c3af60",
   "metadata": {},
   "outputs": [],
   "source": []
  },
  {
   "cell_type": "code",
   "execution_count": null,
   "id": "ea96a9ec-d099-47fd-ad5a-a309fbd5ba30",
   "metadata": {},
   "outputs": [],
   "source": []
  },
  {
   "cell_type": "code",
   "execution_count": null,
   "id": "5a139d0a-fe35-4113-a59f-e66d5d7cfe5a",
   "metadata": {},
   "outputs": [],
   "source": []
  },
  {
   "cell_type": "code",
   "execution_count": null,
   "id": "658c0b42-a20a-48b4-a31d-d4d8ca68a34b",
   "metadata": {},
   "outputs": [],
   "source": []
  },
  {
   "cell_type": "code",
   "execution_count": null,
   "id": "35f006e1-852b-4f31-b77c-760ed5c3ccac",
   "metadata": {},
   "outputs": [],
   "source": []
  },
  {
   "cell_type": "code",
   "execution_count": null,
   "id": "82b1b959-f9ba-4607-84fc-498cfb3255f6",
   "metadata": {},
   "outputs": [],
   "source": []
  },
  {
   "cell_type": "code",
   "execution_count": null,
   "id": "bfafb089-a942-4518-bcb9-79a12c40a7ef",
   "metadata": {},
   "outputs": [],
   "source": []
  },
  {
   "cell_type": "code",
   "execution_count": null,
   "id": "2e5d5641-0824-47d8-a78e-c6e0edc773d5",
   "metadata": {},
   "outputs": [],
   "source": []
  },
  {
   "cell_type": "code",
   "execution_count": null,
   "id": "005c35af-64e8-4a0f-abf0-137ce45a228f",
   "metadata": {},
   "outputs": [],
   "source": []
  },
  {
   "cell_type": "code",
   "execution_count": null,
   "id": "61958c82-a60c-4745-80ef-c40ed20efaea",
   "metadata": {},
   "outputs": [],
   "source": []
  },
  {
   "cell_type": "code",
   "execution_count": null,
   "id": "a80775e8-686c-4319-9d6e-647b4d331a75",
   "metadata": {},
   "outputs": [],
   "source": []
  },
  {
   "cell_type": "code",
   "execution_count": null,
   "id": "75f4d77e-2c80-467b-9712-addd4bf4ef4c",
   "metadata": {},
   "outputs": [],
   "source": []
  },
  {
   "cell_type": "code",
   "execution_count": null,
   "id": "8cedba5a-7cb2-4975-93de-0fb829d9b7c0",
   "metadata": {},
   "outputs": [],
   "source": []
  },
  {
   "cell_type": "code",
   "execution_count": null,
   "id": "b068d98e-dcb0-4ee1-9471-5f8b68697273",
   "metadata": {},
   "outputs": [],
   "source": []
  },
  {
   "cell_type": "code",
   "execution_count": null,
   "id": "0118cdd1-c842-4ff0-bf85-6ad09a61f02b",
   "metadata": {},
   "outputs": [],
   "source": []
  },
  {
   "cell_type": "code",
   "execution_count": null,
   "id": "12752cf0-c317-4c94-93ba-a831d4b56dcc",
   "metadata": {},
   "outputs": [],
   "source": []
  },
  {
   "cell_type": "code",
   "execution_count": null,
   "id": "5c1756cc-7294-44f2-b68f-231e389df790",
   "metadata": {},
   "outputs": [],
   "source": []
  },
  {
   "cell_type": "code",
   "execution_count": null,
   "id": "60a521f8-ed42-4b15-b7ca-be0f75fa7f2a",
   "metadata": {},
   "outputs": [],
   "source": []
  },
  {
   "cell_type": "code",
   "execution_count": null,
   "id": "edf60061-5962-492c-8187-ec72cf0c8bca",
   "metadata": {},
   "outputs": [],
   "source": []
  },
  {
   "cell_type": "code",
   "execution_count": null,
   "id": "24888523-ba4d-4e3e-8de5-65a6a1741f90",
   "metadata": {},
   "outputs": [],
   "source": []
  },
  {
   "cell_type": "code",
   "execution_count": null,
   "id": "3b44e5c5-3636-44ae-9968-b093695220e1",
   "metadata": {},
   "outputs": [],
   "source": []
  },
  {
   "cell_type": "code",
   "execution_count": null,
   "id": "d29159e5-f215-486f-9ff1-6a5923c0bad3",
   "metadata": {},
   "outputs": [],
   "source": []
  },
  {
   "cell_type": "code",
   "execution_count": null,
   "id": "42e33a41-dc40-4076-888d-1fa6686c5b76",
   "metadata": {},
   "outputs": [],
   "source": []
  },
  {
   "cell_type": "code",
   "execution_count": null,
   "id": "d125a334-3463-4df9-a49f-36d80f407884",
   "metadata": {},
   "outputs": [],
   "source": []
  },
  {
   "cell_type": "code",
   "execution_count": null,
   "id": "34a35a11-676a-4054-8984-e848f8dd6631",
   "metadata": {},
   "outputs": [],
   "source": []
  },
  {
   "cell_type": "code",
   "execution_count": null,
   "id": "387f5e91-9412-4c4b-9e2e-bfab13c9b277",
   "metadata": {},
   "outputs": [],
   "source": []
  },
  {
   "cell_type": "code",
   "execution_count": null,
   "id": "17d11db6-db81-40fc-8cc1-7dc510be162e",
   "metadata": {},
   "outputs": [],
   "source": []
  },
  {
   "cell_type": "code",
   "execution_count": null,
   "id": "10344184-f986-4f23-8f9d-a6344625ee38",
   "metadata": {},
   "outputs": [],
   "source": []
  },
  {
   "cell_type": "code",
   "execution_count": null,
   "id": "c28fa1a0-3689-4771-acfc-2fb3103f6945",
   "metadata": {},
   "outputs": [],
   "source": []
  },
  {
   "cell_type": "code",
   "execution_count": null,
   "id": "6d570814-2b8b-47e2-b702-eeb47eeb9bc1",
   "metadata": {},
   "outputs": [],
   "source": []
  },
  {
   "cell_type": "code",
   "execution_count": null,
   "id": "d7ad8822-63a3-488a-b517-918a62008de6",
   "metadata": {},
   "outputs": [],
   "source": []
  },
  {
   "cell_type": "code",
   "execution_count": null,
   "id": "1203d4e1-7c55-40d9-98a6-d85b0b838928",
   "metadata": {},
   "outputs": [],
   "source": []
  },
  {
   "cell_type": "code",
   "execution_count": null,
   "id": "b1758535-9b20-4f1a-ba84-d6dcd9fd5948",
   "metadata": {},
   "outputs": [],
   "source": []
  },
  {
   "cell_type": "code",
   "execution_count": null,
   "id": "99d67ada-e211-4c27-bb2e-b452b56939cb",
   "metadata": {},
   "outputs": [],
   "source": []
  },
  {
   "cell_type": "code",
   "execution_count": null,
   "id": "bebd553b-a446-4187-b26b-5cb17f792500",
   "metadata": {},
   "outputs": [],
   "source": []
  },
  {
   "cell_type": "code",
   "execution_count": null,
   "id": "3b48a8cd-54f4-4fdb-9ebd-a403249829d7",
   "metadata": {},
   "outputs": [],
   "source": []
  },
  {
   "cell_type": "code",
   "execution_count": null,
   "id": "75a51179-cea0-4f13-bc56-d2e58ed43bd2",
   "metadata": {},
   "outputs": [],
   "source": []
  },
  {
   "cell_type": "code",
   "execution_count": null,
   "id": "81b0f9a9-bf65-4f4a-99a2-296c9696e149",
   "metadata": {},
   "outputs": [],
   "source": []
  },
  {
   "cell_type": "code",
   "execution_count": null,
   "id": "631b8bbf-f3cf-4e6c-bec7-9ba9f9a98815",
   "metadata": {},
   "outputs": [],
   "source": []
  },
  {
   "cell_type": "code",
   "execution_count": null,
   "id": "43c39d8e-95cf-4721-b88e-6f81f8c9c2d8",
   "metadata": {},
   "outputs": [],
   "source": []
  },
  {
   "cell_type": "code",
   "execution_count": null,
   "id": "ac1586f9-913a-408d-9d8e-43a596a8d0bc",
   "metadata": {},
   "outputs": [],
   "source": []
  },
  {
   "cell_type": "code",
   "execution_count": null,
   "id": "f4c26050-e259-4cbc-b6db-01552014f1a1",
   "metadata": {},
   "outputs": [],
   "source": []
  },
  {
   "cell_type": "code",
   "execution_count": null,
   "id": "38a4dfb8-0733-4dde-b549-483cd10723dd",
   "metadata": {},
   "outputs": [],
   "source": []
  },
  {
   "cell_type": "code",
   "execution_count": null,
   "id": "4c85bb88-ebe3-4ca1-a627-6ac35ed7db7b",
   "metadata": {},
   "outputs": [],
   "source": []
  },
  {
   "cell_type": "code",
   "execution_count": null,
   "id": "87304183-7fde-411c-a89d-a44de936fd01",
   "metadata": {},
   "outputs": [],
   "source": []
  },
  {
   "cell_type": "code",
   "execution_count": null,
   "id": "4d722352-2d2a-4410-9946-243db19b5bba",
   "metadata": {},
   "outputs": [],
   "source": []
  },
  {
   "cell_type": "code",
   "execution_count": null,
   "id": "51030df0-cd98-4a9d-87ab-819ddd03a76b",
   "metadata": {},
   "outputs": [],
   "source": []
  },
  {
   "cell_type": "code",
   "execution_count": null,
   "id": "fb38c267-624b-4a2b-b75b-ae9d2f24d280",
   "metadata": {},
   "outputs": [],
   "source": []
  },
  {
   "cell_type": "code",
   "execution_count": null,
   "id": "e8db63f8-04d2-4445-b286-5602919fe225",
   "metadata": {},
   "outputs": [],
   "source": []
  },
  {
   "cell_type": "code",
   "execution_count": null,
   "id": "82cb78b0-5353-4c9b-b446-4a10e46a18b1",
   "metadata": {},
   "outputs": [],
   "source": []
  },
  {
   "cell_type": "code",
   "execution_count": null,
   "id": "ee3fb89e-3980-4fdd-81d2-0d3c65465a6b",
   "metadata": {},
   "outputs": [],
   "source": []
  },
  {
   "cell_type": "code",
   "execution_count": null,
   "id": "487adbb6-cfca-4251-a7f3-8d62be8b8832",
   "metadata": {},
   "outputs": [],
   "source": []
  },
  {
   "cell_type": "code",
   "execution_count": null,
   "id": "fe721353-1291-4afc-a00a-af343435c882",
   "metadata": {},
   "outputs": [],
   "source": []
  },
  {
   "cell_type": "code",
   "execution_count": null,
   "id": "228703c1-d922-4847-aa86-b85bb3fe776a",
   "metadata": {},
   "outputs": [],
   "source": []
  },
  {
   "cell_type": "code",
   "execution_count": null,
   "id": "e6596a1e-bb92-4803-8557-11b11a2d9261",
   "metadata": {},
   "outputs": [],
   "source": []
  },
  {
   "cell_type": "code",
   "execution_count": null,
   "id": "4fdf0d0a-4e0d-4cc3-80c8-0db32e95207f",
   "metadata": {},
   "outputs": [],
   "source": []
  },
  {
   "cell_type": "code",
   "execution_count": null,
   "id": "a278f2a8-026a-421f-b305-3d9ec1acff8e",
   "metadata": {},
   "outputs": [],
   "source": []
  },
  {
   "cell_type": "code",
   "execution_count": null,
   "id": "0ddd0a8f-334b-4263-8e4b-2b3f38a68984",
   "metadata": {},
   "outputs": [],
   "source": []
  }
 ],
 "metadata": {
  "kernelspec": {
   "display_name": "Python 3 (ipykernel)",
   "language": "python",
   "name": "python3"
  },
  "language_info": {
   "codemirror_mode": {
    "name": "ipython",
    "version": 3
   },
   "file_extension": ".py",
   "mimetype": "text/x-python",
   "name": "python",
   "nbconvert_exporter": "python",
   "pygments_lexer": "ipython3",
   "version": "3.9.7"
  }
 },
 "nbformat": 4,
 "nbformat_minor": 5
}
