{
 "cells": [
  {
   "cell_type": "markdown",
   "id": "fa5dbfcb-f829-4e7f-b579-236c2ae2a13b",
   "metadata": {},
   "source": [
    "# 検定の謝りと検定力\n",
    "検定力：どれだけ帰無仮説を棄却した結果が本当の事象と同じなのかを表しているもの。  \n",
    "\n",
    "第１種の誤り：本当は帰無仮説が正しいのに帰無仮説を棄却してしまう  \n",
    "第２種の謝り：本当は帰無仮説は正しくないのに帰無仮説を採択してしまう。  \n",
    "\n",
    "第1種の誤りが起こる確率  \n",
    "→有意水準αと同じ。（あわてて棄却するα）  \n",
    "→なぜなら、有意水準αで棄却するから、棄却する確率が第1種の誤りになる。  \n",
    "\n",
    "第2種の誤りが起こる確率→β  \n",
    "\n",
    "αとβの関係はトレードオフの関係である。  \n",
    "→よって第1種の誤りを下げても第２種の誤りが増えてしまうという問題が発生してしまう。  \n",
    "→ではどのようにすべきなのか？？→対立仮説が正しいという前提でどれだけ正しく対立仮説を成立できるかが重要になってくる。  \n",
    "\n",
    "検定力（対立仮説が正しいというのを前提にしている。０.8ぐらいを目指すと良いよう。）  \n",
    "→対立仮説が正しいという前提のもと、どれだけ対立仮説を成立できるのか？？  \n",
    "→検定力(1-β)  \n",
    "\n",
    "検定力に影響を与える３要素  \n",
    "-　有意水準  \n",
    "-　サンプルサイズ  \n",
    "-　帰無分布と対立分布の差  \n",
    "\n",
    "\n",
    "効果量    \n",
    "効果量が大きいと検定力が大きくなる。  \n",
    "→効果量とは帰無分布と対立分布がどれだけ離れているかを表す量のこと。  "
   ]
  },
  {
   "cell_type": "markdown",
   "id": "6819fbda-4485-4f51-9471-b112dbb73d46",
   "metadata": {},
   "source": [
    "## 検定力分析\n",
    "二つのケースに分ける事ができる．  \n",
    "- 検定の結果としてp値だけでなく効果量も合わせて報告する。  \n",
    "→すでに標本が手元にあってそれを検定に使用するケースがあげられる。\n",
    "- 想定する効果量に基づいて適切なサンプルサイズを算出する.  \n",
    "→ これから標本抽出から始めるケース（検定のデザイン）  \n",
    "\n",
    "・サンプルサイズによってp値は異なってくるので、効果量も合わせて報告する必要がある。  \n",
    "\n",
    "効果量とは？？  \n",
    "→標準偏差いくつ分離れているのか？というので測っていく。  \n",
    "→$\\frac{(μ_1 - μ_2)}{σ}$これをCohen's dと呼ぶ  \n",
    "$μ_1 , μ_2$は標本１,2の平均を使用、$σ$は標本１と標本２を合わせた標準偏差を使用  \n",
    "\n",
    "効果量（Cohen's d）の目安  \n",
    "0.2 : 小  \n",
    "0.5 : 中  \n",
    "0.8 : 大  "
   ]
  },
  {
   "cell_type": "code",
   "execution_count": 9,
   "id": "f3ee91ff-2b6d-4a01-ad8a-d3f470648d6a",
   "metadata": {},
   "outputs": [],
   "source": [
    "import numpy as np\n",
    "import pandas as pd\n",
    "import seaborn as sns\n",
    "from scipy import stats\n",
    "import matplotlib.pyplot as plt\n",
    "from statsmodels.stats.proportion import proportions_ztest\n",
    "from statsmodels.api import qqplot\n",
    "from statsmodels.stats.power import TTestIndPower\n",
    "%matplotlib inline\n",
    "df = sns.load_dataset(\"tips\")\n",
    "df[\"tip_rate\"] = df[\"tip\"] / df[\"total_bill\"]"
   ]
  },
  {
   "cell_type": "code",
   "execution_count": null,
   "id": "797059a1-294a-47ad-8372-4a6131674025",
   "metadata": {},
   "outputs": [],
   "source": []
  },
  {
   "cell_type": "markdown",
   "id": "af77e514-4b9f-4787-84f3-0bf2a6e9db6b",
   "metadata": {},
   "source": [
    "## Coend's d"
   ]
  },
  {
   "cell_type": "code",
   "execution_count": 5,
   "id": "b1a4e05c-efb8-4bf0-8233-3fbed6564d73",
   "metadata": {},
   "outputs": [],
   "source": [
    "def cohen_d(x , y):\n",
    "    n1 = len(x)\n",
    "    n2 = len(y)\n",
    "    dof = n1 + n2 - 2\n",
    "    std = np.sqrt(((n1 -1)* stats.tvar(x) + (n2 -1)* stats.tvar(y)) / dof)\n",
    "    return np.abs((np.mean(x) - np.mean(y))/std)"
   ]
  },
  {
   "cell_type": "code",
   "execution_count": 8,
   "id": "54732809-0dd9-484d-be78-d74c8e630864",
   "metadata": {},
   "outputs": [],
   "source": [
    "# 効果量は小さい\n",
    "male_tip_rate = df[df[\"sex\"] == \"Male\"][\"tip_rate\"]\n",
    "female_tip_rate = df[df[\"sex\"] == \"Female\"][\"tip_rate\"]"
   ]
  },
  {
   "cell_type": "code",
   "execution_count": 7,
   "id": "6e05b1c4-9d95-4a01-aa33-e1010e18fe4d",
   "metadata": {},
   "outputs": [
    {
     "data": {
      "text/plain": [
       "0.14480153987269248"
      ]
     },
     "execution_count": 7,
     "metadata": {},
     "output_type": "execute_result"
    }
   ],
   "source": [
    "cohen_d(male_tip_rate , female_tip_rate )"
   ]
  },
  {
   "cell_type": "code",
   "execution_count": null,
   "id": "3286197b-9378-46c4-9e33-95668601bf82",
   "metadata": {},
   "outputs": [],
   "source": []
  },
  {
   "cell_type": "markdown",
   "id": "fff5d341-71b5-43ab-8f58-b445cff6da58",
   "metadata": {},
   "source": [
    "## 適切なサンプルサイズを求める。\n"
   ]
  },
  {
   "cell_type": "code",
   "execution_count": 10,
   "id": "d1f82683-ba13-4eb0-89aa-18b1d08b3bd8",
   "metadata": {},
   "outputs": [],
   "source": [
    "power = TTestIndPower()"
   ]
  },
  {
   "cell_type": "code",
   "execution_count": 15,
   "id": "1d142586-3d4b-447b-b798-fbed265a7959",
   "metadata": {},
   "outputs": [
    {
     "data": {
      "text/plain": [
       "0.19038260700802212"
      ]
     },
     "execution_count": 15,
     "metadata": {},
     "output_type": "execute_result"
    }
   ],
   "source": [
    "# 検定力を求める\n",
    "effect_size = cohen_d(male_tip_rate , female_tip_rate )\n",
    "n1 = len(male_tip_rate)\n",
    "n2 = len(female_tip_rate)\n",
    "power.solve_power(effect_size=effect_size , nobs1=n1, alpha=0.05, power=None , ratio=n2/n1)"
   ]
  },
  {
   "cell_type": "markdown",
   "id": "9c9cb79f-7ac2-4f81-a608-d6516aef5ea9",
   "metadata": {},
   "source": [
    "上記の結果をみると検定力（正しく帰無仮説を棄却できる確率、0.8ぐらいが好ましい）が低い、、、  \n",
    "→よってサンプルサイズを増やしていきたい。。。  \n",
    "→どのくらいサンプルサイズを増やしていくべきなのか？？  "
   ]
  },
  {
   "cell_type": "code",
   "execution_count": 17,
   "id": "7b7a1392-f349-4552-a051-0419abd036bc",
   "metadata": {},
   "outputs": [
    {
     "data": {
      "text/plain": [
       "1051.0959553846506"
      ]
     },
     "execution_count": 17,
     "metadata": {},
     "output_type": "execute_result"
    }
   ],
   "source": [
    "# どのくらいのサンプルサイズが必要なのか？？\n",
    "power.solve_power(effect_size=effect_size , nobs1=None, alpha=0.05, power=0.8 , ratio=n2/n1)\n",
    "# 男性のデータは1051ぐらいのサンプルが必要"
   ]
  },
  {
   "cell_type": "code",
   "execution_count": 18,
   "id": "d320a04b-819e-4934-9056-2a635bc95cba",
   "metadata": {},
   "outputs": [
    {
     "data": {
      "text/plain": [
       "582.9554140127389"
      ]
     },
     "execution_count": 18,
     "metadata": {},
     "output_type": "execute_result"
    }
   ],
   "source": [
    "# 女性のサンプルサイズ\n",
    "n2/n1 * 1052"
   ]
  },
  {
   "cell_type": "code",
   "execution_count": null,
   "id": "aac269a6-53a7-4734-9c56-035803a5004c",
   "metadata": {},
   "outputs": [],
   "source": []
  },
  {
   "cell_type": "code",
   "execution_count": null,
   "id": "b7a9febf-3319-4d04-a83b-bca002ccab43",
   "metadata": {},
   "outputs": [],
   "source": []
  },
  {
   "cell_type": "code",
   "execution_count": null,
   "id": "eb05b216-186f-42a2-b63e-664c52f600e0",
   "metadata": {},
   "outputs": [],
   "source": []
  },
  {
   "cell_type": "code",
   "execution_count": null,
   "id": "b1abca73-5fff-408a-935c-431030070f81",
   "metadata": {},
   "outputs": [],
   "source": []
  },
  {
   "cell_type": "code",
   "execution_count": null,
   "id": "d7a044fa-321a-4b8d-a2af-636d62ced694",
   "metadata": {},
   "outputs": [],
   "source": []
  }
 ],
 "metadata": {
  "kernelspec": {
   "display_name": "Python 3 (ipykernel)",
   "language": "python",
   "name": "python3"
  },
  "language_info": {
   "codemirror_mode": {
    "name": "ipython",
    "version": 3
   },
   "file_extension": ".py",
   "mimetype": "text/x-python",
   "name": "python",
   "nbconvert_exporter": "python",
   "pygments_lexer": "ipython3",
   "version": "3.9.7"
  }
 },
 "nbformat": 4,
 "nbformat_minor": 5
}
