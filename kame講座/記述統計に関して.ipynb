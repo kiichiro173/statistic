{
 "cells": [
  {
   "cell_type": "markdown",
   "id": "600d6361-7296-4a50-a4cb-6a3eff22745a",
   "metadata": {},
   "source": [
    "## 分布に関して\n",
    "\n",
    "分布はどの値にどれくらいデータが存在するかを表したもの。  \n",
    "データの分布を図で表す事ができる。  \n",
    "\n",
    "連続値→ヒストグラムを使用する。  \n",
    "カテゴリ変数（離散値)→棒グラフを使用する。  \n",
    "\n",
    "ヒストグラム  \n",
    "→一つの連続変数の分布を表すのに使用する。  \n",
    "→各棒の区間に感覚がない  \n",
    "→横図はデータの区間で切られている。  \n",
    "\n",
    "棒グラフ  \n",
    "→一つのカテゴリ変数の分布を表すのに使用する事ができる  \n",
    "\n",
    "## 記述統計と推測統計\n",
    "記述統計→データの特徴を記述する。  \n",
    "推測統計→標本から母集団の特徴を推測する。  \n",
    "\n",
    "推測統計を行うには記述統計をもとに行なっている。\n",
    "\n",
    "\n",
    "## 代表値に関して\n",
    "平均値\n",
    "→標本平均$\\bar{x}$,母平均μで表される事が多い。  \n",
    "平均値からの平方和が最も小さい。  \n",
    "\n",
    "中央値  \n",
    "→外れ値の影響を受けにくい。\n",
    "\n",
    "\n",
    "## 散布度\n",
    "→データがどれだけばらついているのかを表している。  \n",
    "範囲  \n",
    "→範囲の値は最大値~最小値で求めることができる。  \n",
    "→外れ値に弱い。  \n",
    "\n",
    "四分位数  \n",
    "→データを並べて４分割した際の25%,50%75%のあたい  \n",
    "→範囲よりは外れ値に強い。  \n",
    "→四分位範囲→Q_3 - Q_1 , 四分位偏差→(Q_3 - Q_1)/2\n",
    "\n",
    "平均偏差  \n",
    "→平均からの偏差の絶対値の平均\n",
    "\n",
    "分散\n",
    "→平均からの偏差の2乗\n",
    "\n",
    "標準偏差\n",
    "→分散の平方根\n",
    "\n",
    "\n",
    "\n"
   ]
  },
  {
   "cell_type": "code",
   "execution_count": 43,
   "id": "d19034ed-3f4d-4582-a0bc-bd45b5d8b54a",
   "metadata": {},
   "outputs": [],
   "source": [
    "import seaborn as sns\n",
    "import numpy as np\n",
    "from scipy import stats"
   ]
  },
  {
   "cell_type": "code",
   "execution_count": 16,
   "id": "75696a61-2af8-42e9-9ce7-3542952bbb01",
   "metadata": {},
   "outputs": [],
   "source": [
    "df = sns.load_dataset(\"tips\")\n",
    "df[\"tip_ratio\"] = df[\"tip\"] / df[\"total_bill\"]"
   ]
  },
  {
   "cell_type": "code",
   "execution_count": 10,
   "id": "d0393f5f-edc7-403f-bd15-f173d3c74b79",
   "metadata": {},
   "outputs": [],
   "source": []
  },
  {
   "cell_type": "markdown",
   "id": "7d66188c-898d-4725-bdbd-50a8f6e24d36",
   "metadata": {},
   "source": [
    "## 分布に関して\n",
    "\n",
    "分布はどの値にどれくらいデータが存在するかを表したもの。  \n",
    "データの分布を図で表す事ができる。  \n",
    "\n",
    "連続値→ヒストグラムを使用する。  \n",
    "カテゴリ変数（離散値)→棒グラフを使用する。  \n",
    "\n",
    "ヒストグラム  \n",
    "→一つの連続変数の分布を表すのに使用する。  \n",
    "→各棒の区間に感覚がない  \n",
    "→横図はデータの区間で切られている。  \n",
    "\n",
    "棒グラフ  \n",
    "→一つのカテゴリ変数の分布を表すのに使用する事ができる  "
   ]
  },
  {
   "cell_type": "code",
   "execution_count": 23,
   "id": "be76f1a1-d3a2-49f3-9941-63a293ef15b2",
   "metadata": {},
   "outputs": [
    {
     "data": {
      "text/plain": [
       "<seaborn.axisgrid.FacetGrid at 0x7fc1b0a95a30>"
      ]
     },
     "execution_count": 23,
     "metadata": {},
     "output_type": "execute_result"
    },
    {
     "data": {
      "image/png": "[encoded data removed]",
      "text/plain": [
       "<Figure size 360x360 with 1 Axes>"
      ]
     },
     "metadata": {
      "needs_background": "light"
     },
     "output_type": "display_data"
    }
   ],
   "source": [
    "# 連続値のヒストグラムの作成\n",
    "sns.displot(df[\"tip\"],kde=False)"
   ]
  },
  {
   "cell_type": "code",
   "execution_count": 25,
   "id": "3a74d526-8061-45b3-8483-59959f5151c6",
   "metadata": {},
   "outputs": [
    {
     "data": {
      "text/plain": [
       "<seaborn.axisgrid.FacetGrid at 0x7fc1b0abd100>"
      ]
     },
     "execution_count": 25,
     "metadata": {},
     "output_type": "execute_result"
    },
    {
     "data": {
      "image/png": "[encoded data removed]",
      "text/plain": [
       "<Figure size 360x360 with 1 Axes>"
      ]
     },
     "metadata": {
      "needs_background": "light"
     },
     "output_type": "display_data"
    }
   ],
   "source": [
    "# カテゴリ変数の作成\n",
    "sns.catplot(x=\"time\", data=df , kind=\"count\")"
   ]
  },
  {
   "cell_type": "markdown",
   "id": "64cef607-7177-43c3-baa8-aefb4b934b12",
   "metadata": {},
   "source": [
    "## 代表値に関して\n",
    "平均値\n",
    "→標本平均$\\bar{x}$,母平均μで表される事が多い。  \n",
    "平均値からの平方和が最も小さい。  \n"
   ]
  },
  {
   "cell_type": "code",
   "execution_count": 32,
   "id": "b4551017-da8c-4520-875c-7458c53f6a5a",
   "metadata": {},
   "outputs": [
    {
     "data": {
      "text/plain": [
       "float"
      ]
     },
     "execution_count": 32,
     "metadata": {},
     "output_type": "execute_result"
    }
   ],
   "source": [
    "df[\"tip\"].mean()"
   ]
  },
  {
   "cell_type": "code",
   "execution_count": 33,
   "id": "001682d4-fa42-4727-ae6d-f37d82169640",
   "metadata": {},
   "outputs": [
    {
     "data": {
      "text/plain": [
       "float"
      ]
     },
     "execution_count": 33,
     "metadata": {},
     "output_type": "execute_result"
    }
   ],
   "source": [
    "np.mean(df[\"tip\"])"
   ]
  },
  {
   "cell_type": "code",
   "execution_count": 34,
   "id": "085e59a3-a004-4b32-b1bd-8756e0427c35",
   "metadata": {},
   "outputs": [
    {
     "data": {
      "text/html": [
       "<div>\n",
       "<style scoped>\n",
       "    .dataframe tbody tr th:only-of-type {\n",
       "        vertical-align: middle;\n",
       "    }\n",
       "\n",
       "    .dataframe tbody tr th {\n",
       "        vertical-align: top;\n",
       "    }\n",
       "\n",
       "    .dataframe thead th {\n",
       "        text-align: right;\n",
       "    }\n",
       "</style>\n",
       "<table border=\"1\" class=\"dataframe\">\n",
       "  <thead>\n",
       "    <tr style=\"text-align: right;\">\n",
       "      <th></th>\n",
       "      <th>total_bill</th>\n",
       "      <th>tip</th>\n",
       "      <th>size</th>\n",
       "      <th>tip_ratio</th>\n",
       "    </tr>\n",
       "    <tr>\n",
       "      <th>sex</th>\n",
       "      <th></th>\n",
       "      <th></th>\n",
       "      <th></th>\n",
       "      <th></th>\n",
       "    </tr>\n",
       "  </thead>\n",
       "  <tbody>\n",
       "    <tr>\n",
       "      <th>Male</th>\n",
       "      <td>20.744076</td>\n",
       "      <td>3.089618</td>\n",
       "      <td>2.630573</td>\n",
       "      <td>0.157651</td>\n",
       "    </tr>\n",
       "    <tr>\n",
       "      <th>Female</th>\n",
       "      <td>18.056897</td>\n",
       "      <td>2.833448</td>\n",
       "      <td>2.459770</td>\n",
       "      <td>0.166491</td>\n",
       "    </tr>\n",
       "  </tbody>\n",
       "</table>\n",
       "</div>"
      ],
      "text/plain": [
       "        total_bill       tip      size  tip_ratio\n",
       "sex                                              \n",
       "Male     20.744076  3.089618  2.630573   0.157651\n",
       "Female   18.056897  2.833448  2.459770   0.166491"
      ]
     },
     "execution_count": 34,
     "metadata": {},
     "output_type": "execute_result"
    }
   ],
   "source": [
    "# グループごとの平均値\n",
    "df.groupby(\"sex\").mean()"
   ]
  },
  {
   "cell_type": "code",
   "execution_count": 36,
   "id": "885b9167-4ae2-46ee-a4bc-d29c6eca164a",
   "metadata": {},
   "outputs": [
    {
     "data": {
      "text/plain": [
       "<AxesSubplot:xlabel='sex', ylabel='tip_ratio'>"
      ]
     },
     "execution_count": 36,
     "metadata": {},
     "output_type": "execute_result"
    },
    {
     "data": {
      "image/png": "[encoded data removed]",
      "text/plain": [
       "<Figure size 432x288 with 1 Axes>"
      ]
     },
     "metadata": {
      "needs_background": "light"
     },
     "output_type": "display_data"
    }
   ],
   "source": [
    "sns.barplot(x=\"sex\" , y=\"tip_ratio\" , data=df)"
   ]
  },
  {
   "cell_type": "code",
   "execution_count": null,
   "id": "e3ac555b-7d1c-4990-be99-c793eb101498",
   "metadata": {},
   "outputs": [],
   "source": []
  },
  {
   "cell_type": "markdown",
   "id": "86aeac2c-68c8-4ff1-9857-3eb1c127cfdf",
   "metadata": {},
   "source": [
    "## 中央値"
   ]
  },
  {
   "cell_type": "code",
   "execution_count": 42,
   "id": "d9bfc6da-f3a8-4cda-8669-0ba216e7e663",
   "metadata": {},
   "outputs": [
    {
     "name": "stdout",
     "output_type": "stream",
     "text": [
      "中央値\n",
      "0.15476977125802577\n",
      "平均値\n",
      "0.16080258172250478\n"
     ]
    }
   ],
   "source": [
    "print(\"中央値\")\n",
    "print(df[\"tip_ratio\"].median())\n",
    "\n",
    "print(\"平均値\")\n",
    "print(df[\"tip_ratio\"].mean())"
   ]
  },
  {
   "cell_type": "code",
   "execution_count": 41,
   "id": "c95aad7e-162f-4574-9b5e-d95963d9c9a5",
   "metadata": {},
   "outputs": [
    {
     "data": {
      "text/plain": [
       "<seaborn.axisgrid.FacetGrid at 0x7fc1aa6d6190>"
      ]
     },
     "execution_count": 41,
     "metadata": {},
     "output_type": "execute_result"
    },
    {
     "data": {
      "image/png": "[encoded data removed]",
      "text/plain": [
       "<Figure size 360x360 with 1 Axes>"
      ]
     },
     "metadata": {
      "needs_background": "light"
     },
     "output_type": "display_data"
    }
   ],
   "source": [
    "sns.displot(df[\"tip_ratio\"])"
   ]
  },
  {
   "cell_type": "code",
   "execution_count": 45,
   "id": "e2a7b5de-3548-4f77-bb09-25fd53a80dce",
   "metadata": {},
   "outputs": [
    {
     "name": "stdout",
     "output_type": "stream",
     "text": [
      "[2.]\n",
      "[33]\n"
     ]
    }
   ],
   "source": [
    "mode , count = stats.mode(df[\"tip\"])\n",
    "print(mode)\n",
    "print(count)"
   ]
  },
  {
   "cell_type": "code",
   "execution_count": null,
   "id": "7d4bd968-4643-4d7d-b8b3-96adb2f35afc",
   "metadata": {},
   "outputs": [],
   "source": []
  },
  {
   "cell_type": "markdown",
   "id": "d7d6fbfa-4c80-4457-a767-765e790ddda2",
   "metadata": {},
   "source": [
    "## 四分位数"
   ]
  },
  {
   "cell_type": "code",
   "execution_count": 47,
   "id": "5d6c17c4-7da6-46b7-89d6-73f99dd62ee6",
   "metadata": {},
   "outputs": [
    {
     "data": {
      "text/plain": [
       "0.25    0.129127\n",
       "0.50    0.154770\n",
       "0.75    0.191475\n",
       "Name: tip_ratio, dtype: float64"
      ]
     },
     "execution_count": 47,
     "metadata": {},
     "output_type": "execute_result"
    }
   ],
   "source": [
    "df['tip_ratio'].quantile([.25 , .5 , .75])"
   ]
  },
  {
   "cell_type": "code",
   "execution_count": 53,
   "id": "8d28578e-e28e-4477-a722-eed5052192fd",
   "metadata": {},
   "outputs": [
    {
     "data": {
      "text/plain": [
       "<AxesSubplot:xlabel='size', ylabel='tip_ratio'>"
      ]
     },
     "execution_count": 53,
     "metadata": {},
     "output_type": "execute_result"
    },
    {
     "data": {
      "image/png": "[encoded data removed]",
      "text/plain": [
       "<Figure size 432x288 with 1 Axes>"
      ]
     },
     "metadata": {
      "needs_background": "light"
     },
     "output_type": "display_data"
    }
   ],
   "source": [
    "## 箱ひげ図\n",
    "sns.boxplot(x=\"size\" , y='tip_ratio',data = df)"
   ]
  },
  {
   "cell_type": "code",
   "execution_count": null,
   "id": "a11ddc32-2ab6-4d09-b94d-4d480e8242fb",
   "metadata": {},
   "outputs": [],
   "source": []
  },
  {
   "cell_type": "markdown",
   "id": "0f1886ad-199c-48d7-9949-3ab85f247c3b",
   "metadata": {},
   "source": [
    "## 分散・標準偏差\n"
   ]
  },
  {
   "cell_type": "code",
   "execution_count": 54,
   "id": "327e6b5a-cf9b-4c9a-bdca-d66764c4bc53",
   "metadata": {},
   "outputs": [
    {
     "data": {
      "text/plain": [
       "0.0037145280013546928"
      ]
     },
     "execution_count": 54,
     "metadata": {},
     "output_type": "execute_result"
    }
   ],
   "source": [
    "np.var(df[\"tip_ratio\"])"
   ]
  },
  {
   "cell_type": "code",
   "execution_count": 55,
   "id": "f098f197-8bd3-4e64-94e2-23bdcc270a24",
   "metadata": {},
   "outputs": [
    {
     "data": {
      "text/plain": [
       "0.060946927743362855"
      ]
     },
     "execution_count": 55,
     "metadata": {},
     "output_type": "execute_result"
    }
   ],
   "source": [
    "np.std(df[\"tip_ratio\"])"
   ]
  },
  {
   "cell_type": "code",
   "execution_count": null,
   "id": "bdd4fa00-452a-4ddf-a24a-f87202023690",
   "metadata": {},
   "outputs": [],
   "source": []
  },
  {
   "cell_type": "code",
   "execution_count": null,
   "id": "7144c174-8aa0-484b-90bd-fe7b3712b202",
   "metadata": {},
   "outputs": [],
   "source": []
  },
  {
   "cell_type": "code",
   "execution_count": null,
   "id": "cc37f7d1-6ac2-4ddd-91c2-cdba01927c54",
   "metadata": {},
   "outputs": [],
   "source": []
  },
  {
   "cell_type": "code",
   "execution_count": null,
   "id": "b48bf306-34b0-4a07-ac29-76f0eab2944f",
   "metadata": {},
   "outputs": [],
   "source": []
  },
  {
   "cell_type": "code",
   "execution_count": null,
   "id": "dc18b704-812a-4e6e-abd8-1388f3d131b5",
   "metadata": {},
   "outputs": [],
   "source": []
  },
  {
   "cell_type": "code",
   "execution_count": null,
   "id": "4d549f15-b0c9-4b8a-a3da-a6fff8237911",
   "metadata": {},
   "outputs": [],
   "source": []
  },
  {
   "cell_type": "code",
   "execution_count": null,
   "id": "c3b86765-c5de-4928-bbda-5220374c88fc",
   "metadata": {},
   "outputs": [],
   "source": []
  },
  {
   "cell_type": "code",
   "execution_count": null,
   "id": "86c122aa-4cbb-4d26-ad65-bb74a84a4cae",
   "metadata": {},
   "outputs": [],
   "source": []
  }
 ],
 "metadata": {
  "kernelspec": {
   "display_name": "Python 3 (ipykernel)",
   "language": "python",
   "name": "python3"
  },
  "language_info": {
   "codemirror_mode": {
    "name": "ipython",
    "version": 3
   },
   "file_extension": ".py",
   "mimetype": "text/x-python",
   "name": "python",
   "nbconvert_exporter": "python",
   "pygments_lexer": "ipython3",
   "version": "3.9.7"
  }
 },
 "nbformat": 4,
 "nbformat_minor": 5
}
