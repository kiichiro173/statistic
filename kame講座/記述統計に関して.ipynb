{
 "cells": [
  {
   "cell_type": "markdown",
   "id": "600d6361-7296-4a50-a4cb-6a3eff22745a",
   "metadata": {},
   "source": [
    "## 分布に関して\n",
    "\n",
    "分布はどの値にどれくらいデータが存在するかを表したもの。  \n",
    "データの分布を図で表す事ができる。  \n",
    "\n",
    "連続値→ヒストグラムを使用する。  \n",
    "カテゴリ変数（離散値)→棒グラフを使用する。  \n",
    "\n",
    "ヒストグラム  \n",
    "→一つの連続変数の分布を表すのに使用する。  \n",
    "→各棒の区間に感覚がない  \n",
    "→横図はデータの区間で切られている。  \n",
    "\n",
    "棒グラフ  \n",
    "→一つのカテゴリ変数の分布を表すのに使用する事ができる  \n",
    "\n",
    "## 記述統計と推測統計\n",
    "記述統計→データの特徴を記述する。  \n",
    "推測統計→標本から母集団の特徴を推測する。  \n",
    "\n",
    "推測統計を行うには記述統計をもとに行なっている。\n",
    "\n",
    "\n",
    "## 代表値に関して\n",
    "平均値\n",
    "→標本平均$\\bar{x}$,母平均μで表される事が多い。  \n",
    "平均値からの平方和が最も小さい。  \n",
    "\n",
    "中央値  \n",
    "→外れ値の影響を受けにくい。\n",
    "\n",
    "\n",
    "## 散布度\n",
    "→データがどれだけばらついているのかを表している。  \n",
    "範囲  \n",
    "→範囲の値は最大値~最小値で求めることができる。  \n",
    "→外れ値に弱い。  \n",
    "\n",
    "四分位数  \n",
    "→データを並べて４分割した際の25%,50%75%のあたい  \n",
    "→範囲よりは外れ値に強い。  \n",
    "→四分位範囲→Q_3 - Q_1 , 四分位偏差→(Q_3 - Q_1)/2\n",
    "\n",
    "平均偏差  \n",
    "→平均からの偏差の絶対値の平均\n",
    "\n",
    "分散\n",
    "→平均からの偏差の2乗\n",
    "\n",
    "標準偏差\n",
    "→分散の平方根\n",
    "\n",
    "## ２変数間の記述統計\n",
    "\n",
    "共分散→連続変数間の相関関係を表す指標  \n",
    "分散・共分散行列  \n",
    "正の相関：両方ともの値が正もしくは負  \n",
    "負の相関：片方が高ければ片方が低い\n",
    "相関係数→共分散を標準化したもの。共分散の取りうる値を-1~1の範囲にすることをいう。  \n",
    "\n",
    "カテゴリ変数間の相関関係をみてみる。\n",
    "→分割表を用いて計算を行う。\n",
    "→分割表内の数字を観測度数という。\n",
    "→期待度数→カテゴリ同士に関連性がないとに観測されるであろう度数のこと。\n",
    "\n",
    "連関はどうやってみるのか？？\n",
    "→観測度数と期待度数がどれだけ離れているのかを確認する。（カイ二乗）\n",
    "→カイ二乗値：（観測度数ー期待度数）^2/期待度数の総和\n",
    "→ただここにには一点問題がある、それはこの値がどれだけ連関が強いのかがわからないということ。つまり、連続変数同士で確認した共分散みたいな値になってしまっている。\n",
    "→よって、カイ二乗の値を標準化して強さを確認しなければならない。\n",
    "\n",
    "クラメールの連関係数\n",
    "→カイ二乗値を0~1に標準化したもの\n",
    "→ライブラリにはこれに値するものがないため自分で作成する必要がある、\n",
    "→\n"
   ]
  },
  {
   "cell_type": "code",
   "execution_count": 20,
   "id": "d19034ed-3f4d-4582-a0bc-bd45b5d8b54a",
   "metadata": {},
   "outputs": [],
   "source": [
    "import seaborn as sns\n",
    "import numpy as np\n",
    "from scipy import stats\n",
    "import pandas as pd"
   ]
  },
  {
   "cell_type": "code",
   "execution_count": 2,
   "id": "75696a61-2af8-42e9-9ce7-3542952bbb01",
   "metadata": {},
   "outputs": [],
   "source": [
    "df = sns.load_dataset(\"tips\")\n",
    "df[\"tip_ratio\"] = df[\"tip\"] / df[\"total_bill\"]"
   ]
  },
  {
   "cell_type": "code",
   "execution_count": 10,
   "id": "d0393f5f-edc7-403f-bd15-f173d3c74b79",
   "metadata": {},
   "outputs": [],
   "source": []
  },
  {
   "cell_type": "markdown",
   "id": "7d66188c-898d-4725-bdbd-50a8f6e24d36",
   "metadata": {},
   "source": [
    "## 分布に関して\n",
    "\n",
    "分布はどの値にどれくらいデータが存在するかを表したもの。  \n",
    "データの分布を図で表す事ができる。  \n",
    "\n",
    "連続値→ヒストグラムを使用する。  \n",
    "カテゴリ変数（離散値)→棒グラフを使用する。  \n",
    "\n",
    "ヒストグラム  \n",
    "→一つの連続変数の分布を表すのに使用する。  \n",
    "→各棒の区間に感覚がない  \n",
    "→横図はデータの区間で切られている。  \n",
    "\n",
    "棒グラフ  \n",
    "→一つのカテゴリ変数の分布を表すのに使用する事ができる  "
   ]
  },
  {
   "cell_type": "code",
   "execution_count": 23,
   "id": "be76f1a1-d3a2-49f3-9941-63a293ef15b2",
   "metadata": {},
   "outputs": [
    {
     "data": {
      "text/plain": [
       "<seaborn.axisgrid.FacetGrid at 0x7fc1b0a95a30>"
      ]
     },
     "execution_count": 23,
     "metadata": {},
     "output_type": "execute_result"
    },
    {
     "data": {
      "image/png": "[encoded data removed]",
      "text/plain": [
       "<Figure size 360x360 with 1 Axes>"
      ]
     },
     "metadata": {
      "needs_background": "light"
     },
     "output_type": "display_data"
    }
   ],
   "source": [
    "# 連続値のヒストグラムの作成\n",
    "sns.displot(df[\"tip\"],kde=False)"
   ]
  },
  {
   "cell_type": "code",
   "execution_count": 25,
   "id": "3a74d526-8061-45b3-8483-59959f5151c6",
   "metadata": {},
   "outputs": [
    {
     "data": {
      "text/plain": [
       "<seaborn.axisgrid.FacetGrid at 0x7fc1b0abd100>"
      ]
     },
     "execution_count": 25,
     "metadata": {},
     "output_type": "execute_result"
    },
    {
     "data": {
      "image/png": "[encoded data removed]",
      "text/plain": [
       "<Figure size 360x360 with 1 Axes>"
      ]
     },
     "metadata": {
      "needs_background": "light"
     },
     "output_type": "display_data"
    }
   ],
   "source": [
    "# カテゴリ変数の作成\n",
    "sns.catplot(x=\"time\", data=df , kind=\"count\")"
   ]
  },
  {
   "cell_type": "markdown",
   "id": "64cef607-7177-43c3-baa8-aefb4b934b12",
   "metadata": {},
   "source": [
    "## 代表値に関して\n",
    "平均値\n",
    "→標本平均$\\bar{x}$,母平均μで表される事が多い。  \n",
    "平均値からの平方和が最も小さい。  \n"
   ]
  },
  {
   "cell_type": "code",
   "execution_count": 32,
   "id": "b4551017-da8c-4520-875c-7458c53f6a5a",
   "metadata": {},
   "outputs": [
    {
     "data": {
      "text/plain": [
       "float"
      ]
     },
     "execution_count": 32,
     "metadata": {},
     "output_type": "execute_result"
    }
   ],
   "source": [
    "df[\"tip\"].mean()"
   ]
  },
  {
   "cell_type": "code",
   "execution_count": 33,
   "id": "001682d4-fa42-4727-ae6d-f37d82169640",
   "metadata": {},
   "outputs": [
    {
     "data": {
      "text/plain": [
       "float"
      ]
     },
     "execution_count": 33,
     "metadata": {},
     "output_type": "execute_result"
    }
   ],
   "source": [
    "np.mean(df[\"tip\"])"
   ]
  },
  {
   "cell_type": "code",
   "execution_count": 34,
   "id": "085e59a3-a004-4b32-b1bd-8756e0427c35",
   "metadata": {},
   "outputs": [
    {
     "data": {
      "text/html": [
       "<div>\n",
       "<style scoped>\n",
       "    .dataframe tbody tr th:only-of-type {\n",
       "        vertical-align: middle;\n",
       "    }\n",
       "\n",
       "    .dataframe tbody tr th {\n",
       "        vertical-align: top;\n",
       "    }\n",
       "\n",
       "    .dataframe thead th {\n",
       "        text-align: right;\n",
       "    }\n",
       "</style>\n",
       "<table border=\"1\" class=\"dataframe\">\n",
       "  <thead>\n",
       "    <tr style=\"text-align: right;\">\n",
       "      <th></th>\n",
       "      <th>total_bill</th>\n",
       "      <th>tip</th>\n",
       "      <th>size</th>\n",
       "      <th>tip_ratio</th>\n",
       "    </tr>\n",
       "    <tr>\n",
       "      <th>sex</th>\n",
       "      <th></th>\n",
       "      <th></th>\n",
       "      <th></th>\n",
       "      <th></th>\n",
       "    </tr>\n",
       "  </thead>\n",
       "  <tbody>\n",
       "    <tr>\n",
       "      <th>Male</th>\n",
       "      <td>20.744076</td>\n",
       "      <td>3.089618</td>\n",
       "      <td>2.630573</td>\n",
       "      <td>0.157651</td>\n",
       "    </tr>\n",
       "    <tr>\n",
       "      <th>Female</th>\n",
       "      <td>18.056897</td>\n",
       "      <td>2.833448</td>\n",
       "      <td>2.459770</td>\n",
       "      <td>0.166491</td>\n",
       "    </tr>\n",
       "  </tbody>\n",
       "</table>\n",
       "</div>"
      ],
      "text/plain": [
       "        total_bill       tip      size  tip_ratio\n",
       "sex                                              \n",
       "Male     20.744076  3.089618  2.630573   0.157651\n",
       "Female   18.056897  2.833448  2.459770   0.166491"
      ]
     },
     "execution_count": 34,
     "metadata": {},
     "output_type": "execute_result"
    }
   ],
   "source": [
    "# グループごとの平均値\n",
    "df.groupby(\"sex\").mean()"
   ]
  },
  {
   "cell_type": "code",
   "execution_count": 36,
   "id": "885b9167-4ae2-46ee-a4bc-d29c6eca164a",
   "metadata": {},
   "outputs": [
    {
     "data": {
      "text/plain": [
       "<AxesSubplot:xlabel='sex', ylabel='tip_ratio'>"
      ]
     },
     "execution_count": 36,
     "metadata": {},
     "output_type": "execute_result"
    },
    {
     "data": {
      "image/png": "[encoded data removed]",
      "text/plain": [
       "<Figure size 432x288 with 1 Axes>"
      ]
     },
     "metadata": {
      "needs_background": "light"
     },
     "output_type": "display_data"
    }
   ],
   "source": [
    "sns.barplot(x=\"sex\" , y=\"tip_ratio\" , data=df)"
   ]
  },
  {
   "cell_type": "code",
   "execution_count": null,
   "id": "e3ac555b-7d1c-4990-be99-c793eb101498",
   "metadata": {},
   "outputs": [],
   "source": []
  },
  {
   "cell_type": "markdown",
   "id": "86aeac2c-68c8-4ff1-9857-3eb1c127cfdf",
   "metadata": {},
   "source": [
    "## 中央値"
   ]
  },
  {
   "cell_type": "code",
   "execution_count": 42,
   "id": "d9bfc6da-f3a8-4cda-8669-0ba216e7e663",
   "metadata": {},
   "outputs": [
    {
     "name": "stdout",
     "output_type": "stream",
     "text": [
      "中央値\n",
      "0.15476977125802577\n",
      "平均値\n",
      "0.16080258172250478\n"
     ]
    }
   ],
   "source": [
    "print(\"中央値\")\n",
    "print(df[\"tip_ratio\"].median())\n",
    "\n",
    "print(\"平均値\")\n",
    "print(df[\"tip_ratio\"].mean())"
   ]
  },
  {
   "cell_type": "code",
   "execution_count": 41,
   "id": "c95aad7e-162f-4574-9b5e-d95963d9c9a5",
   "metadata": {},
   "outputs": [
    {
     "data": {
      "text/plain": [
       "<seaborn.axisgrid.FacetGrid at 0x7fc1aa6d6190>"
      ]
     },
     "execution_count": 41,
     "metadata": {},
     "output_type": "execute_result"
    },
    {
     "data": {
      "image/png": "[encoded data removed]",
      "text/plain": [
       "<Figure size 360x360 with 1 Axes>"
      ]
     },
     "metadata": {
      "needs_background": "light"
     },
     "output_type": "display_data"
    }
   ],
   "source": [
    "sns.displot(df[\"tip_ratio\"])"
   ]
  },
  {
   "cell_type": "code",
   "execution_count": 45,
   "id": "e2a7b5de-3548-4f77-bb09-25fd53a80dce",
   "metadata": {},
   "outputs": [
    {
     "name": "stdout",
     "output_type": "stream",
     "text": [
      "[2.]\n",
      "[33]\n"
     ]
    }
   ],
   "source": [
    "mode , count = stats.mode(df[\"tip\"])\n",
    "print(mode)\n",
    "print(count)"
   ]
  },
  {
   "cell_type": "code",
   "execution_count": null,
   "id": "7d4bd968-4643-4d7d-b8b3-96adb2f35afc",
   "metadata": {},
   "outputs": [],
   "source": []
  },
  {
   "cell_type": "markdown",
   "id": "d7d6fbfa-4c80-4457-a767-765e790ddda2",
   "metadata": {},
   "source": [
    "## 四分位数"
   ]
  },
  {
   "cell_type": "code",
   "execution_count": 47,
   "id": "5d6c17c4-7da6-46b7-89d6-73f99dd62ee6",
   "metadata": {},
   "outputs": [
    {
     "data": {
      "text/plain": [
       "0.25    0.129127\n",
       "0.50    0.154770\n",
       "0.75    0.191475\n",
       "Name: tip_ratio, dtype: float64"
      ]
     },
     "execution_count": 47,
     "metadata": {},
     "output_type": "execute_result"
    }
   ],
   "source": [
    "df['tip_ratio'].quantile([.25 , .5 , .75])"
   ]
  },
  {
   "cell_type": "code",
   "execution_count": 53,
   "id": "8d28578e-e28e-4477-a722-eed5052192fd",
   "metadata": {},
   "outputs": [
    {
     "data": {
      "text/plain": [
       "<AxesSubplot:xlabel='size', ylabel='tip_ratio'>"
      ]
     },
     "execution_count": 53,
     "metadata": {},
     "output_type": "execute_result"
    },
    {
     "data": {
      "image/png": "[encoded data removed]",
      "text/plain": [
       "<Figure size 432x288 with 1 Axes>"
      ]
     },
     "metadata": {
      "needs_background": "light"
     },
     "output_type": "display_data"
    }
   ],
   "source": [
    "## 箱ひげ図\n",
    "sns.boxplot(x=\"size\" , y='tip_ratio',data = df)"
   ]
  },
  {
   "cell_type": "code",
   "execution_count": null,
   "id": "a11ddc32-2ab6-4d09-b94d-4d480e8242fb",
   "metadata": {},
   "outputs": [],
   "source": []
  },
  {
   "cell_type": "markdown",
   "id": "0f1886ad-199c-48d7-9949-3ab85f247c3b",
   "metadata": {},
   "source": [
    "## 分散・標準偏差\n"
   ]
  },
  {
   "cell_type": "code",
   "execution_count": 54,
   "id": "327e6b5a-cf9b-4c9a-bdca-d66764c4bc53",
   "metadata": {},
   "outputs": [
    {
     "data": {
      "text/plain": [
       "0.0037145280013546928"
      ]
     },
     "execution_count": 54,
     "metadata": {},
     "output_type": "execute_result"
    }
   ],
   "source": [
    "np.var(df[\"tip_ratio\"])"
   ]
  },
  {
   "cell_type": "code",
   "execution_count": 55,
   "id": "f098f197-8bd3-4e64-94e2-23bdcc270a24",
   "metadata": {},
   "outputs": [
    {
     "data": {
      "text/plain": [
       "0.060946927743362855"
      ]
     },
     "execution_count": 55,
     "metadata": {},
     "output_type": "execute_result"
    }
   ],
   "source": [
    "np.std(df[\"tip_ratio\"])"
   ]
  },
  {
   "cell_type": "code",
   "execution_count": null,
   "id": "bdd4fa00-452a-4ddf-a24a-f87202023690",
   "metadata": {},
   "outputs": [],
   "source": []
  },
  {
   "cell_type": "markdown",
   "id": "6b554495-b999-450d-81ef-3700efec5f1c",
   "metadata": {},
   "source": [
    "## 共分散"
   ]
  },
  {
   "cell_type": "code",
   "execution_count": 3,
   "id": "cc37f7d1-6ac2-4ddd-91c2-cdba01927c54",
   "metadata": {},
   "outputs": [
    {
     "data": {
      "text/html": [
       "<div>\n",
       "<style scoped>\n",
       "    .dataframe tbody tr th:only-of-type {\n",
       "        vertical-align: middle;\n",
       "    }\n",
       "\n",
       "    .dataframe tbody tr th {\n",
       "        vertical-align: top;\n",
       "    }\n",
       "\n",
       "    .dataframe thead th {\n",
       "        text-align: right;\n",
       "    }\n",
       "</style>\n",
       "<table border=\"1\" class=\"dataframe\">\n",
       "  <thead>\n",
       "    <tr style=\"text-align: right;\">\n",
       "      <th></th>\n",
       "      <th>total_bill</th>\n",
       "      <th>tip</th>\n",
       "      <th>sex</th>\n",
       "      <th>smoker</th>\n",
       "      <th>day</th>\n",
       "      <th>time</th>\n",
       "      <th>size</th>\n",
       "      <th>tip_ratio</th>\n",
       "    </tr>\n",
       "  </thead>\n",
       "  <tbody>\n",
       "    <tr>\n",
       "      <th>0</th>\n",
       "      <td>16.99</td>\n",
       "      <td>1.01</td>\n",
       "      <td>Female</td>\n",
       "      <td>No</td>\n",
       "      <td>Sun</td>\n",
       "      <td>Dinner</td>\n",
       "      <td>2</td>\n",
       "      <td>0.059447</td>\n",
       "    </tr>\n",
       "    <tr>\n",
       "      <th>1</th>\n",
       "      <td>10.34</td>\n",
       "      <td>1.66</td>\n",
       "      <td>Male</td>\n",
       "      <td>No</td>\n",
       "      <td>Sun</td>\n",
       "      <td>Dinner</td>\n",
       "      <td>3</td>\n",
       "      <td>0.160542</td>\n",
       "    </tr>\n",
       "    <tr>\n",
       "      <th>2</th>\n",
       "      <td>21.01</td>\n",
       "      <td>3.50</td>\n",
       "      <td>Male</td>\n",
       "      <td>No</td>\n",
       "      <td>Sun</td>\n",
       "      <td>Dinner</td>\n",
       "      <td>3</td>\n",
       "      <td>0.166587</td>\n",
       "    </tr>\n",
       "    <tr>\n",
       "      <th>3</th>\n",
       "      <td>23.68</td>\n",
       "      <td>3.31</td>\n",
       "      <td>Male</td>\n",
       "      <td>No</td>\n",
       "      <td>Sun</td>\n",
       "      <td>Dinner</td>\n",
       "      <td>2</td>\n",
       "      <td>0.139780</td>\n",
       "    </tr>\n",
       "    <tr>\n",
       "      <th>4</th>\n",
       "      <td>24.59</td>\n",
       "      <td>3.61</td>\n",
       "      <td>Female</td>\n",
       "      <td>No</td>\n",
       "      <td>Sun</td>\n",
       "      <td>Dinner</td>\n",
       "      <td>4</td>\n",
       "      <td>0.146808</td>\n",
       "    </tr>\n",
       "  </tbody>\n",
       "</table>\n",
       "</div>"
      ],
      "text/plain": [
       "   total_bill   tip     sex smoker  day    time  size  tip_ratio\n",
       "0       16.99  1.01  Female     No  Sun  Dinner     2   0.059447\n",
       "1       10.34  1.66    Male     No  Sun  Dinner     3   0.160542\n",
       "2       21.01  3.50    Male     No  Sun  Dinner     3   0.166587\n",
       "3       23.68  3.31    Male     No  Sun  Dinner     2   0.139780\n",
       "4       24.59  3.61  Female     No  Sun  Dinner     4   0.146808"
      ]
     },
     "execution_count": 3,
     "metadata": {},
     "output_type": "execute_result"
    }
   ],
   "source": [
    "df.head()"
   ]
  },
  {
   "cell_type": "code",
   "execution_count": 4,
   "id": "b48bf306-34b0-4a07-ac29-76f0eab2944f",
   "metadata": {},
   "outputs": [
    {
     "data": {
      "text/plain": [
       "array([[ 7.92529386e+01, -1.84106502e-01],\n",
       "       [-1.84106502e-01,  3.72981412e-03]])"
      ]
     },
     "execution_count": 4,
     "metadata": {},
     "output_type": "execute_result"
    }
   ],
   "source": [
    "# 何も設定しない場合はn-1の不偏分散が返ってくる。\n",
    "np.cov(df[\"total_bill\"] , df[\"tip_ratio\"])"
   ]
  },
  {
   "cell_type": "code",
   "execution_count": 9,
   "id": "175a0ed0-ecc2-4567-8359-1cdfe1406074",
   "metadata": {},
   "outputs": [
    {
     "data": {
      "text/plain": [
       "array([[ 7.89281315e+01, -1.83351967e-01],\n",
       "       [-1.83351967e-01,  3.71452800e-03]])"
      ]
     },
     "execution_count": 9,
     "metadata": {},
     "output_type": "execute_result"
    }
   ],
   "source": [
    "## 単なる分散を求めたい場合はbias=Trueとする必要がある。\n",
    "np.cov(df[\"total_bill\"] , df[\"tip_ratio\"] ,bias=True)"
   ]
  },
  {
   "cell_type": "code",
   "execution_count": 8,
   "id": "dc18b704-812a-4e6e-abd8-1388f3d131b5",
   "metadata": {},
   "outputs": [
    {
     "data": {
      "text/plain": [
       "0.0037145280013546928"
      ]
     },
     "execution_count": 8,
     "metadata": {},
     "output_type": "execute_result"
    }
   ],
   "source": [
    "# 分散の場合は何も設定しないと普通の分散が求められる。\n",
    "np.var(df[\"tip_ratio\"])"
   ]
  },
  {
   "cell_type": "code",
   "execution_count": 11,
   "id": "4d549f15-b0c9-4b8a-a3da-a6fff8237911",
   "metadata": {},
   "outputs": [
    {
     "data": {
      "text/plain": [
       "0.003729814124817058"
      ]
     },
     "execution_count": 11,
     "metadata": {},
     "output_type": "execute_result"
    }
   ],
   "source": [
    "# 不偏分散を求める。\n",
    "np.var(df[\"tip_ratio\"], ddof=1)"
   ]
  },
  {
   "cell_type": "code",
   "execution_count": 12,
   "id": "c3b86765-c5de-4928-bbda-5220374c88fc",
   "metadata": {},
   "outputs": [
    {
     "data": {
      "text/html": [
       "<div>\n",
       "<style scoped>\n",
       "    .dataframe tbody tr th:only-of-type {\n",
       "        vertical-align: middle;\n",
       "    }\n",
       "\n",
       "    .dataframe tbody tr th {\n",
       "        vertical-align: top;\n",
       "    }\n",
       "\n",
       "    .dataframe thead th {\n",
       "        text-align: right;\n",
       "    }\n",
       "</style>\n",
       "<table border=\"1\" class=\"dataframe\">\n",
       "  <thead>\n",
       "    <tr style=\"text-align: right;\">\n",
       "      <th></th>\n",
       "      <th>total_bill</th>\n",
       "      <th>tip</th>\n",
       "      <th>size</th>\n",
       "      <th>tip_ratio</th>\n",
       "    </tr>\n",
       "  </thead>\n",
       "  <tbody>\n",
       "    <tr>\n",
       "      <th>total_bill</th>\n",
       "      <td>79.252939</td>\n",
       "      <td>8.323502</td>\n",
       "      <td>5.065983</td>\n",
       "      <td>-0.184107</td>\n",
       "    </tr>\n",
       "    <tr>\n",
       "      <th>tip</th>\n",
       "      <td>8.323502</td>\n",
       "      <td>1.914455</td>\n",
       "      <td>0.643906</td>\n",
       "      <td>0.028931</td>\n",
       "    </tr>\n",
       "    <tr>\n",
       "      <th>size</th>\n",
       "      <td>5.065983</td>\n",
       "      <td>0.643906</td>\n",
       "      <td>0.904591</td>\n",
       "      <td>-0.008298</td>\n",
       "    </tr>\n",
       "    <tr>\n",
       "      <th>tip_ratio</th>\n",
       "      <td>-0.184107</td>\n",
       "      <td>0.028931</td>\n",
       "      <td>-0.008298</td>\n",
       "      <td>0.003730</td>\n",
       "    </tr>\n",
       "  </tbody>\n",
       "</table>\n",
       "</div>"
      ],
      "text/plain": [
       "            total_bill       tip      size  tip_ratio\n",
       "total_bill   79.252939  8.323502  5.065983  -0.184107\n",
       "tip           8.323502  1.914455  0.643906   0.028931\n",
       "size          5.065983  0.643906  0.904591  -0.008298\n",
       "tip_ratio    -0.184107  0.028931 -0.008298   0.003730"
      ]
     },
     "execution_count": 12,
     "metadata": {},
     "output_type": "execute_result"
    }
   ],
   "source": [
    "# 不偏分散と不偏共分散を表している。\n",
    "df.cov()"
   ]
  },
  {
   "cell_type": "code",
   "execution_count": null,
   "id": "86c122aa-4cbb-4d26-ad65-bb74a84a4cae",
   "metadata": {},
   "outputs": [],
   "source": []
  },
  {
   "cell_type": "markdown",
   "id": "98950dfd-8ab8-4758-84df-0db027b5cee0",
   "metadata": {},
   "source": [
    "## 相関を求める。"
   ]
  },
  {
   "cell_type": "code",
   "execution_count": 13,
   "id": "8449b48c-2ef3-4774-bd1a-ad1a5351615c",
   "metadata": {},
   "outputs": [
    {
     "data": {
      "text/html": [
       "<div>\n",
       "<style scoped>\n",
       "    .dataframe tbody tr th:only-of-type {\n",
       "        vertical-align: middle;\n",
       "    }\n",
       "\n",
       "    .dataframe tbody tr th {\n",
       "        vertical-align: top;\n",
       "    }\n",
       "\n",
       "    .dataframe thead th {\n",
       "        text-align: right;\n",
       "    }\n",
       "</style>\n",
       "<table border=\"1\" class=\"dataframe\">\n",
       "  <thead>\n",
       "    <tr style=\"text-align: right;\">\n",
       "      <th></th>\n",
       "      <th>total_bill</th>\n",
       "      <th>tip</th>\n",
       "      <th>size</th>\n",
       "      <th>tip_ratio</th>\n",
       "    </tr>\n",
       "  </thead>\n",
       "  <tbody>\n",
       "    <tr>\n",
       "      <th>total_bill</th>\n",
       "      <td>1.000000</td>\n",
       "      <td>0.675734</td>\n",
       "      <td>0.598315</td>\n",
       "      <td>-0.338624</td>\n",
       "    </tr>\n",
       "    <tr>\n",
       "      <th>tip</th>\n",
       "      <td>0.675734</td>\n",
       "      <td>1.000000</td>\n",
       "      <td>0.489299</td>\n",
       "      <td>0.342370</td>\n",
       "    </tr>\n",
       "    <tr>\n",
       "      <th>size</th>\n",
       "      <td>0.598315</td>\n",
       "      <td>0.489299</td>\n",
       "      <td>1.000000</td>\n",
       "      <td>-0.142860</td>\n",
       "    </tr>\n",
       "    <tr>\n",
       "      <th>tip_ratio</th>\n",
       "      <td>-0.338624</td>\n",
       "      <td>0.342370</td>\n",
       "      <td>-0.142860</td>\n",
       "      <td>1.000000</td>\n",
       "    </tr>\n",
       "  </tbody>\n",
       "</table>\n",
       "</div>"
      ],
      "text/plain": [
       "            total_bill       tip      size  tip_ratio\n",
       "total_bill    1.000000  0.675734  0.598315  -0.338624\n",
       "tip           0.675734  1.000000  0.489299   0.342370\n",
       "size          0.598315  0.489299  1.000000  -0.142860\n",
       "tip_ratio    -0.338624  0.342370 -0.142860   1.000000"
      ]
     },
     "execution_count": 13,
     "metadata": {},
     "output_type": "execute_result"
    }
   ],
   "source": [
    "df.corr()"
   ]
  },
  {
   "cell_type": "code",
   "execution_count": 14,
   "id": "79907fc3-2f87-460a-9ecb-f9f08d40ddaf",
   "metadata": {},
   "outputs": [
    {
     "data": {
      "text/plain": [
       "array([[1.        , 0.67573411],\n",
       "       [0.67573411, 1.        ]])"
      ]
     },
     "execution_count": 14,
     "metadata": {},
     "output_type": "execute_result"
    }
   ],
   "source": [
    "np.corrcoef(df[\"tip\"] , df[\"total_bill\"])"
   ]
  },
  {
   "cell_type": "code",
   "execution_count": 17,
   "id": "3e48f9b4-dabf-4509-bda6-8799aebd3179",
   "metadata": {},
   "outputs": [
    {
     "data": {
      "text/plain": [
       "<AxesSubplot:>"
      ]
     },
     "execution_count": 17,
     "metadata": {},
     "output_type": "execute_result"
    },
    {
     "data": {
      "image/png": "[encoded data removed]",
      "text/plain": [
       "<Figure size 432x288 with 2 Axes>"
      ]
     },
     "metadata": {
      "needs_background": "light"
     },
     "output_type": "display_data"
    }
   ],
   "source": [
    "## ヒートマップで見る\n",
    "sns.heatmap(df.corr() , cmap=\"coolwarm\" , annot=True)"
   ]
  },
  {
   "cell_type": "code",
   "execution_count": null,
   "id": "b8e68edb-45a7-421d-93b5-3139a2b06d03",
   "metadata": {},
   "outputs": [],
   "source": []
  },
  {
   "cell_type": "markdown",
   "id": "b2478f0e-7276-44c1-9cb0-676e19475322",
   "metadata": {},
   "source": [
    "## 連関・分割表の作成"
   ]
  },
  {
   "cell_type": "code",
   "execution_count": 22,
   "id": "d54d6736-30d6-4f04-8f87-0750377dbddc",
   "metadata": {},
   "outputs": [
    {
     "data": {
      "text/html": [
       "<div>\n",
       "<style scoped>\n",
       "    .dataframe tbody tr th:only-of-type {\n",
       "        vertical-align: middle;\n",
       "    }\n",
       "\n",
       "    .dataframe tbody tr th {\n",
       "        vertical-align: top;\n",
       "    }\n",
       "\n",
       "    .dataframe thead th {\n",
       "        text-align: right;\n",
       "    }\n",
       "</style>\n",
       "<table border=\"1\" class=\"dataframe\">\n",
       "  <thead>\n",
       "    <tr style=\"text-align: right;\">\n",
       "      <th>time</th>\n",
       "      <th>Lunch</th>\n",
       "      <th>Dinner</th>\n",
       "    </tr>\n",
       "    <tr>\n",
       "      <th>sex</th>\n",
       "      <th></th>\n",
       "      <th></th>\n",
       "    </tr>\n",
       "  </thead>\n",
       "  <tbody>\n",
       "    <tr>\n",
       "      <th>Male</th>\n",
       "      <td>33</td>\n",
       "      <td>124</td>\n",
       "    </tr>\n",
       "    <tr>\n",
       "      <th>Female</th>\n",
       "      <td>35</td>\n",
       "      <td>52</td>\n",
       "    </tr>\n",
       "  </tbody>\n",
       "</table>\n",
       "</div>"
      ],
      "text/plain": [
       "time    Lunch  Dinner\n",
       "sex                  \n",
       "Male       33     124\n",
       "Female     35      52"
      ]
     },
     "execution_count": 22,
     "metadata": {},
     "output_type": "execute_result"
    }
   ],
   "source": [
    "# 分割表を作成してみる。\n",
    "pd.crosstab(df[\"sex\"] , df[\"time\"])"
   ]
  },
  {
   "cell_type": "code",
   "execution_count": 18,
   "id": "b2508ed3-fcf3-40d5-90a7-14bef1b24c58",
   "metadata": {},
   "outputs": [
    {
     "data": {
      "text/plain": [
       "Index(['total_bill', 'tip', 'sex', 'smoker', 'day', 'time', 'size',\n",
       "       'tip_ratio'],\n",
       "      dtype='object')"
      ]
     },
     "execution_count": 18,
     "metadata": {},
     "output_type": "execute_result"
    }
   ],
   "source": [
    "df.columns"
   ]
  },
  {
   "cell_type": "code",
   "execution_count": 23,
   "id": "671d05cd-188f-433c-849c-ae768c1d72cf",
   "metadata": {},
   "outputs": [
    {
     "data": {
      "text/plain": [
       "(10.277251918677742,\n",
       " 0.0013468039268008766,\n",
       " 1,\n",
       " array([[ 43.75409836, 113.24590164],\n",
       "        [ 24.24590164,  62.75409836]]))"
      ]
     },
     "execution_count": 23,
     "metadata": {},
     "output_type": "execute_result"
    }
   ],
   "source": [
    "# カイ二乗値と期待度数を求める\n",
    "# 第１戻り値：カイ二乗値　 第4戻り値:期待度数\n",
    "cont_table = pd.crosstab(df[\"sex\"] , df[\"time\"])\n",
    "stats.chi2_contingency(cont_table , correction=False )"
   ]
  },
  {
   "cell_type": "markdown",
   "id": "29204ae0-113f-48f0-be4d-4609c82fc074",
   "metadata": {},
   "source": [
    "# 上記の値を確認すると、\n",
    "カイ二乗値:10.277251918677742\n",
    "期待度数値: array([[ 43.75409836, 113.24590164],\n",
    "        [ 24.24590164,  62.75409836]])"
   ]
  },
  {
   "cell_type": "code",
   "execution_count": null,
   "id": "f65e8e50-6ae9-40d7-aa0d-1ca5899c4464",
   "metadata": {},
   "outputs": [],
   "source": []
  },
  {
   "cell_type": "markdown",
   "id": "08b3d004-794f-4bd8-a73c-11bc0e6931a3",
   "metadata": {},
   "source": [
    "## クラメールの連関係数\n"
   ]
  },
  {
   "cell_type": "code",
   "execution_count": 30,
   "id": "23dfc34f-8675-41b1-b71b-49c4fed7e93b",
   "metadata": {},
   "outputs": [],
   "source": [
    "def cramers_v(x , y):\n",
    "    cont_table = pd.crosstab(x , y)\n",
    "    chi2 = stats.chi2_contingency(cont_table , correction=False )[0]\n",
    "    \n",
    "    min_count = min(cont_table.shape)\n",
    "    \n",
    "    return np.sqrt(chi2 / ((min_count -1) * len(y)))"
   ]
  },
  {
   "cell_type": "code",
   "execution_count": 31,
   "id": "1312fa45-af17-482b-8792-12cf5d637e67",
   "metadata": {},
   "outputs": [
    {
     "data": {
      "text/plain": [
       "0.20523129613344476"
      ]
     },
     "execution_count": 31,
     "metadata": {},
     "output_type": "execute_result"
    }
   ],
   "source": [
    "cramers_v(df[\"sex\"] , df[\"time\"])"
   ]
  },
  {
   "cell_type": "code",
   "execution_count": null,
   "id": "e99bf08a-0bfb-4452-b819-a9158a349997",
   "metadata": {},
   "outputs": [],
   "source": []
  },
  {
   "cell_type": "code",
   "execution_count": null,
   "id": "3ed43270-9aed-4386-b92a-53cf35c591c5",
   "metadata": {},
   "outputs": [],
   "source": []
  },
  {
   "cell_type": "code",
   "execution_count": null,
   "id": "b8f32329-43dd-481f-a549-465f1e4095b1",
   "metadata": {},
   "outputs": [],
   "source": []
  },
  {
   "cell_type": "code",
   "execution_count": null,
   "id": "c466d0d6-0bac-478d-bc93-357d1e29a01c",
   "metadata": {},
   "outputs": [],
   "source": []
  }
 ],
 "metadata": {
  "kernelspec": {
   "display_name": "Python 3 (ipykernel)",
   "language": "python",
   "name": "python3"
  },
  "language_info": {
   "codemirror_mode": {
    "name": "ipython",
    "version": 3
   },
   "file_extension": ".py",
   "mimetype": "text/x-python",
   "name": "python",
   "nbconvert_exporter": "python",
   "pygments_lexer": "ipython3",
   "version": "3.9.7"
  }
 },
 "nbformat": 4,
 "nbformat_minor": 5
}
