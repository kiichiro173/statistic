{
 "cells": [
  {
   "cell_type": "markdown",
   "id": "c4962ffc-036c-4c5b-9a57-ead2cf2f39c7",
   "metadata": {},
   "source": [
    "# 母集団の正規性と等分散性の検定\n",
    "\n",
    "## 母集団が正規分布かの検定\n",
    "シャピロ・ウィルク検定：  \n",
    "帰無仮説：母集団が正規分布に従う  \n",
    "対立仮説：母集団が正規分布に従わない  \n",
    "→今回は正規分布に従うかどうかを確認したいので、帰無仮説を棄却することを狙っているわけではない。\n",
    "\n",
    "このシャピロ・ウィルクの検定はQQプロットを使用した検定になる。  \n",
    "QQプロット→得られたデータが正規分布に従っているかどうかを確認する。  \n",
    "→直線であればあるほど正規分布に近い形であると言える。  \n",
    "\n",
    "シャピロ・ウィルク検定（注意：これは外れ値に影響を受けやすいため、直線に見えていたとしても外れ値がいくつかあることによって帰無仮説が棄却されやすい。）　　\n",
    "→QQプロットにおいて、どれくらい直線からずれているかを検定する。\n",
    "検定統計量→W（標本の順序統計量と正規分布の順序統計量の期待値の相関を検定統計量にする。）  \n",
    "\n",
    "\n",
    "\n",
    "## 等分散性の検定\n",
    "F検定（不偏分散の大きい方の値を分子に置く事が一般的。どちらを分子に置くかによってまた判断が異なるので注意が必要）：  \n",
    "$F=\\frac{s^2_1}{s^2_2}$ = $\\frac{\\frac{1}{n_1 - 1}\\chi^2_1}{\\frac{1}{n_2 - 1}\\chi^2_2}$  \n",
    "F検定は母集団が正規分布であることを前提に行っている。  \n",
    "この検定統計量のFはF分布に従う.  \n",
    "このF値は自由度が二つある.自由度:($n_1 - 1$,$n_2 - 1$)\n",
    "\n",
    "\n",
    "帰無仮説：分散に差がない\n",
    "対立仮説：分散に差がある"
   ]
  },
  {
   "cell_type": "code",
   "execution_count": 3,
   "id": "dc51eacf-d469-4586-a644-cddac2781e37",
   "metadata": {},
   "outputs": [],
   "source": [
    "import numpy as np\n",
    "import pandas as pd\n",
    "import seaborn as sns\n",
    "from scipy import stats\n",
    "import matplotlib.pyplot as plt\n",
    "from statsmodels.stats.proportion import proportions_ztest\n",
    "from statsmodels.api import qqplot\n",
    "%matplotlib inline\n",
    "df = sns.load_dataset(\"tips\")\n",
    "df[\"tip_rate\"] = df[\"tip\"] / df[\"total_bill\"]"
   ]
  },
  {
   "cell_type": "code",
   "execution_count": null,
   "id": "443cb8e2-40a0-4f0a-b673-7bf98183f496",
   "metadata": {},
   "outputs": [],
   "source": []
  },
  {
   "cell_type": "markdown",
   "id": "28605b36-5723-45dc-9465-27c8e8e21763",
   "metadata": {},
   "source": [
    "# QQプロットを作成する。\n"
   ]
  },
  {
   "cell_type": "code",
   "execution_count": 22,
   "id": "e00cfa24-4c77-454d-8d2f-8b51c7758044",
   "metadata": {},
   "outputs": [],
   "source": [
    "male_tip_rate = df[df[\"sex\"] == \"Male\"][\"tip_rate\"]\n",
    "female_tip_rate = df[df[\"sex\"] == \"Female\"][\"tip_rate\"]"
   ]
  },
  {
   "cell_type": "code",
   "execution_count": 23,
   "id": "bfdefd46-cf91-4eb0-ad4f-48b00eb8a309",
   "metadata": {},
   "outputs": [
    {
     "name": "stderr",
     "output_type": "stream",
     "text": [
      "/opt/anaconda3/lib/python3.9/site-packages/statsmodels/graphics/gofplots.py:993: UserWarning: marker is redundantly defined by the 'marker' keyword argument and the fmt string \"bo\" (-> marker='o'). The keyword argument will take precedence.\n",
      "  ax.plot(x, y, fmt, **plot_style)\n"
     ]
    },
    {
     "data": {
      "image/png": "[encoded data removed]",
      "text/plain": [
       "<Figure size 432x288 with 1 Axes>"
      ]
     },
     "metadata": {
      "needs_background": "light"
     },
     "output_type": "display_data"
    }
   ],
   "source": [
    "fig = qqplot(male_tip_rate,line=\"r\")\n",
    "# 下の図を見てみると正規分布に従っていそう"
   ]
  },
  {
   "cell_type": "code",
   "execution_count": null,
   "id": "ef0e9b40-0710-459d-aa7a-ac2cbcac9714",
   "metadata": {},
   "outputs": [],
   "source": []
  },
  {
   "cell_type": "markdown",
   "id": "9268e0fb-7516-4451-b2f0-b990061872a8",
   "metadata": {},
   "source": [
    "# シャピロ・ウィルク検定\n",
    "stats.shapiro(x)\n",
    "- データに正規性があるのかを検定する\n",
    "- 第一戻り値は検定統計値\n",
    "- 第二戻り値はp値"
   ]
  },
  {
   "cell_type": "code",
   "execution_count": 24,
   "id": "322a8c06-a8a1-4cb3-b48c-99b648a1de8e",
   "metadata": {},
   "outputs": [
    {
     "data": {
      "text/plain": [
       "ShapiroResult(statistic=0.7447847127914429, pvalue=3.2243281107541917e-15)"
      ]
     },
     "execution_count": 24,
     "metadata": {},
     "output_type": "execute_result"
    }
   ],
   "source": [
    "# 以下の結果からp値は限りなく小さいので、帰無仮説を棄却する事ができる。→つまり、正規分布ではない。\n",
    "stats.shapiro(male_tip_rate)"
   ]
  },
  {
   "cell_type": "code",
   "execution_count": null,
   "id": "2d45ee0d-114a-473f-a841-c77cb2f8ea05",
   "metadata": {},
   "outputs": [],
   "source": []
  },
  {
   "cell_type": "markdown",
   "id": "0b43ca8d-e4f1-4844-bc38-77fccb926716",
   "metadata": {},
   "source": [
    "## F検定\n"
   ]
  },
  {
   "cell_type": "code",
   "execution_count": 25,
   "id": "4034c2af-a48d-413f-8a91-d29547541ab4",
   "metadata": {},
   "outputs": [
    {
     "name": "stdout",
     "output_type": "stream",
     "text": [
      "1.4588472200534603\n"
     ]
    }
   ],
   "source": [
    "# 男性と女性の母集団の分散に差があるのかを確認する、\n",
    "# 不偏分散を求める\n",
    "n1 = len(male_tip_rate)\n",
    "n2 = len(female_tip_rate)\n",
    "dfn = n1 - 1\n",
    "dfd = n2 -1\n",
    "var1 = stats.tvar(male_tip_rate)\n",
    "var2 = stats.tvar(female_tip_rate)\n",
    "# 以下のf値がどのくらいの確率で得られるのかを確認する。\n",
    "f = var1/var2\n",
    "print(f)"
   ]
  },
  {
   "cell_type": "code",
   "execution_count": 28,
   "id": "006f75e9-ff65-4bea-8872-70c14d848c69",
   "metadata": {},
   "outputs": [
    {
     "data": {
      "text/plain": [
       "0.027100863454374447"
      ]
     },
     "execution_count": 28,
     "metadata": {},
     "output_type": "execute_result"
    }
   ],
   "source": [
    "# 以下は上記で求めらfの値から右側の面積がf分布においてどのくらいかを表している。\n",
    "stats.f(dfn=dfn , dfd=dfd).sf(f)\n",
    "\n",
    "# 0.05より有意水準よりも小さいため、結果として等分散性はない\n",
    "# つまり、ウェルチの検定を使用する。"
   ]
  },
  {
   "cell_type": "code",
   "execution_count": null,
   "id": "0c2c5516-a8b3-42de-b550-adf0fb94398e",
   "metadata": {},
   "outputs": [],
   "source": []
  },
  {
   "cell_type": "code",
   "execution_count": null,
   "id": "553c9dca-f8bd-4adf-8f38-8bc708b624d9",
   "metadata": {},
   "outputs": [],
   "source": []
  }
 ],
 "metadata": {
  "kernelspec": {
   "display_name": "Python 3 (ipykernel)",
   "language": "python",
   "name": "python3"
  },
  "language_info": {
   "codemirror_mode": {
    "name": "ipython",
    "version": 3
   },
   "file_extension": ".py",
   "mimetype": "text/x-python",
   "name": "python",
   "nbconvert_exporter": "python",
   "pygments_lexer": "ipython3",
   "version": "3.9.7"
  }
 },
 "nbformat": 4,
 "nbformat_minor": 5
}
