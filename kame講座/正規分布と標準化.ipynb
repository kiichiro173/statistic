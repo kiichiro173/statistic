{
 "cells": [
  {
   "cell_type": "markdown",
   "id": "56fb0480-51fa-4da3-b021-93948ad0b209",
   "metadata": {},
   "source": [
    "## 正規分布と標準化に関して\n",
    "正規分布に関して\n",
    "平均μ、分散σ^2\n",
    "μ±σ 68%,μ±2σ 95%,μ±3σ 99%\n",
    "\n",
    "標準化\n",
    "→平均０、分散１にすること→Z得点\n",
    "→標準化することによって尺度を揃える事ができる。それにより比較する事が可能\n",
    "→z=(x - 平均)/標準偏差\n",
    "\n",
    "\n",
    "二項分布のnを無限大にした分布は正規分布に近似する。\n",
    "平均np,分散npq\n",
    "Xがでる確率pをn回行っていく。"
   ]
  },
  {
   "cell_type": "code",
   "execution_count": 4,
   "id": "5fcad96f-dadc-4d7f-a17d-8fe84bc819bf",
   "metadata": {},
   "outputs": [],
   "source": [
    "import numpy as np\n",
    "import pandas as pd\n",
    "import seaborn as sns\n",
    "from scipy import stats\n",
    "import matplotlib.pyplot as plt\n",
    "%matplotlib inline"
   ]
  },
  {
   "cell_type": "code",
   "execution_count": 5,
   "id": "6a2ef01d-ab7d-4dc9-9ba8-389ae7a521c0",
   "metadata": {},
   "outputs": [],
   "source": [
    "df = sns.load_dataset(\"tips\")\n",
    "df[\"tip_rate\"] = df[\"tip\"] / df[\"total_bill\"]\n"
   ]
  },
  {
   "cell_type": "code",
   "execution_count": 6,
   "id": "32fe4ed8-3b75-4da4-b827-4a03100de599",
   "metadata": {},
   "outputs": [],
   "source": [
    "## 平均４標準偏差３の正規分布からランダムに値1000個取得\n",
    "c = np.random.normal(\n",
    "    loc   = 4,      # 平均\n",
    "    scale = 3,    # 標準偏差\n",
    "    size  = 1000,# 出力配列のサイズ(タプルも可)\n",
    ")"
   ]
  },
  {
   "cell_type": "code",
   "execution_count": 7,
   "id": "cc1ca16e-ef1a-493e-ba4b-3ada6f0d7128",
   "metadata": {},
   "outputs": [
    {
     "name": "stdout",
     "output_type": "stream",
     "text": [
      "0.699\n",
      "0.948\n",
      "0.997\n"
     ]
    }
   ],
   "source": [
    "group1 = []\n",
    "group2=[]\n",
    "group3=[]\n",
    "loc = 4\n",
    "scale = 3 \n",
    "\n",
    "for i in c:\n",
    "    if loc - scale < i < loc + scale:\n",
    "        group1.append(i)\n",
    "    if loc - 2*scale < i < loc + 2*scale:\n",
    "        group2.append(i)\n",
    "    if loc - 3*scale < i < loc + 3*scale:\n",
    "        group3.append(i)\n",
    "\n",
    "print(len(group1)/1000)\n",
    "print(len(group2)/1000)\n",
    "print(len(group3)/1000)\n",
    "        "
   ]
  },
  {
   "cell_type": "code",
   "execution_count": null,
   "id": "faf0c5c3-0894-40d2-8d66-261c0e63fad0",
   "metadata": {},
   "outputs": [],
   "source": []
  },
  {
   "cell_type": "markdown",
   "id": "8c1cfd32-e6ff-44cd-a6c3-f8f3fc4d0c96",
   "metadata": {},
   "source": [
    "## 二項分布が正規分布に近づくことの確認\n"
   ]
  },
  {
   "cell_type": "code",
   "execution_count": 18,
   "id": "b3557778-6049-4323-a296-ba6fa831bbcf",
   "metadata": {},
   "outputs": [
    {
     "data": {
      "text/plain": [
       "[<matplotlib.lines.Line2D at 0x7f26fc837bb0>]"
      ]
     },
     "execution_count": 18,
     "metadata": {},
     "output_type": "execute_result"
    },
    {
     "data": {
      "image/png": "[encoded data removed]",
      "text/plain": [
       "<Figure size 432x288 with 1 Axes>"
      ]
     },
     "metadata": {
      "needs_background": "light"
     },
     "output_type": "display_data"
    }
   ],
   "source": [
    "# 確率\n",
    "p = 0.5\n",
    "# 試行回数\n",
    "N = 60\n",
    "# 試行回数中の発生回数 (配列)   \n",
    "k = np.arange(N+1)\n",
    "\n",
    "stats.binom.pmf(k, N, p)\n",
    "\n",
    "plt.plot(k, stats.binom.pmf(k, N, p))"
   ]
  },
  {
   "cell_type": "code",
   "execution_count": null,
   "id": "ee194a08-65d8-47eb-b426-bb9a218c4fed",
   "metadata": {},
   "outputs": [],
   "source": []
  },
  {
   "cell_type": "code",
   "execution_count": null,
   "id": "6440b613-76b3-427a-90fc-0fbb58984ef5",
   "metadata": {},
   "outputs": [],
   "source": []
  },
  {
   "cell_type": "code",
   "execution_count": null,
   "id": "a0823527-e509-4280-b493-972ed118dc8c",
   "metadata": {},
   "outputs": [],
   "source": []
  },
  {
   "cell_type": "code",
   "execution_count": null,
   "id": "269ed1ec-8ee7-4750-a91b-93893fa1b9a5",
   "metadata": {},
   "outputs": [],
   "source": []
  },
  {
   "cell_type": "code",
   "execution_count": null,
   "id": "bb58f228-b5ee-4b78-bfd0-820ce8654e1a",
   "metadata": {},
   "outputs": [],
   "source": []
  },
  {
   "cell_type": "code",
   "execution_count": null,
   "id": "12776d80-4572-44f7-829e-4ff77f4d092d",
   "metadata": {},
   "outputs": [],
   "source": []
  },
  {
   "cell_type": "code",
   "execution_count": null,
   "id": "285f370c-b99a-41ed-8967-a7e87f51c470",
   "metadata": {},
   "outputs": [],
   "source": []
  },
  {
   "cell_type": "code",
   "execution_count": null,
   "id": "66d5b3b6-c114-40bb-b9c9-b2992aeee958",
   "metadata": {},
   "outputs": [],
   "source": []
  },
  {
   "cell_type": "code",
   "execution_count": null,
   "id": "69d5173d-443b-41c0-85a7-920c5243cff3",
   "metadata": {},
   "outputs": [],
   "source": []
  },
  {
   "cell_type": "code",
   "execution_count": null,
   "id": "6330f0c4-b5d3-4369-aa50-c8fca8c37fac",
   "metadata": {},
   "outputs": [],
   "source": []
  },
  {
   "cell_type": "code",
   "execution_count": null,
   "id": "6b59f401-5374-4a31-b65e-2a6bba44b661",
   "metadata": {},
   "outputs": [],
   "source": []
  },
  {
   "cell_type": "code",
   "execution_count": null,
   "id": "24c15e06-7651-4cff-9c20-1cea34fa98f5",
   "metadata": {},
   "outputs": [],
   "source": []
  },
  {
   "cell_type": "code",
   "execution_count": null,
   "id": "d3a1607f-ed40-49a8-9543-a2a5908da283",
   "metadata": {},
   "outputs": [],
   "source": []
  },
  {
   "cell_type": "code",
   "execution_count": null,
   "id": "04370b25-6142-4381-8455-e27fc8c6d3bc",
   "metadata": {},
   "outputs": [],
   "source": []
  },
  {
   "cell_type": "code",
   "execution_count": null,
   "id": "1c0a9644-7771-4246-89b2-535bc49fdc3e",
   "metadata": {},
   "outputs": [],
   "source": []
  },
  {
   "cell_type": "code",
   "execution_count": null,
   "id": "fb5f9175-dc07-4757-a36f-0784e13cd545",
   "metadata": {},
   "outputs": [],
   "source": []
  },
  {
   "cell_type": "code",
   "execution_count": null,
   "id": "6847bbf5-2663-43ca-89a8-6a2fbd580494",
   "metadata": {},
   "outputs": [],
   "source": []
  },
  {
   "cell_type": "code",
   "execution_count": null,
   "id": "a4b6035b-4e3d-4c2d-801d-e743c47d1ce1",
   "metadata": {},
   "outputs": [],
   "source": []
  },
  {
   "cell_type": "code",
   "execution_count": null,
   "id": "9a6ed039-073e-465b-8786-6516bbe618a5",
   "metadata": {},
   "outputs": [],
   "source": []
  },
  {
   "cell_type": "code",
   "execution_count": null,
   "id": "dffd52aa-52c8-40c9-a125-cd5dac2ddfe1",
   "metadata": {},
   "outputs": [],
   "source": []
  },
  {
   "cell_type": "code",
   "execution_count": null,
   "id": "de5021f0-3158-45ba-b6a0-00f066639ed6",
   "metadata": {},
   "outputs": [],
   "source": []
  },
  {
   "cell_type": "code",
   "execution_count": null,
   "id": "79a06509-663c-4751-9654-5beab9a011f6",
   "metadata": {},
   "outputs": [],
   "source": []
  },
  {
   "cell_type": "code",
   "execution_count": null,
   "id": "bf841829-c3e5-4ac3-ad8f-cdd0b4bc27dc",
   "metadata": {},
   "outputs": [],
   "source": []
  },
  {
   "cell_type": "code",
   "execution_count": null,
   "id": "72f3359b-37d7-4539-ba96-7bdf0a5baa79",
   "metadata": {},
   "outputs": [],
   "source": []
  },
  {
   "cell_type": "code",
   "execution_count": null,
   "id": "686a858a-50f1-4312-ad42-97f2031b54d7",
   "metadata": {},
   "outputs": [],
   "source": []
  },
  {
   "cell_type": "code",
   "execution_count": null,
   "id": "8d319de8-d43a-41ea-b7c1-b11862f1c8ac",
   "metadata": {},
   "outputs": [],
   "source": []
  },
  {
   "cell_type": "code",
   "execution_count": null,
   "id": "f9b07422-2208-4003-b2af-95bc3319e0d9",
   "metadata": {},
   "outputs": [],
   "source": []
  },
  {
   "cell_type": "code",
   "execution_count": null,
   "id": "5dfc7892-d038-4f5d-a7e2-eedcf52a98eb",
   "metadata": {},
   "outputs": [],
   "source": []
  },
  {
   "cell_type": "code",
   "execution_count": null,
   "id": "910258fd-93b7-4861-9644-b319f8e4f915",
   "metadata": {},
   "outputs": [],
   "source": []
  },
  {
   "cell_type": "code",
   "execution_count": null,
   "id": "e8723006-8dd9-4099-bbcb-a167234d2ce5",
   "metadata": {},
   "outputs": [],
   "source": []
  },
  {
   "cell_type": "code",
   "execution_count": null,
   "id": "06e4043c-62fa-4904-aa45-62187907f185",
   "metadata": {},
   "outputs": [],
   "source": []
  }
 ],
 "metadata": {
  "kernelspec": {
   "display_name": "Python 3 (ipykernel)",
   "language": "python",
   "name": "python3"
  },
  "language_info": {
   "codemirror_mode": {
    "name": "ipython",
    "version": 3
   },
   "file_extension": ".py",
   "mimetype": "text/x-python",
   "name": "python",
   "nbconvert_exporter": "python",
   "pygments_lexer": "ipython3",
   "version": "3.9.7"
  }
 },
 "nbformat": 4,
 "nbformat_minor": 5
}
